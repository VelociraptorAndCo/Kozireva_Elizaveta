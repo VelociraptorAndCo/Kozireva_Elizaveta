{
  "cells": [
    {
      "cell_type": "markdown",
      "id": "53f961f6",
      "metadata": {
        "id": "53f961f6"
      },
      "source": [
        "### Наивный байесовский классификатор"
      ]
    },
    {
      "cell_type": "markdown",
      "id": "6469b1ed",
      "metadata": {
        "id": "6469b1ed"
      },
      "source": [
        "$$P(y | x_1,x_2,...,x_n) = \\frac{P(y) P(x_1,x_2,...,x_n|y)}{P(x_1,x_2,...,x_n)} $$"
      ]
    },
    {
      "cell_type": "markdown",
      "id": "c53a21ac",
      "metadata": {
        "id": "c53a21ac"
      },
      "source": [
        "В силу 'наивного' предположения о независимости признаков $x_1,x_2,..,x_n$ получаем:"
      ]
    },
    {
      "cell_type": "markdown",
      "id": "3dd04fe9",
      "metadata": {
        "id": "3dd04fe9"
      },
      "source": [
        "$$ P(y | x_1,x_2,...,x_n) = \\frac{P(y) \\prod\\limits_{i=1}^{n}P(x_i| y)}{P(x_1,x_2,...,x_n)} $$"
      ]
    },
    {
      "cell_type": "markdown",
      "id": "17d056e7",
      "metadata": {
        "id": "17d056e7"
      },
      "source": [
        "Откуда следует, что"
      ]
    },
    {
      "cell_type": "markdown",
      "id": "25940a61",
      "metadata": {
        "id": "25940a61"
      },
      "source": [
        "$$ P(y | x_1,x_2,...,x_n) \\propto P(y) \\prod\\limits_{i=1}^{n}P(x_i| y) $$"
      ]
    },
    {
      "cell_type": "markdown",
      "id": "5574ad39",
      "metadata": {
        "id": "5574ad39"
      },
      "source": [
        "$$\\hat{y} = arg \\max_{y} P(y) \\prod\\limits_{i=1}^{n}P(x_i| y) $$"
      ]
    },
    {
      "cell_type": "markdown",
      "id": "a51cd991",
      "metadata": {
        "id": "a51cd991"
      },
      "source": [
        "В данном задании будем предполагать, что"
      ]
    },
    {
      "cell_type": "markdown",
      "id": "880be0dd",
      "metadata": {
        "id": "880be0dd"
      },
      "source": [
        "$$ P(x_i | y) = P(x_i =1 | y) x_i + (1 - P(x_i =1 | y)) (1 - x_i), $$"
      ]
    },
    {
      "cell_type": "markdown",
      "id": "df6f5439",
      "metadata": {
        "id": "df6f5439"
      },
      "source": [
        "где $ p_y = P(x_i =1 | y)$ считается по оценке максимального правдобия."
      ]
    },
    {
      "cell_type": "markdown",
      "id": "5bc9d663",
      "metadata": {
        "id": "5bc9d663"
      },
      "source": [
        "### Задание"
      ]
    },
    {
      "cell_type": "markdown",
      "id": "c362d3e0",
      "metadata": {
        "id": "c362d3e0"
      },
      "source": [
        "Необходимо реализовать наивный байесовский классификтор для нормального распределения.\n",
        "Сам код необходимо оформить и отправить боту в виде класса MyBernoulliNBClassifier в файле seminar03.py\n"
      ]
    },
    {
      "cell_type": "code",
      "execution_count": null,
      "id": "b556c4c4",
      "metadata": {
        "id": "b556c4c4"
      },
      "outputs": [],
      "source": [
        "import numpy as np\n",
        "\n",
        "class MyBernoulliNBClassifier():\n",
        "    def __init__(self, priors=None):\n",
        "        pass\n",
        "\n",
        "    @staticmethod\n",
        "    def p(y,c):\n",
        "        return np.count_nonzero(y == c) / len(y)\n",
        "\n",
        "    def pxiy(self, x, c):\n",
        "        P = self.pclass[c]\n",
        "        for j,r in enumerate(x):\n",
        "            P *= (self.param[c][j] * x[j]) + ((1-self.param[c][j]) * (1-x[j]))\n",
        "        return P\n",
        "\n",
        "    def maxprav(self, X, y, c):\n",
        "        s = [0.0] * len(X[0])\n",
        "        for j,r in enumerate(y):\n",
        "            if y[j]==c:\n",
        "                for k,t in enumerate(X[j]):\n",
        "                    s[k]+=X[j][k]\n",
        "        for j,r in enumerate(s):\n",
        "            s[j]=s[j] / (len(y)*self.p(y,c))\n",
        "        return s\n",
        "\n",
        "    def fit(self, X, y):\n",
        "        self.classes = list(set(y))\n",
        "        self.pclass = [self.p(y,c) for c in self.classes]\n",
        "        self.param = [self.maxprav(X,y,c) for c in self.classes]\n",
        "\n",
        "\n",
        "    def predict(self, X):\n",
        "        result = []\n",
        "        for x in X:\n",
        "            arg = np.argmax(np.array([self.pxiy(x,i) for i,cl in enumerate(self.classes)]))\n",
        "            result.append(self.classes[arg])\n",
        "        return np.array(result)\n",
        "\n",
        "    def predict_proba(self, X):\n",
        "        result = []\n",
        "        for x in X:\n",
        "            px = 0.0\n",
        "            for i,cl in enumerate(self.classes):\n",
        "                px += self.pxiy(x,i)\n",
        "            vec = [pxiy(x,i)/px for i,cl in enumerate(self.classes)]\n",
        "            result.append(np.array(vec))\n",
        "        return np.array(result)\n",
        "\n",
        "    def score(self, X, y):\n",
        "        pred = self.predict(X)\n",
        "        return np.count_nonzero(y == pred)/len(y)\n",
        "\n",
        ""
      ]
    },
    {
      "cell_type": "markdown",
      "id": "d79fab4b",
      "metadata": {
        "id": "d79fab4b"
      },
      "source": [
        "Ваша реализация дожна поддерживать методы predict, predict_proba, score аналоично методам класса sklearn.naive_bayes.BernoulliNB при alpha=0"
      ]
    },
    {
      "cell_type": "code",
      "execution_count": null,
      "id": "3976055b",
      "metadata": {
        "colab": {
          "base_uri": "https://localhost:8080/"
        },
        "id": "3976055b",
        "outputId": "6addcf15-3fe7-4065-aced-aca05d1b7ffc"
      },
      "outputs": [
        {
          "output_type": "stream",
          "name": "stdout",
          "text": [
            "True\n",
            "0.32\n",
            "0.32\n"
          ]
        }
      ],
      "source": [
        "from sklearn.naive_bayes import BernoulliNB\n",
        "import numpy as np\n",
        "\n",
        "X = np.random.randint(2, size=(9, 3))\n",
        "Y = np.array([1, 2, 3, 2, 3, 1, 3, 1, 2])\n",
        "\n",
        "clf = BernoulliNB()\n",
        "c = MyBernoulliNBClassifier()\n",
        "clf.fit(X, Y)\n",
        "c.fit(X, Y)\n",
        "\n",
        "Xtest=np.random.randint(2, size=(50, 3))\n",
        "Ytest=np.random.randint(3, size=50)\n",
        "\n",
        "print(np.all(clf.predict(Xtest) == c.predict(Xtest)))\n",
        "#print(clf.predict(Xtest) == c.predict(Xtest))\n",
        "print(clf.score(Xtest,Ytest))\n",
        "print(c.score(Xtest,Ytest))"
      ]
    }
  ],
  "metadata": {
    "kernelspec": {
      "display_name": "Python 3 (ipykernel)",
      "language": "python",
      "name": "python3"
    },
    "language_info": {
      "codemirror_mode": {
        "name": "ipython",
        "version": 3
      },
      "file_extension": ".py",
      "mimetype": "text/x-python",
      "name": "python",
      "nbconvert_exporter": "python",
      "pygments_lexer": "ipython3",
      "version": "3.9.7"
    },
    "colab": {
      "provenance": []
    }
  },
  "nbformat": 4,
  "nbformat_minor": 5
}