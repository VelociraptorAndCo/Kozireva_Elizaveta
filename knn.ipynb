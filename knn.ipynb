{
  "cells": [
    {
      "cell_type": "markdown",
      "metadata": {
        "id": "xakepBGVD-i7"
      },
      "source": [
        "### Задание"
      ]
    },
    {
      "cell_type": "markdown",
      "metadata": {
        "id": "1SqlapiED-i_"
      },
      "source": [
        "Реализуйте алгоритм классификации метод k ближайших соседей.\n",
        "\n",
        "Требования к коду:\n",
        "* Код должен быть хорошо структурирован\n",
        "* Код должен быть эффективен\n",
        "* Имплементация должна быть максимально векторизованной и, где это возможно, не использовать циклы\n",
        "\n",
        "Необходимо реализовать класс KnnBruteClassifier, с реализацией прототипа, представленного ниже.\n",
        "\n",
        "Должна быть реализована поддержка метрики расстояния L2 (параметр metric) и параметр weights типа 'uniform' и 'distance'.\n",
        "\n",
        "В качестве входного файла необходимо использовать файл \"knn_data_XXX.npy\", полученный от бота командой /get seminar04\n",
        "\n",
        "В качестве решения необходимо отправить боту, указав seminar04 в поле caption,  следующие файлы:\n",
        "* knn.ipynb - содержит класс, реализующий ваш алгоритм\n",
        "* results.npy - файл с результатами тестов, который можно будет сгенерировать с помощью этого ноутбука\n",
        "\n",
        "Для проверки решения после отправки необходимо отправить боту следующую команду:\n",
        "/check seminar04\n",
        "\n",
        "В случае возникновения вопросов по интерфейсу смотрите детали реализации класса sklearn.neighbors.KNeighborsClassifier\n",
        "https://scikit-learn.org/stable/modules/generated/sklearn.neighbors.KNeighborsClassifier.html"
      ]
    },
    {
      "cell_type": "code",
      "execution_count": null,
      "metadata": {
        "id": "WIWz4VAXD-jC"
      },
      "outputs": [],
      "source": [
        "import numpy as np"
      ]
    },
    {
      "cell_type": "code",
      "execution_count": null,
      "metadata": {
        "id": "_GQz7D9lD-jD"
      },
      "outputs": [],
      "source": [
        "class KnnBruteClassifier(object):\n",
        "    '''Классификатор реализует взвешенное голосование по ближайшим соседям.\n",
        "    Поиск ближайшего соседа осуществляется полным перебором.\n",
        "    Параметры\n",
        "    ----------\n",
        "    n_neighbors : int, optional\n",
        "        Число ближайших соседей, учитывающихся в голосовании\n",
        "    weights : str, optional (default = 'uniform')\n",
        "        веса, используемые в голосовании. Возможные значения:\n",
        "        - 'uniform' : все веса равны.\n",
        "        - 'distance' : веса обратно пропорциональны расстоянию до классифицируемого объекта\n",
        "        -  функция, которая получает на вход массив расстояний и возвращает массив весов\n",
        "    metric: функция подсчета расстояния (по умолчанию l2).\n",
        "    '''\n",
        "    def __init__(self, n_neighbors=1, weights='uniform', metric=\"l2\"):\n",
        "        self.n_neighbors = n_neighbors\n",
        "        self.weights = weights\n",
        "        self.metric = metric\n",
        "        if metric == \"l2\": self.dist = lambda a,b: np.sqrt( np.sum((a-b)**2))\n",
        "        pass\n",
        "\n",
        "    def fit(self, x, y):\n",
        "        '''Обучение модели.\n",
        "        Парметры\n",
        "        ----------\n",
        "        x : двумерным массив признаков размера n_queries x n_features\n",
        "        y : массив/список правильных меток размера n_queries\n",
        "        Выход\n",
        "        -------\n",
        "        Метод возвращает обученную модель\n",
        "        '''\n",
        "        self.x = x\n",
        "        self.y = y\n",
        "        self.classes = np.unique(y)\n",
        "        return self\n",
        "\n",
        "    def predict(self, x):\n",
        "        \"\"\" Предсказание класса для входных объектов\n",
        "        Параметры\n",
        "        ----------\n",
        "        X : двумерным массив признаков размера n_queries x n_features\n",
        "        Выход\n",
        "        -------\n",
        "        y : Массив размера n_queries\n",
        "        \"\"\"\n",
        "        y = np.zeros(len(x))\n",
        "        neigh_dist, neigh_indarray = self.kneighbors(x, self.n_neighbors)\n",
        "\n",
        "        classind = lambda i: np.where(self.classes == self.y[int(i)])\n",
        "\n",
        "        neigh_class_ind = np.array([[classind(i) for i in v] for v in neigh_indarray])\n",
        "\n",
        "        if self.weights == 'uniform':\n",
        "          for idx, v in enumerate(neigh_class_ind):\n",
        "            amounts = np.zeros(len(self.classes))\n",
        "            for i in v:\n",
        "              amounts[i]+=1\n",
        "            ans = self.classes[np.argmax(amounts)]\n",
        "            y[idx] = ans\n",
        "        elif self.weights == 'distance':\n",
        "          for idx, v in enumerate(neigh_class_ind):\n",
        "            amounts = np.zeros(len(self.classes))\n",
        "            for k, i in enumerate(v):\n",
        "              amounts[i] += 1 / neigh_dist[idx,k]\n",
        "            ans = self.classes[np.argmax(amounts)]\n",
        "            y[idx] = ans\n",
        "        return y\n",
        "\n",
        "\n",
        "    def predict_proba(self, X):\n",
        "        \"\"\"Возвращает вероятности классов для входных объектов\n",
        "        Параметры\n",
        "        ----------\n",
        "        X : двумерным массив признаков размера n_queries x n_features\n",
        "        Выход\n",
        "        -------\n",
        "        p : массив размера n_queries x n_classes] c вероятностями принадлежности\n",
        "        объекта к каждому классу\n",
        "        \"\"\"\n",
        "        p = np.zeros((len(X), len(self.classes)))\n",
        "        for i, cl in enumerate(self.predict(X)):\n",
        "         clidx = np.where(self.classes == cl)\n",
        "         p[i,clidx] += 1\n",
        "\n",
        "        return p\n",
        "\n",
        "\n",
        "    def kneighbors(self, x, n_neighbors):\n",
        "        \"\"\"Возвращает n_neighbors ближайших соседей для всех входных объектов и расстояния до них\n",
        "        Параметры\n",
        "        ----------\n",
        "        X : двумерным массив признаков размера n_queries x n_features\n",
        "        Выход\n",
        "        -------\n",
        "        neigh_dist массив размера n_queries х n_neighbors\n",
        "        расстояния до ближайших элементов\n",
        "        neigh_indarray, массив размера n_queries x n_neighbors\n",
        "        индексы ближайших элементов\n",
        "        \"\"\"\n",
        "        neigh_dist = np.zeros((len(x), n_neighbors))\n",
        "        neigh_indarray = np.zeros((len(x), n_neighbors))\n",
        "\n",
        "        for i,v in enumerate(x):\n",
        "          distance = np.array([self.dist(v,a) for a in self.x])#len = len(self.x)\n",
        "          neighbors = np.argsort(distance)[:n_neighbors]\n",
        "          neighbors_distances = distance[neighbors]\n",
        "\n",
        "          neigh_indarray[i] = neighbors\n",
        "          neigh_dist[i] = neighbors_distances\n",
        "\n",
        "        return neigh_dist, neigh_indarray"
      ]
    },
    {
      "cell_type": "code",
      "execution_count": null,
      "metadata": {
        "id": "T-I-g1iDD-jG"
      },
      "outputs": [],
      "source": [
        "def load_file(filename):\n",
        "    \"\"\"\n",
        "    TODO: Необходимо загрузить файл задания и вернуть словарь с ключами \"X_train\", \"X_test\", \"y_train\"\n",
        "    \"\"\"\n",
        "    data = np.load(filename, allow_pickle=True)\n",
        "    return data.item()\n",
        "    #return np.load(filename, allow_pickle=True)\n",
        "    #return {\"X_train\": X_train , \"X_test\": X_test , \"y_train\": y_train }"
      ]
    },
    {
      "cell_type": "code",
      "execution_count": null,
      "metadata": {
        "id": "EOX3_7lnD-jG"
      },
      "outputs": [],
      "source": [
        "input_filename = \"/content/knn_data_039.npy\" #TODO задать путь к входному файлу\n",
        "data_dict = load_file(input_filename)\n"
      ]
    },
    {
      "cell_type": "code",
      "source": [
        "from sklearn.neighbors import KNeighborsClassifier"
      ],
      "metadata": {
        "id": "6FGkinFnugsU"
      },
      "execution_count": null,
      "outputs": []
    },
    {
      "cell_type": "code",
      "execution_count": null,
      "metadata": {
        "id": "c1yPQfspD-jH",
        "colab": {
          "base_uri": "https://localhost:8080/"
        },
        "outputId": "0151c0ab-f017-4d22-9aff-368927fb4efb"
      },
      "outputs": [
        {
          "output_type": "stream",
          "name": "stdout",
          "text": [
            "[[ True  True  True  True  True]\n",
            " [ True  True  True  True  True]\n",
            " [ True  True  True  True  True]\n",
            " ...\n",
            " [ True  True  True  True  True]\n",
            " [ True  True  True  True  True]\n",
            " [ True  True  True  True  True]]\n"
          ]
        }
      ],
      "source": [
        "model = KnnBruteClassifier(n_neighbors=5, weights='uniform')\n",
        "model2 = KNeighborsClassifier(n_neighbors=5, weights='uniform')\n",
        "model.fit(data_dict[\"X_train\"], data_dict[\"y_train\"])\n",
        "model2.fit(data_dict[\"X_train\"], data_dict[\"y_train\"])\n",
        "print( model.kneighbors(data_dict[\"X_test\"],n_neighbors=5)[1] == model2.kneighbors(data_dict[\"X_test\"],n_neighbors=5 )[1])\n",
        "l2_uniform_n5_y_predict = model.predict(data_dict[\"X_test\"])"
      ]
    },
    {
      "cell_type": "code",
      "execution_count": null,
      "metadata": {
        "id": "lyUkap-RD-jI"
      },
      "outputs": [],
      "source": [
        "model = KnnBruteClassifier(n_neighbors=10, weights='uniform')\n",
        "model.fit(data_dict[\"X_train\"], data_dict[\"y_train\"])\n",
        "l2_uniform_10_y_predict = model.predict(data_dict[\"X_test\"])"
      ]
    },
    {
      "cell_type": "code",
      "execution_count": null,
      "metadata": {
        "id": "6J3eWGEWD-jJ"
      },
      "outputs": [],
      "source": [
        "model = KnnBruteClassifier(n_neighbors=5, weights='distance')\n",
        "model.fit(data_dict[\"X_train\"], data_dict[\"y_train\"])\n",
        "l2_distance_n5_y_predict = model.predict(data_dict[\"X_test\"])"
      ]
    },
    {
      "cell_type": "code",
      "execution_count": null,
      "metadata": {
        "id": "xNxjfPxzD-jK"
      },
      "outputs": [],
      "source": [
        "output_filename = \"results.npy\"\n",
        "result_dict = {\n",
        "    \"input_filename\": input_filename,\n",
        "    \"l2_uniform_n5_y_predict\": l2_uniform_n5_y_predict,\n",
        "    \"l2_uniform_10_y_predict\": l2_uniform_10_y_predict,\n",
        "    \"l2_distance_n5_y_predict\": l2_distance_n5_y_predict,\n",
        "}\n",
        "np.save(output_filename, result_dict)"
      ]
    }
  ],
  "metadata": {
    "kernelspec": {
      "display_name": "Python 3",
      "language": "python",
      "name": "python3"
    },
    "language_info": {
      "codemirror_mode": {
        "name": "ipython",
        "version": 3
      },
      "file_extension": ".py",
      "mimetype": "text/x-python",
      "name": "python",
      "nbconvert_exporter": "python",
      "pygments_lexer": "ipython3",
      "version": "3.7.7"
    },
    "colab": {
      "provenance": []
    }
  },
  "nbformat": 4,
  "nbformat_minor": 0
}