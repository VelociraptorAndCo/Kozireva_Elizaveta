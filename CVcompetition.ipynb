{
  "cells": [
    {
      "cell_type": "markdown",
      "source": [
        "code for https://www.kaggle.com/competitions/cv2023spring"
      ],
      "metadata": {
        "id": "9xJzK4xwnSf4"
      }
    },
    {
      "cell_type": "code",
      "execution_count": null,
      "metadata": {
        "id": "ojhC231WfW0V"
      },
      "outputs": [],
      "source": [
        "import numpy as np\n",
        "import pandas as pd\n",
        "import matplotlib.pyplot as plt\n",
        "import os\n",
        "import torch\n",
        "from torch import nn\n",
        "\n",
        "from torch.utils.data import random_split, Dataset, DataLoader\n",
        "from torchvision.transforms import ToTensor, Compose, RandomApply\n",
        "from torchvision.transforms import RandomRotation, RandomHorizontalFlip, RandomVerticalFlip, GaussianBlur, RandomChoice\n",
        "from torchvision.io import read_image"
      ]
    },
    {
      "cell_type": "markdown",
      "metadata": {
        "id": "STQvy-9vctWH"
      },
      "source": [
        "# скачать данные и посмотреть и почистить"
      ]
    },
    {
      "cell_type": "code",
      "execution_count": null,
      "metadata": {
        "id": "bLoInQJTdiNC"
      },
      "outputs": [],
      "source": [
        "import os\n",
        "os.environ['KAGGLE_CONFIG_DIR'] = \"/content/drive/MyDrive/kaggle/\""
      ]
    },
    {
      "cell_type": "code",
      "execution_count": null,
      "metadata": {
        "colab": {
          "base_uri": "https://localhost:8080/"
        },
        "id": "qYHgb9Lpb0rt",
        "outputId": "a2e75bee-1ce1-4669-b71b-60ee849c8ce8"
      },
      "outputs": [
        {
          "output_type": "stream",
          "name": "stdout",
          "text": [
            "cv2023spring.zip: Skipping, found more recently modified local copy (use --force to force download)\n"
          ]
        }
      ],
      "source": [
        "!kaggle competitions download -c cv2023spring"
      ]
    },
    {
      "cell_type": "code",
      "execution_count": null,
      "metadata": {
        "id": "tRgL4SG5dlrG"
      },
      "outputs": [],
      "source": [
        "! unzip cv2023spring.zip"
      ]
    },
    {
      "cell_type": "code",
      "execution_count": null,
      "metadata": {
        "colab": {
          "base_uri": "https://localhost:8080/",
          "height": 423
        },
        "id": "cIMS2t-xhPtt",
        "outputId": "1f7adddd-3cb1-41f4-e5dd-1a47cac8cbfa"
      },
      "outputs": [
        {
          "output_type": "execute_result",
          "data": {
            "text/plain": [
              "          image_name  label\n",
              "0     train_0000.jpg      0\n",
              "1     train_0001.jpg      0\n",
              "2     train_0002.jpg      0\n",
              "3     train_0003.jpg      0\n",
              "4     train_0004.jpg      0\n",
              "...              ...    ...\n",
              "6419  train_6419.jpg     45\n",
              "6420  train_6420.jpg     45\n",
              "6421  train_6421.jpg     45\n",
              "6422  train_6422.jpg     45\n",
              "6423  train_6423.jpg     45\n",
              "\n",
              "[6424 rows x 2 columns]"
            ],
            "text/html": [
              "\n",
              "  <div id=\"df-82c9a948-1a33-414d-800e-ab7ad5cdf4ba\">\n",
              "    <div class=\"colab-df-container\">\n",
              "      <div>\n",
              "<style scoped>\n",
              "    .dataframe tbody tr th:only-of-type {\n",
              "        vertical-align: middle;\n",
              "    }\n",
              "\n",
              "    .dataframe tbody tr th {\n",
              "        vertical-align: top;\n",
              "    }\n",
              "\n",
              "    .dataframe thead th {\n",
              "        text-align: right;\n",
              "    }\n",
              "</style>\n",
              "<table border=\"1\" class=\"dataframe\">\n",
              "  <thead>\n",
              "    <tr style=\"text-align: right;\">\n",
              "      <th></th>\n",
              "      <th>image_name</th>\n",
              "      <th>label</th>\n",
              "    </tr>\n",
              "  </thead>\n",
              "  <tbody>\n",
              "    <tr>\n",
              "      <th>0</th>\n",
              "      <td>train_0000.jpg</td>\n",
              "      <td>0</td>\n",
              "    </tr>\n",
              "    <tr>\n",
              "      <th>1</th>\n",
              "      <td>train_0001.jpg</td>\n",
              "      <td>0</td>\n",
              "    </tr>\n",
              "    <tr>\n",
              "      <th>2</th>\n",
              "      <td>train_0002.jpg</td>\n",
              "      <td>0</td>\n",
              "    </tr>\n",
              "    <tr>\n",
              "      <th>3</th>\n",
              "      <td>train_0003.jpg</td>\n",
              "      <td>0</td>\n",
              "    </tr>\n",
              "    <tr>\n",
              "      <th>4</th>\n",
              "      <td>train_0004.jpg</td>\n",
              "      <td>0</td>\n",
              "    </tr>\n",
              "    <tr>\n",
              "      <th>...</th>\n",
              "      <td>...</td>\n",
              "      <td>...</td>\n",
              "    </tr>\n",
              "    <tr>\n",
              "      <th>6419</th>\n",
              "      <td>train_6419.jpg</td>\n",
              "      <td>45</td>\n",
              "    </tr>\n",
              "    <tr>\n",
              "      <th>6420</th>\n",
              "      <td>train_6420.jpg</td>\n",
              "      <td>45</td>\n",
              "    </tr>\n",
              "    <tr>\n",
              "      <th>6421</th>\n",
              "      <td>train_6421.jpg</td>\n",
              "      <td>45</td>\n",
              "    </tr>\n",
              "    <tr>\n",
              "      <th>6422</th>\n",
              "      <td>train_6422.jpg</td>\n",
              "      <td>45</td>\n",
              "    </tr>\n",
              "    <tr>\n",
              "      <th>6423</th>\n",
              "      <td>train_6423.jpg</td>\n",
              "      <td>45</td>\n",
              "    </tr>\n",
              "  </tbody>\n",
              "</table>\n",
              "<p>6424 rows × 2 columns</p>\n",
              "</div>\n",
              "      <button class=\"colab-df-convert\" onclick=\"convertToInteractive('df-82c9a948-1a33-414d-800e-ab7ad5cdf4ba')\"\n",
              "              title=\"Convert this dataframe to an interactive table.\"\n",
              "              style=\"display:none;\">\n",
              "        \n",
              "  <svg xmlns=\"http://www.w3.org/2000/svg\" height=\"24px\"viewBox=\"0 0 24 24\"\n",
              "       width=\"24px\">\n",
              "    <path d=\"M0 0h24v24H0V0z\" fill=\"none\"/>\n",
              "    <path d=\"M18.56 5.44l.94 2.06.94-2.06 2.06-.94-2.06-.94-.94-2.06-.94 2.06-2.06.94zm-11 1L8.5 8.5l.94-2.06 2.06-.94-2.06-.94L8.5 2.5l-.94 2.06-2.06.94zm10 10l.94 2.06.94-2.06 2.06-.94-2.06-.94-.94-2.06-.94 2.06-2.06.94z\"/><path d=\"M17.41 7.96l-1.37-1.37c-.4-.4-.92-.59-1.43-.59-.52 0-1.04.2-1.43.59L10.3 9.45l-7.72 7.72c-.78.78-.78 2.05 0 2.83L4 21.41c.39.39.9.59 1.41.59.51 0 1.02-.2 1.41-.59l7.78-7.78 2.81-2.81c.8-.78.8-2.07 0-2.86zM5.41 20L4 18.59l7.72-7.72 1.47 1.35L5.41 20z\"/>\n",
              "  </svg>\n",
              "      </button>\n",
              "      \n",
              "  <style>\n",
              "    .colab-df-container {\n",
              "      display:flex;\n",
              "      flex-wrap:wrap;\n",
              "      gap: 12px;\n",
              "    }\n",
              "\n",
              "    .colab-df-convert {\n",
              "      background-color: #E8F0FE;\n",
              "      border: none;\n",
              "      border-radius: 50%;\n",
              "      cursor: pointer;\n",
              "      display: none;\n",
              "      fill: #1967D2;\n",
              "      height: 32px;\n",
              "      padding: 0 0 0 0;\n",
              "      width: 32px;\n",
              "    }\n",
              "\n",
              "    .colab-df-convert:hover {\n",
              "      background-color: #E2EBFA;\n",
              "      box-shadow: 0px 1px 2px rgba(60, 64, 67, 0.3), 0px 1px 3px 1px rgba(60, 64, 67, 0.15);\n",
              "      fill: #174EA6;\n",
              "    }\n",
              "\n",
              "    [theme=dark] .colab-df-convert {\n",
              "      background-color: #3B4455;\n",
              "      fill: #D2E3FC;\n",
              "    }\n",
              "\n",
              "    [theme=dark] .colab-df-convert:hover {\n",
              "      background-color: #434B5C;\n",
              "      box-shadow: 0px 1px 3px 1px rgba(0, 0, 0, 0.15);\n",
              "      filter: drop-shadow(0px 1px 2px rgba(0, 0, 0, 0.3));\n",
              "      fill: #FFFFFF;\n",
              "    }\n",
              "  </style>\n",
              "\n",
              "      <script>\n",
              "        const buttonEl =\n",
              "          document.querySelector('#df-82c9a948-1a33-414d-800e-ab7ad5cdf4ba button.colab-df-convert');\n",
              "        buttonEl.style.display =\n",
              "          google.colab.kernel.accessAllowed ? 'block' : 'none';\n",
              "\n",
              "        async function convertToInteractive(key) {\n",
              "          const element = document.querySelector('#df-82c9a948-1a33-414d-800e-ab7ad5cdf4ba');\n",
              "          const dataTable =\n",
              "            await google.colab.kernel.invokeFunction('convertToInteractive',\n",
              "                                                     [key], {});\n",
              "          if (!dataTable) return;\n",
              "\n",
              "          const docLinkHtml = 'Like what you see? Visit the ' +\n",
              "            '<a target=\"_blank\" href=https://colab.research.google.com/notebooks/data_table.ipynb>data table notebook</a>'\n",
              "            + ' to learn more about interactive tables.';\n",
              "          element.innerHTML = '';\n",
              "          dataTable['output_type'] = 'display_data';\n",
              "          await google.colab.output.renderOutput(dataTable, element);\n",
              "          const docLink = document.createElement('div');\n",
              "          docLink.innerHTML = docLinkHtml;\n",
              "          element.appendChild(docLink);\n",
              "        }\n",
              "      </script>\n",
              "    </div>\n",
              "  </div>\n",
              "  "
            ]
          },
          "metadata": {},
          "execution_count": 2
        }
      ],
      "source": [
        "classes = pd.read_csv('classes.csv')\n",
        "classes = list(classes['pizza_type'])\n",
        "trcsv = pd.read_csv('train.csv')\n",
        "trcsv.drop('id', axis=1, inplace=True)\n",
        "trcsv"
      ]
    },
    {
      "cell_type": "markdown",
      "metadata": {
        "id": "AHT1EIjxeQdx"
      },
      "source": [
        "##похоже что легче всего удалять мусор руками"
      ]
    },
    {
      "cell_type": "markdown",
      "metadata": {
        "id": "PEwW4lpygkXr"
      },
      "source": [
        "посмотреть все train_****"
      ]
    },
    {
      "cell_type": "code",
      "execution_count": null,
      "metadata": {
        "id": "XkapY4WXpzz1"
      },
      "outputs": [],
      "source": [
        "#it = iter(range(0,6424,100))"
      ]
    },
    {
      "cell_type": "code",
      "execution_count": null,
      "metadata": {
        "colab": {
          "base_uri": "https://localhost:8080/",
          "height": 105
        },
        "id": "Y_QazMpWgqB4",
        "outputId": "dbab19ee-0014-4d03-d490-c54174da4974"
      },
      "outputs": [
        {
          "output_type": "execute_result",
          "data": {
            "text/plain": [
              "'\\nfigure = plt.figure(figsize=(17, 17))#figsize=(8, 8)\\ncols, rows = 10, 10\\nn = next(it)\\n\\nfor i in range(1, cols * rows + 1):\\n    #sample_idx = torch.randint(6424, size=(1,)).item() # Случайный индекс из датасета\\n    #img, label = training_data[sample_idx] # Обращение по такому индексу возвращает изображение и метку элемента датасета\\n    img = \\n    figure.add_subplot(rows, cols, i)\\n    plt.title(labels[label])\\n    plt.axis(\"off\")\\n    plt.imshow(np.moveaxis(img.numpy(),0,-1))\\nplt.show()\\nfor i in range(1,101):\\n  figure.add_subplot(rows, cols, i)\\n  c = n+i-1\\n  if c <6424:\\n    img = plt.imread(f\\'train_196/train_196/train_{c:04d}.jpg\\')\\n  plt.title(f\\'{c:04d}\\')\\n  plt.axis(\"off\")\\n  plt.imshow(img)\\n\\nplt.show()'"
            ],
            "application/vnd.google.colaboratory.intrinsic+json": {
              "type": "string"
            }
          },
          "metadata": {},
          "execution_count": 7
        }
      ],
      "source": [
        "'''\n",
        "figure = plt.figure(figsize=(17, 17))#figsize=(8, 8)\n",
        "cols, rows = 10, 10\n",
        "n = next(it)\n",
        "''''''\n",
        "for i in range(1, cols * rows + 1):\n",
        "    #sample_idx = torch.randint(6424, size=(1,)).item() # Случайный индекс из датасета\n",
        "    #img, label = training_data[sample_idx] # Обращение по такому индексу возвращает изображение и метку элемента датасета\n",
        "    img =\n",
        "    figure.add_subplot(rows, cols, i)\n",
        "    plt.title(labels[label])\n",
        "    plt.axis(\"off\")\n",
        "    plt.imshow(np.moveaxis(img.numpy(),0,-1))\n",
        "plt.show()''''''\n",
        "for i in range(1,101):\n",
        "  figure.add_subplot(rows, cols, i)\n",
        "  c = n+i-1\n",
        "  if c <6424:\n",
        "    img = plt.imread(f'train_196/train_196/train_{c:04d}.jpg')\n",
        "  plt.title(f'{c:04d}')\n",
        "  plt.axis(\"off\")\n",
        "  plt.imshow(img)\n",
        "\n",
        "plt.show()'''"
      ]
    },
    {
      "cell_type": "code",
      "execution_count": null,
      "metadata": {
        "id": "WmukQyS_mejf"
      },
      "outputs": [],
      "source": [
        "trash = [92,216,499,804,863,1141,1916,2859,3086,3354,3931,5031,\n",
        "         5128,5140,5162,5175,5238,5225]+[3411,3415,3420,910,4036,330,3472,5067,5156,5173]#all common classes\n",
        "trcsv.drop(trash, inplace=True)\n",
        "for i in trash:\n",
        "  os.remove(f'train_196/train_196/train_{i:04d}.jpg')"
      ]
    },
    {
      "cell_type": "code",
      "execution_count": null,
      "metadata": {
        "id": "_dtv--3rCDIt"
      },
      "outputs": [],
      "source": [
        "typical = []\n",
        "for i in range(46):\n",
        "  l = trcsv[trcsv['label']==i].index\n",
        "  typical.append([np.random.randint(l[0],l[-1]+1) for i in range(4)])"
      ]
    },
    {
      "cell_type": "code",
      "execution_count": null,
      "metadata": {
        "id": "_1omtzO8EU8c"
      },
      "outputs": [],
      "source": [
        "figure = plt.figure(figsize=(5,60))#figsize=(8, 8)\n",
        "cols, rows = 4, 46\n",
        "\n",
        "for i in range(1,4*46+1):\n",
        "  figure.add_subplot(rows, cols, i)\n",
        "  cl = (i-1)//4\n",
        "  el = (i-1)%4\n",
        "  img = plt.imread(f'train_196/train_196/train_{typical[cl][el]:04d}.jpg')\n",
        "  plt.title(f'{cl}')\n",
        "  plt.axis(\"off\")\n",
        "  plt.imshow(img)\n",
        "\n",
        "plt.show()"
      ]
    },
    {
      "cell_type": "code",
      "execution_count": null,
      "metadata": {
        "id": "yc53FS7P7UM4"
      },
      "outputs": [],
      "source": [
        "trcsv.loc[451,'label']=37\n",
        "trcsv.loc[550,'label']=15\n",
        "trcsv.loc[700,'label']=33\n",
        "trcsv.loc[724,'label']=7\n",
        "trcsv.loc[752,'label']=11\n",
        "trcsv.loc[760,'label']=45\n",
        "trcsv.loc[1243,'label']=22\n",
        "trcsv.loc[1428,'label']=45\n",
        "trcsv.loc[1580,'label']=22\n",
        "trcsv.loc[1733,'label']=22\n",
        "trcsv.loc[2047,'label']=1\n",
        "trcsv.loc[2136,'label']=34\n",
        "trcsv.loc[2424,'label']=22\n",
        "trcsv.loc[2434,'label']=34\n",
        "trcsv.loc[2580,'label']=23\n",
        "trcsv.loc[3280,'label']=33\n",
        "trcsv.loc[3285,'label']=17\n",
        "trcsv.loc[3442,'label']=11\n",
        "trcsv.loc[3449,'label']=37\n",
        "trcsv.loc[3666,'label']=21\n",
        "trcsv.loc[3811,'label']=22\n",
        "trcsv.loc[4764,'label']=20\n",
        "trcsv.loc[5077,'label']=22\n",
        "trcsv.loc[5092,'label']=5\n",
        "trcsv.loc[5226,'label']=5\n",
        "trcsv.loc[5228,'label']=34\n",
        "trcsv.loc[5229,'label']=22\n",
        "trcsv.loc[5244,'label']=34\n",
        "trcsv.loc[5265,'label']=34\n",
        "trcsv.loc[5338,'label']=5\n",
        "trcsv.loc[5347,'label']=5\n",
        "trcsv.loc[5352,'label']=11\n",
        "trcsv.loc[5575,'label']=4\n",
        "trcsv.loc[5816,'label']=38"
      ]
    },
    {
      "cell_type": "code",
      "execution_count": null,
      "metadata": {
        "id": "1140OfDFO4Aa"
      },
      "outputs": [],
      "source": [
        "cha = [451, 550, 700, 724, 752, 760, 1243, 1428,1580, 1733, 2047, 2136,\n",
        "       2424, 2580, 3280, 3285, 3449, 3442, 3666, 3811, 4764 , 5077,\n",
        "       5092, 5226, 5228, 5229, 5244, 5265, 5338, 5347, 5352, 5575, 5816]\n",
        "\n",
        "figure = plt.figure(figsize=(8, 8))#figsize=(8, 8)\n",
        "cols, rows = 6, 6\n",
        "for i in range(1,(len(cha)+1)):\n",
        "  figure.add_subplot(rows, cols, i)\n",
        "  c = i-1\n",
        "  img = plt.imread(f'train_196/train_196/train_{cha[c]:04d}.jpg')\n",
        "  plt.title(f'{cha[c]}')\n",
        "  plt.axis(\"off\")\n",
        "  plt.imshow(img)\n",
        "\n",
        "plt.show()"
      ]
    },
    {
      "cell_type": "code",
      "execution_count": null,
      "metadata": {
        "id": "3vPRgKlxbwE4"
      },
      "outputs": [],
      "source": [
        "trcsv.reset_index(drop=True, inplace=True)"
      ]
    },
    {
      "cell_type": "markdown",
      "metadata": {
        "id": "EZatW6vnfQoG"
      },
      "source": [
        "##распределение классов"
      ]
    },
    {
      "cell_type": "code",
      "execution_count": null,
      "metadata": {
        "id": "nCjqQS5NfUKF",
        "colab": {
          "base_uri": "https://localhost:8080/",
          "height": 1000
        },
        "outputId": "51a516fb-62a4-46b0-f2b6-78690e7ef5ad"
      },
      "outputs": [
        {
          "output_type": "stream",
          "name": "stdout",
          "text": [
            "0      51\n",
            "1     144\n",
            "2      48\n",
            "3      85\n",
            "4     416\n",
            "37    416\n",
            "15    171\n",
            "33    372\n",
            "7     266\n",
            "5     288\n",
            "11    158\n",
            "45    245\n",
            "6      19\n",
            "22    757\n",
            "8       2\n",
            "9     102\n",
            "10     25\n",
            "12    124\n",
            "13    102\n",
            "14    198\n",
            "34    220\n",
            "16    127\n",
            "17    190\n",
            "18    124\n",
            "23    201\n",
            "19     26\n",
            "20    215\n",
            "21     15\n",
            "24    101\n",
            "25      6\n",
            "26     15\n",
            "27     69\n",
            "28     36\n",
            "29     54\n",
            "30      4\n",
            "31      1\n",
            "32    140\n",
            "35     68\n",
            "36     11\n",
            "38    248\n",
            "39     63\n",
            "40    153\n",
            "41     45\n",
            "42     48\n",
            "43     81\n",
            "44    146\n",
            "Name: label, dtype: int64\n"
          ]
        },
        {
          "output_type": "display_data",
          "data": {
            "text/plain": [
              "<Figure size 640x480 with 1 Axes>"
            ],
            "image/png": "[encoded data removed]"
          },
          "metadata": {}
        }
      ],
      "source": [
        "l = trcsv['label'].value_counts(sort=False)\n",
        "print(l)\n",
        "a = l[l<100]\n",
        "b= l[l<10]\n",
        "a = list(a.index)\n",
        "b = list(b.index)\n",
        "#тут нужно вытащить по номеру класса номера его картинок\n",
        "la = trcsv[[trcsv['label'][i] in a for i in range(len(trcsv))]]\n",
        "lb = trcsv[[trcsv['label'][i] in b for i in range(len(trcsv))]]\n",
        "\n",
        "plt.plot(list(l))\n",
        "plt.show()"
      ]
    },
    {
      "cell_type": "code",
      "execution_count": null,
      "metadata": {
        "id": "Rk2n6HmQkV6Z"
      },
      "outputs": [],
      "source": [
        "print(a)"
      ]
    },
    {
      "cell_type": "code",
      "execution_count": null,
      "metadata": {
        "id": "AtO9C8J3kbxs"
      },
      "outputs": [],
      "source": [
        "print(b)"
      ]
    },
    {
      "cell_type": "markdown",
      "metadata": {
        "id": "CwSKjvNAttjZ"
      },
      "source": [
        "аугментация для малых классов\n",
        "https://pytorch.org/vision/stable/transforms.html"
      ]
    },
    {
      "cell_type": "code",
      "execution_count": null,
      "metadata": {
        "id": "scK6RztFmWYu"
      },
      "outputs": [],
      "source": [
        "from torchvision.transforms import RandomRotation, RandomHorizontalFlip, RandomVerticalFlip, GaussianBlur, RandomChoice, ToTensor\n",
        "import matplotlib.image"
      ]
    },
    {
      "cell_type": "code",
      "execution_count": null,
      "metadata": {
        "id": "qlJCkzMmttDb"
      },
      "outputs": [],
      "source": [
        "#6397 и можно класть в\n",
        "l = len(trcsv)\n",
        "'''\n",
        "RandomRotation(degrees[, interpolation, ...])\n",
        "RandomHorizontalFlip([p])\n",
        "RandomVerticalFlip([p])\n",
        "GaussianBlur(kernel_size[, sigma])\n",
        "RandomApply(transforms[, p])'''\n",
        "#df = pd.DataFrame(columns=['image_name','label'])\n",
        "df = trcsv\n",
        "for t in lb.itertuples():\n",
        "  for i in range(5):\n",
        "    img = plt.imread('train_196/train_196/'+t[1])\n",
        "    img = ToTensor()(img)\n",
        "    img = RandomChoice([RandomHorizontalFlip(0.5), RandomVerticalFlip(0.5)])(img)\n",
        "    img = RandomRotation(180)(img)\n",
        "    img = GaussianBlur(kernel_size=(5, 9))(img)\n",
        "\n",
        "    img = img.permute(1, 2, 0).numpy()\n",
        "    l = len(df)\n",
        "    #print(img.max())\n",
        "    img[img>1]=1.0\n",
        "    #print(img.max())\n",
        "    matplotlib.image.imsave('train_196/train_196/' + f'train_{l:04d}.jpg', img)#!!!!!!!!!!!!!!!!!!!!!\n",
        "    df.loc[l] = {'image_name':f'train_{l:04d}.jpg', 'label': t[2]}\n",
        "\n",
        "for t in la.itertuples():\n",
        "  for i in range(2):\n",
        "    img = plt.imread('train_196/train_196/'+t[1])\n",
        "    img = ToTensor()(img)\n",
        "    img = RandomChoice([RandomHorizontalFlip(0.5), RandomVerticalFlip(0.5)])(img)\n",
        "    img = RandomRotation(180)(img)\n",
        "    img = GaussianBlur(kernel_size=(5, 9))(img)\n",
        "\n",
        "    img = img.permute(1, 2, 0).numpy()\n",
        "    l = len(df)\n",
        "    #print(img.max())\n",
        "    img[img>1]=1.0\n",
        "    #print(img.max())\n",
        "    #print(img.shape)\n",
        "    matplotlib.image.imsave('train_196/train_196/'+ f'{l:04d}.jpg', img)#!!!!!!!!!!!!!!!!!!!!!\n",
        "    df.loc[l] = {'image_name':f'{l:04d}.jpg', 'label': t[2]}"
      ]
    },
    {
      "cell_type": "code",
      "execution_count": null,
      "metadata": {
        "id": "k732EpdPN45U"
      },
      "outputs": [],
      "source": [
        "df"
      ]
    },
    {
      "cell_type": "code",
      "execution_count": null,
      "metadata": {
        "id": "AAX2ad1kSxKj"
      },
      "outputs": [],
      "source": [
        "l = df['label'].value_counts(sort=False)\n",
        "print(l)\n",
        "len(df)"
      ]
    },
    {
      "cell_type": "code",
      "execution_count": null,
      "metadata": {
        "id": "dfh9HD_bl2Xm"
      },
      "outputs": [],
      "source": [
        "'''\n",
        "img = plt.imread(f'train_196/train_196/train_{3333:04d}.jpg')\n",
        "img = ToTensor()(img)\n",
        "img = RandomChoice([RandomHorizontalFlip(0.5), RandomVerticalFlip(0.5)], p=[0.5,0.5])(img)\n",
        "img = RandomRotation(180)(img)\n",
        "img = GaussianBlur(kernel_size=(5, 9))(img)\n",
        "\n",
        "img = img.permute(1, 2, 0).numpy()\n",
        "matplotlib.image.imsave('1.jpg', img)\n",
        "plt.imshow(img)'''"
      ]
    },
    {
      "cell_type": "code",
      "execution_count": null,
      "metadata": {
        "id": "ZXQW2R6RRjSU"
      },
      "outputs": [],
      "source": [
        "'''\n",
        "#check if ok\n",
        "#l = range(6397,len(trcsv))\n",
        "figure = plt.figure(figsize=(6, 6))#figsize=(8, 8)\n",
        "cols, rows = 4, 4\n",
        "\n",
        "for i, el in enumerate(l):\n",
        "  figure.add_subplot(rows, cols, i+1)\n",
        "  img = plt.imread(f'train_196/train_196/train_{el:04d}.jpg')\n",
        "  plt.title(f'{el:04d}')\n",
        "  plt.axis(\"off\")\n",
        "  plt.imshow(img)\n",
        "\n",
        "plt.show()'''"
      ]
    },
    {
      "cell_type": "markdown",
      "metadata": {
        "id": "jhwBTxaVyUhz"
      },
      "source": [
        "##делаем датасет"
      ]
    },
    {
      "cell_type": "code",
      "execution_count": null,
      "metadata": {
        "id": "a5DoKQmGyU-o"
      },
      "outputs": [],
      "source": [
        "class pizzadata(Dataset):\n",
        "    \"\"\"Pizza dataset.\"\"\"\n",
        "\n",
        "    def __init__(self, df, root_dir='', transform=None):\n",
        "        \"\"\"\n",
        "        Args:\n",
        "            csv_file (string): Путь к CSV-файлу с разметкой.\n",
        "            root_dir (string): Корневая директория и изображениями.\n",
        "            transform (callable, optional): Необязательные трансформации, применяемые к изображениями.\n",
        "        \"\"\"\n",
        "        self.df = df\n",
        "        self.root_dir = root_dir\n",
        "        self.transform = transform\n",
        "\n",
        "    def __len__(self):\n",
        "        return len(self.df)\n",
        "\n",
        "    def __getitem__(self, idx):\n",
        "        if torch.is_tensor(idx):\n",
        "            idx = idx.tolist()\n",
        "\n",
        "        img_name = os.path.join(self.root_dir,\n",
        "                                self.df.iloc[idx, 0])\n",
        "        #image = plt.imread(img_name)\n",
        "        image = read_image(img_name)\n",
        "        ind = int(self.df.iloc[idx, 1])\n",
        "        sample = {'image': image, 'ind': ind}\n",
        "\n",
        "        if self.transform:\n",
        "            sample['image'] = self.transform(sample['image'])\n",
        "\n",
        "        return sample"
      ]
    },
    {
      "cell_type": "code",
      "execution_count": null,
      "metadata": {
        "id": "g4PEuIvsUtsC"
      },
      "outputs": [],
      "source": [
        "tc = 2136\n",
        "a = [f'test_{i:04d}.jpg'for i in range(tc)]\n",
        "d = pd.DataFrame(a)\n",
        "d[1] = [0]*tc"
      ]
    },
    {
      "cell_type": "markdown",
      "metadata": {
        "id": "R3f3Sc92f8-q"
      },
      "source": [
        "# finetuning <a href=\"https://pytorch.org/vision/main/models/generated/torchvision.models.resnet50.html\" target=\"_blank\">ResNet50</a> + fullyconnected\n",
        "from <a href=\"https://pytorch.org/vision/stable/models.html\" target=\"_blank\">here</a>\n"
      ]
    },
    {
      "cell_type": "code",
      "execution_count": null,
      "metadata": {
        "id": "-33JrCaIf-ZX",
        "colab": {
          "base_uri": "https://localhost:8080/"
        },
        "outputId": "8a6cecf4-d153-4e6a-f5f8-2947f14415a3"
      },
      "outputs": [
        {
          "output_type": "stream",
          "name": "stdout",
          "text": [
            "Using cuda device\n"
          ]
        }
      ],
      "source": [
        "device = 'cuda' if torch.cuda.is_available() else 'cpu'\n",
        "print(f'Using {device} device')"
      ]
    },
    {
      "cell_type": "code",
      "execution_count": null,
      "metadata": {
        "id": "LnzOb_NBfMPq"
      },
      "outputs": [],
      "source": [
        "from torchvision.models import resnet50, ResNet50_Weights\n",
        "\n",
        "weights = ResNet50_Weights.DEFAULT\n",
        "'''\n",
        "model = resnet50(weights=weights)\n",
        "model.to(device)\n",
        "model.train()'''"
      ]
    },
    {
      "cell_type": "code",
      "execution_count": null,
      "metadata": {
        "id": "-5xAHAHvM-uN"
      },
      "outputs": [],
      "source": [
        "from torch import nn\n",
        "\n",
        "class NeuralNetwork(nn.Module):\n",
        "    def __init__(self):\n",
        "        super(NeuralNetwork, self).__init__()\n",
        "        self.linear_relu_stack = nn.Sequential(\n",
        "            resnet50(weights=weights),\n",
        "            nn.Linear(1000, 46),\n",
        "        )\n",
        "\n",
        "    def forward(self, x):\n",
        "        logits = self.linear_relu_stack(x)\n",
        "        return logits"
      ]
    },
    {
      "cell_type": "code",
      "source": [
        "'''from torchvision.models import regnet_y_8gf, RegNet_Y_8GF_Weights\n",
        "\n",
        "weights = RegNet_Y_8GF_Weights.DEFAULT\n",
        "\n",
        "class NeuralNetwork(nn.Module):\n",
        "    def __init__(self):\n",
        "        super(NeuralNetwork, self).__init__()\n",
        "        self.linear_relu_stack = nn.Sequential(\n",
        "            regnet_y_8gf(weights=weights),\n",
        "            nn.Linear(1000, 46),\n",
        "        )\n",
        "\n",
        "    def forward(self, x):\n",
        "        logits = self.linear_relu_stack(x)\n",
        "        return logits'''"
      ],
      "metadata": {
        "id": "Ql6_RgwtdmZx"
      },
      "execution_count": null,
      "outputs": []
    },
    {
      "cell_type": "code",
      "source": [
        "#https://pytorch.org/vision/main/models/generated/torchvision.models.efficientnet_v2_s.html\n",
        "'''from torchvision.models import efficientnet_v2_s, EfficientNet_V2_S_Weights\n",
        "\n",
        "weights = EfficientNet_V2_S_Weights.DEFAULT\n",
        "\n",
        "class NeuralNetwork(nn.Module):\n",
        "    def __init__(self):\n",
        "        super(NeuralNetwork, self).__init__()\n",
        "        self.linear_relu_stack = nn.Sequential(\n",
        "            efficientnet_v2_s(weights=weights),\n",
        "            nn.Linear(1000, 46),\n",
        "        )\n",
        "\n",
        "    def forward(self, x):\n",
        "        logits = self.linear_relu_stack(x)\n",
        "        return logits'''"
      ],
      "metadata": {
        "id": "v4O8buVcDS55"
      },
      "execution_count": null,
      "outputs": []
    },
    {
      "cell_type": "code",
      "execution_count": null,
      "metadata": {
        "id": "6uB-bMUbNUA9",
        "colab": {
          "base_uri": "https://localhost:8080/"
        },
        "outputId": "4de09e90-96ac-4137-d86f-2d0fbba209de"
      },
      "outputs": [
        {
          "output_type": "stream",
          "name": "stderr",
          "text": [
            "Downloading: \"https://download.pytorch.org/models/regnet_y_8gf-dc2b1b54.pth\" to /root/.cache/torch/hub/checkpoints/regnet_y_8gf-dc2b1b54.pth\n",
            "100%|██████████| 151M/151M [00:00<00:00, 159MB/s]\n"
          ]
        }
      ],
      "source": [
        "def modelreset():\n",
        "  model = NeuralNetwork().to(device)\n",
        "  model.train()\n",
        "  return model\n",
        "\n",
        "model = modelreset()"
      ]
    },
    {
      "cell_type": "code",
      "execution_count": null,
      "metadata": {
        "id": "kyohk77qbaf-"
      },
      "outputs": [],
      "source": [
        "trs = Compose([RandomChoice([RandomHorizontalFlip(0.5), RandomVerticalFlip(0.5)]),RandomRotation(180), GaussianBlur(kernel_size=(5, 9))])\n",
        "#https://pytorch.org/vision/main/generated/torchvision.transforms.AugMix.html\n",
        "trs = Compose( [weights.transforms(), RandomApply([trs], p=0.75)])"
      ]
    },
    {
      "cell_type": "code",
      "execution_count": null,
      "metadata": {
        "id": "KjCNuSgnjUqC"
      },
      "outputs": [],
      "source": [
        "df = {'train': trcsv, 'test': d}\n",
        "ds = {x: pizzadata(df[x], f'{x}_196/{x}_196/', transform=trs) for x in ['train', 'test']}\n",
        "#need val\n",
        "a = random_split(ds['train'], [len(ds['train'])-700, 700])\n",
        "ds['train'], ds['val'] = a\n",
        "dataloaders = {x: DataLoader(ds[x], batch_size=64, shuffle=True) for x in ['train','val']}\n",
        "outdl = DataLoader(ds['test'], batch_size=64, shuffle=False)"
      ]
    },
    {
      "cell_type": "code",
      "execution_count": null,
      "metadata": {
        "id": "ces_8drHoKmp",
        "colab": {
          "base_uri": "https://localhost:8080/"
        },
        "outputId": "7ade8774-144c-4a33-e9be-6c7cf0d0cf13"
      },
      "outputs": [
        {
          "output_type": "execute_result",
          "data": {
            "text/plain": [
              "8005"
            ]
          },
          "metadata": {},
          "execution_count": 16
        }
      ],
      "source": [
        "len(ds['train'])+len(ds['val'])"
      ]
    },
    {
      "cell_type": "markdown",
      "metadata": {
        "id": "Vv6xHltYmpk0"
      },
      "source": [
        "##train func"
      ]
    },
    {
      "cell_type": "code",
      "execution_count": null,
      "metadata": {
        "id": "6JvkZZw2mn9-"
      },
      "outputs": [],
      "source": [
        "def train_loop(model, dataloader, loss_fn, optimizer):\n",
        "    torch.cuda.empty_cache()\n",
        "    model.train(True)\n",
        "    size = len(dataloader.dataset)\n",
        "    for batch, data in enumerate(dataloader):\n",
        "        #move\n",
        "        X = data['image'].to(device)\n",
        "        y = data['ind'].to(device)\n",
        "        # Получаем предсказания модели для данного батча\n",
        "        pred = model(X)\n",
        "        # Вычисляем лосс\n",
        "        loss = loss_fn(pred, y)\n",
        "\n",
        "        # Backpropagation\n",
        "        # Обнуляем градиенты\n",
        "        optimizer.zero_grad()\n",
        "        # Вычисляем градиент лосса по параметрам модели\n",
        "        loss.backward()\n",
        "        # Производим шаг алгоритма оптимизации\n",
        "        optimizer.step()\n",
        "\n",
        "\n",
        "        if batch % 20 == 0:\n",
        "            loss, current = loss.item(), batch * len(X)\n",
        "            print(f\"loss: {loss:>7f}  [{current:>5d}/{size:>5d}]\")\n",
        "\n",
        "def test_loop(model, dataloader, loss_fn, optimizer):\n",
        "    model.train(False)\n",
        "    size = len(dataloader.dataset)\n",
        "    num_batches = len(dataloader)\n",
        "    test_loss, correct = 0, 0\n",
        "\n",
        "    with torch.no_grad():\n",
        "        for data in dataloader:\n",
        "            #move\n",
        "            X = data['image'].to(device)\n",
        "            y = data['ind'].to(device)\n",
        "            pred = model(X)\n",
        "            test_loss += loss_fn(pred, y).item()\n",
        "            correct += (pred.argmax(1) == y).type(torch.int).sum().item()\n",
        "\n",
        "    test_loss /= num_batches\n",
        "    correct /= size\n",
        "    print(f\"Test Error: \\n Accuracy: {(100*correct):>0.1f}%, Avg loss: {test_loss:>8f} \\n\")\n",
        "    #accs.append(100*correct)"
      ]
    },
    {
      "cell_type": "code",
      "execution_count": null,
      "metadata": {
        "id": "zjRNDGzJESgV"
      },
      "outputs": [],
      "source": [
        "os.environ[\"PYTORCH_CUDA_ALLOC_CONF\"] = \"max_split_size_mb:<32>\""
      ]
    },
    {
      "cell_type": "markdown",
      "metadata": {
        "id": "vis6D2l_mtRY"
      },
      "source": [
        "#training"
      ]
    },
    {
      "cell_type": "code",
      "execution_count": null,
      "metadata": {
        "id": "ldU7eBi-nFiP"
      },
      "outputs": [],
      "source": [
        "#x2\n",
        "loss_fn = nn.CrossEntropyLoss()#focal loss Это круто\n",
        "\n",
        "def opt(learning_rate = 1e-3, l=[1,3,5,8]):\n",
        "  optimizer = torch.optim.Adam(model.parameters(), lr=learning_rate)\n",
        "  scheduler = torch.optim.lr_scheduler.MultiStepLR(optimizer, l, gamma=0.1)\n",
        "  return optimizer, scheduler\n",
        "\n",
        "def epoch(t,optimizer,scheduler):\n",
        "  print(f\"Epoch {t+1}\\n-------------------------------\")\n",
        "  train_loop(model, dataloaders['train'], loss_fn, optimizer)\n",
        "  test_loop(model, dataloaders['val'], loss_fn, optimizer)\n",
        "  torch.save(model.state_dict(), f\"e{(t+1):02d}.pt\")\n",
        "  scheduler.step()"
      ]
    },
    {
      "cell_type": "code",
      "source": [
        "'''state_dict = torch.load(\"e26.pt\")\n",
        "model.load_state_dict(state_dict)'''"
      ],
      "metadata": {
        "colab": {
          "base_uri": "https://localhost:8080/"
        },
        "id": "PD_hWKhTUkkQ",
        "outputId": "b6cc04b0-4d5e-4b4e-a239-e09e78da392c"
      },
      "execution_count": null,
      "outputs": [
        {
          "output_type": "execute_result",
          "data": {
            "text/plain": [
              "<All keys matched successfully>"
            ]
          },
          "metadata": {},
          "execution_count": 27
        }
      ]
    },
    {
      "cell_type": "code",
      "source": [
        "'''test_loop(model, dataloaders['val'], loss_fn, opti)'''"
      ],
      "metadata": {
        "id": "-zs4wfmM1dkA"
      },
      "execution_count": null,
      "outputs": []
    },
    {
      "cell_type": "code",
      "execution_count": null,
      "metadata": {
        "id": "y1ytz5Ta3fOh"
      },
      "outputs": [],
      "source": [
        "model = modelreset()"
      ]
    },
    {
      "cell_type": "code",
      "execution_count": null,
      "metadata": {
        "id": "pEpYzcq0mL8h"
      },
      "outputs": [],
      "source": [
        "opti,schu = opt(5*1e-4, [3,5,8])\n",
        "for t in range(10):\n",
        "    epoch(t,opti,schu)\n",
        "opti,schu = opt(1e-4, [3,5,8])\n",
        "for t in range(10,20):\n",
        "    epoch(t,opti,schu)\n",
        "opti,schu = opt(1e-5, [3,5,8])\n",
        "for t in range(20,30):\n",
        "    epoch(t,opti,schu)\n",
        "'''\n",
        "opti,schu = opt(1e-6, [2,4,6,8])\n",
        "for t in range(20,30):\n",
        "    epoch(t,opti,schu)'''\n",
        "print(\"Done!\")\n",
        "'''\n",
        "print('TEST:')\n",
        "test_loop(model, dataloaders['val'], loss_fn, opti)'''\n",
        "\n"
      ]
    },
    {
      "cell_type": "code",
      "execution_count": null,
      "metadata": {
        "id": "G1yEPIyCl1Ca"
      },
      "outputs": [],
      "source": [
        "#change val+\n",
        "opti,schu = opt(1e-6, [1,3])\n",
        "for t in range(5):\n",
        "    epoch(t,opti,schu)\n",
        "print(\"Done!\")"
      ]
    },
    {
      "cell_type": "markdown",
      "metadata": {
        "id": "p_IsnYwfHokh"
      },
      "source": [
        "##догонка"
      ]
    },
    {
      "cell_type": "markdown",
      "metadata": {
        "id": "3dsspK7f7txO"
      },
      "source": [
        "###auto trash finder"
      ]
    },
    {
      "cell_type": "code",
      "execution_count": null,
      "metadata": {
        "id": "REFEWqx56iZo"
      },
      "outputs": [],
      "source": [
        "#for finding bad data\n",
        "w = pizzadata(trcsv, f'train_196/train_196/', transform=trs)\n",
        "#w = DataLoader(w, batch_size=64, shuffle=False)"
      ]
    },
    {
      "cell_type": "code",
      "execution_count": null,
      "metadata": {
        "id": "W1kEct8377QS"
      },
      "outputs": [],
      "source": [
        "model.train(False)\n",
        "sh = pd.DataFrame(columns=['image_name','pred','real'])\n",
        "with torch.no_grad():\n",
        "  for i, data in enumerate(w):\n",
        "    imgn = trcsv['image_name'][i]\n",
        "    X = data['image'].to(device)\n",
        "    y = data['ind']\n",
        "    pred = model(X.unsqueeze(0)).to('cpu')\n",
        "    pred = pred.argmax(1)\n",
        "\n",
        "    #(pred.argmax(1) == y).type(torch.int).sum().item()\n",
        "    if (pred!= y):\n",
        "      sh.loc[len(sh)] = {'image_name': imgn, 'pred': pred.item() ,'real':y}\n",
        "    #print(pred.shape)\n",
        "    #print(type((pred.argmax(1)).type(torch.float).numpy()))\n",
        "\n",
        "print('done')"
      ]
    },
    {
      "cell_type": "markdown",
      "metadata": {
        "id": "PeFNqThkZnhD"
      },
      "source": [
        "###auto class finder"
      ]
    },
    {
      "cell_type": "code",
      "execution_count": null,
      "metadata": {
        "id": "pLvlw-wS9eT6"
      },
      "outputs": [],
      "source": [
        "model.train(False)\n",
        "ch = pd.DataFrame(columns=['image_name','pred'])\n",
        "with torch.no_grad():\n",
        "  for i, el in enumerate(cha):\n",
        "    img_name = f'train_196/train_196/train_{el:04d}.jpg'\n",
        "    image = read_image(img_name)\n",
        "    image = trs(image)\n",
        "    X = image.to(device)\n",
        "    pred = model(X.unsqueeze(0)).to('cpu')\n",
        "    pred = pred.argmax(1).item()\n",
        "    ch.loc[len(ch)] = {'image_name': el, 'pred': pred }\n",
        "    #print(pred.shape)\n",
        "    #print(type((pred.argmax(1)).type(torch.float).numpy()))\n",
        "\n",
        "print('done')"
      ]
    },
    {
      "cell_type": "code",
      "execution_count": null,
      "metadata": {
        "colab": {
          "base_uri": "https://localhost:8080/",
          "height": 1000
        },
        "id": "t6jvqRpuD02c",
        "outputId": "f317dbae-0e9b-4eeb-bb90-f6ab6cca87d0"
      },
      "outputs": [
        {
          "data": {
            "text/html": [
              "\n",
              "  <div id=\"df-65b308cb-df5b-4b2c-b7db-a9de5516eb2f\">\n",
              "    <div class=\"colab-df-container\">\n",
              "      <div>\n",
              "<style scoped>\n",
              "    .dataframe tbody tr th:only-of-type {\n",
              "        vertical-align: middle;\n",
              "    }\n",
              "\n",
              "    .dataframe tbody tr th {\n",
              "        vertical-align: top;\n",
              "    }\n",
              "\n",
              "    .dataframe thead th {\n",
              "        text-align: right;\n",
              "    }\n",
              "</style>\n",
              "<table border=\"1\" class=\"dataframe\">\n",
              "  <thead>\n",
              "    <tr style=\"text-align: right;\">\n",
              "      <th></th>\n",
              "      <th>image_name</th>\n",
              "      <th>pred</th>\n",
              "    </tr>\n",
              "  </thead>\n",
              "  <tbody>\n",
              "    <tr>\n",
              "      <th>0</th>\n",
              "      <td>451</td>\n",
              "      <td>37</td>\n",
              "    </tr>\n",
              "    <tr>\n",
              "      <th>1</th>\n",
              "      <td>550</td>\n",
              "      <td>42</td>\n",
              "    </tr>\n",
              "    <tr>\n",
              "      <th>2</th>\n",
              "      <td>700</td>\n",
              "      <td>33</td>\n",
              "    </tr>\n",
              "    <tr>\n",
              "      <th>3</th>\n",
              "      <td>724</td>\n",
              "      <td>7</td>\n",
              "    </tr>\n",
              "    <tr>\n",
              "      <th>4</th>\n",
              "      <td>752</td>\n",
              "      <td>38</td>\n",
              "    </tr>\n",
              "    <tr>\n",
              "      <th>5</th>\n",
              "      <td>760</td>\n",
              "      <td>45</td>\n",
              "    </tr>\n",
              "    <tr>\n",
              "      <th>6</th>\n",
              "      <td>1243</td>\n",
              "      <td>22</td>\n",
              "    </tr>\n",
              "    <tr>\n",
              "      <th>7</th>\n",
              "      <td>1428</td>\n",
              "      <td>45</td>\n",
              "    </tr>\n",
              "    <tr>\n",
              "      <th>8</th>\n",
              "      <td>1580</td>\n",
              "      <td>22</td>\n",
              "    </tr>\n",
              "    <tr>\n",
              "      <th>9</th>\n",
              "      <td>1733</td>\n",
              "      <td>23</td>\n",
              "    </tr>\n",
              "    <tr>\n",
              "      <th>10</th>\n",
              "      <td>2047</td>\n",
              "      <td>1</td>\n",
              "    </tr>\n",
              "    <tr>\n",
              "      <th>11</th>\n",
              "      <td>2136</td>\n",
              "      <td>34</td>\n",
              "    </tr>\n",
              "    <tr>\n",
              "      <th>12</th>\n",
              "      <td>2424</td>\n",
              "      <td>22</td>\n",
              "    </tr>\n",
              "    <tr>\n",
              "      <th>13</th>\n",
              "      <td>2580</td>\n",
              "      <td>23</td>\n",
              "    </tr>\n",
              "    <tr>\n",
              "      <th>14</th>\n",
              "      <td>3280</td>\n",
              "      <td>33</td>\n",
              "    </tr>\n",
              "    <tr>\n",
              "      <th>15</th>\n",
              "      <td>3285</td>\n",
              "      <td>17</td>\n",
              "    </tr>\n",
              "    <tr>\n",
              "      <th>16</th>\n",
              "      <td>3449</td>\n",
              "      <td>37</td>\n",
              "    </tr>\n",
              "    <tr>\n",
              "      <th>17</th>\n",
              "      <td>3442</td>\n",
              "      <td>11</td>\n",
              "    </tr>\n",
              "    <tr>\n",
              "      <th>18</th>\n",
              "      <td>3666</td>\n",
              "      <td>33</td>\n",
              "    </tr>\n",
              "    <tr>\n",
              "      <th>19</th>\n",
              "      <td>3811</td>\n",
              "      <td>23</td>\n",
              "    </tr>\n",
              "    <tr>\n",
              "      <th>20</th>\n",
              "      <td>3931</td>\n",
              "      <td>16</td>\n",
              "    </tr>\n",
              "    <tr>\n",
              "      <th>21</th>\n",
              "      <td>4764</td>\n",
              "      <td>20</td>\n",
              "    </tr>\n",
              "    <tr>\n",
              "      <th>22</th>\n",
              "      <td>5077</td>\n",
              "      <td>22</td>\n",
              "    </tr>\n",
              "    <tr>\n",
              "      <th>23</th>\n",
              "      <td>5092</td>\n",
              "      <td>5</td>\n",
              "    </tr>\n",
              "    <tr>\n",
              "      <th>24</th>\n",
              "      <td>5226</td>\n",
              "      <td>5</td>\n",
              "    </tr>\n",
              "    <tr>\n",
              "      <th>25</th>\n",
              "      <td>5228</td>\n",
              "      <td>34</td>\n",
              "    </tr>\n",
              "    <tr>\n",
              "      <th>26</th>\n",
              "      <td>5229</td>\n",
              "      <td>22</td>\n",
              "    </tr>\n",
              "    <tr>\n",
              "      <th>27</th>\n",
              "      <td>5244</td>\n",
              "      <td>5</td>\n",
              "    </tr>\n",
              "    <tr>\n",
              "      <th>28</th>\n",
              "      <td>5265</td>\n",
              "      <td>5</td>\n",
              "    </tr>\n",
              "    <tr>\n",
              "      <th>29</th>\n",
              "      <td>5338</td>\n",
              "      <td>5</td>\n",
              "    </tr>\n",
              "    <tr>\n",
              "      <th>30</th>\n",
              "      <td>5347</td>\n",
              "      <td>5</td>\n",
              "    </tr>\n",
              "    <tr>\n",
              "      <th>31</th>\n",
              "      <td>5352</td>\n",
              "      <td>5</td>\n",
              "    </tr>\n",
              "    <tr>\n",
              "      <th>32</th>\n",
              "      <td>5575</td>\n",
              "      <td>4</td>\n",
              "    </tr>\n",
              "    <tr>\n",
              "      <th>33</th>\n",
              "      <td>5816</td>\n",
              "      <td>38</td>\n",
              "    </tr>\n",
              "  </tbody>\n",
              "</table>\n",
              "</div>\n",
              "      <button class=\"colab-df-convert\" onclick=\"convertToInteractive('df-65b308cb-df5b-4b2c-b7db-a9de5516eb2f')\"\n",
              "              title=\"Convert this dataframe to an interactive table.\"\n",
              "              style=\"display:none;\">\n",
              "        \n",
              "  <svg xmlns=\"http://www.w3.org/2000/svg\" height=\"24px\"viewBox=\"0 0 24 24\"\n",
              "       width=\"24px\">\n",
              "    <path d=\"M0 0h24v24H0V0z\" fill=\"none\"/>\n",
              "    <path d=\"M18.56 5.44l.94 2.06.94-2.06 2.06-.94-2.06-.94-.94-2.06-.94 2.06-2.06.94zm-11 1L8.5 8.5l.94-2.06 2.06-.94-2.06-.94L8.5 2.5l-.94 2.06-2.06.94zm10 10l.94 2.06.94-2.06 2.06-.94-2.06-.94-.94-2.06-.94 2.06-2.06.94z\"/><path d=\"M17.41 7.96l-1.37-1.37c-.4-.4-.92-.59-1.43-.59-.52 0-1.04.2-1.43.59L10.3 9.45l-7.72 7.72c-.78.78-.78 2.05 0 2.83L4 21.41c.39.39.9.59 1.41.59.51 0 1.02-.2 1.41-.59l7.78-7.78 2.81-2.81c.8-.78.8-2.07 0-2.86zM5.41 20L4 18.59l7.72-7.72 1.47 1.35L5.41 20z\"/>\n",
              "  </svg>\n",
              "      </button>\n",
              "      \n",
              "  <style>\n",
              "    .colab-df-container {\n",
              "      display:flex;\n",
              "      flex-wrap:wrap;\n",
              "      gap: 12px;\n",
              "    }\n",
              "\n",
              "    .colab-df-convert {\n",
              "      background-color: #E8F0FE;\n",
              "      border: none;\n",
              "      border-radius: 50%;\n",
              "      cursor: pointer;\n",
              "      display: none;\n",
              "      fill: #1967D2;\n",
              "      height: 32px;\n",
              "      padding: 0 0 0 0;\n",
              "      width: 32px;\n",
              "    }\n",
              "\n",
              "    .colab-df-convert:hover {\n",
              "      background-color: #E2EBFA;\n",
              "      box-shadow: 0px 1px 2px rgba(60, 64, 67, 0.3), 0px 1px 3px 1px rgba(60, 64, 67, 0.15);\n",
              "      fill: #174EA6;\n",
              "    }\n",
              "\n",
              "    [theme=dark] .colab-df-convert {\n",
              "      background-color: #3B4455;\n",
              "      fill: #D2E3FC;\n",
              "    }\n",
              "\n",
              "    [theme=dark] .colab-df-convert:hover {\n",
              "      background-color: #434B5C;\n",
              "      box-shadow: 0px 1px 3px 1px rgba(0, 0, 0, 0.15);\n",
              "      filter: drop-shadow(0px 1px 2px rgba(0, 0, 0, 0.3));\n",
              "      fill: #FFFFFF;\n",
              "    }\n",
              "  </style>\n",
              "\n",
              "      <script>\n",
              "        const buttonEl =\n",
              "          document.querySelector('#df-65b308cb-df5b-4b2c-b7db-a9de5516eb2f button.colab-df-convert');\n",
              "        buttonEl.style.display =\n",
              "          google.colab.kernel.accessAllowed ? 'block' : 'none';\n",
              "\n",
              "        async function convertToInteractive(key) {\n",
              "          const element = document.querySelector('#df-65b308cb-df5b-4b2c-b7db-a9de5516eb2f');\n",
              "          const dataTable =\n",
              "            await google.colab.kernel.invokeFunction('convertToInteractive',\n",
              "                                                     [key], {});\n",
              "          if (!dataTable) return;\n",
              "\n",
              "          const docLinkHtml = 'Like what you see? Visit the ' +\n",
              "            '<a target=\"_blank\" href=https://colab.research.google.com/notebooks/data_table.ipynb>data table notebook</a>'\n",
              "            + ' to learn more about interactive tables.';\n",
              "          element.innerHTML = '';\n",
              "          dataTable['output_type'] = 'display_data';\n",
              "          await google.colab.output.renderOutput(dataTable, element);\n",
              "          const docLink = document.createElement('div');\n",
              "          docLink.innerHTML = docLinkHtml;\n",
              "          element.appendChild(docLink);\n",
              "        }\n",
              "      </script>\n",
              "    </div>\n",
              "  </div>\n",
              "  "
            ],
            "text/plain": [
              "    image_name  pred\n",
              "0          451    37\n",
              "1          550    42\n",
              "2          700    33\n",
              "3          724     7\n",
              "4          752    38\n",
              "5          760    45\n",
              "6         1243    22\n",
              "7         1428    45\n",
              "8         1580    22\n",
              "9         1733    23\n",
              "10        2047     1\n",
              "11        2136    34\n",
              "12        2424    22\n",
              "13        2580    23\n",
              "14        3280    33\n",
              "15        3285    17\n",
              "16        3449    37\n",
              "17        3442    11\n",
              "18        3666    33\n",
              "19        3811    23\n",
              "20        3931    16\n",
              "21        4764    20\n",
              "22        5077    22\n",
              "23        5092     5\n",
              "24        5226     5\n",
              "25        5228    34\n",
              "26        5229    22\n",
              "27        5244     5\n",
              "28        5265     5\n",
              "29        5338     5\n",
              "30        5347     5\n",
              "31        5352     5\n",
              "32        5575     4\n",
              "33        5816    38"
            ]
          },
          "execution_count": 30,
          "metadata": {},
          "output_type": "execute_result"
        }
      ],
      "source": [
        "ch"
      ]
    },
    {
      "cell_type": "code",
      "execution_count": null,
      "metadata": {
        "id": "2wFaxuGz_VP5"
      },
      "outputs": [],
      "source": [
        "figure = plt.figure(figsize=(17, 17))#figsize=(8, 8)\n",
        "cols, rows = 10, 10\n",
        "'''\n",
        "for i in range(1, cols * rows + 1):\n",
        "    #sample_idx = torch.randint(6424, size=(1,)).item() # Случайный индекс из датасета\n",
        "    #img, label = training_data[sample_idx] # Обращение по такому индексу возвращает изображение и метку элемента датасета\n",
        "    img =\n",
        "    figure.add_subplot(rows, cols, i)\n",
        "    plt.title(labels[label])\n",
        "    plt.axis(\"off\")\n",
        "    plt.imshow(np.moveaxis(img.numpy(),0,-1))\n",
        "plt.show()'''\n",
        "for i in range(len(sh)):\n",
        "  figure.add_subplot(rows, cols, i+1)\n",
        "  c  = sh['image_name'][i]\n",
        "  img = plt.imread('train_196/train_196/'+c)\n",
        "  plt.title(f\"{c[-8:-4]}:{ sh['pred'][i] },{ sh['real'][i] }\")\n",
        "  plt.axis(\"off\")\n",
        "  plt.imshow(img)\n",
        "\n",
        "plt.show()"
      ]
    },
    {
      "cell_type": "markdown",
      "metadata": {
        "id": "JvSbDp-s5TpI"
      },
      "source": [
        "#out"
      ]
    },
    {
      "cell_type": "code",
      "execution_count": null,
      "metadata": {
        "id": "_GOqvbr8xE-z"
      },
      "outputs": [],
      "source": [
        "torch.cuda.empty_cache()\n",
        "model.train(False)\n",
        "out = pd.DataFrame()\n",
        "size = len(outdl.dataset)\n",
        "out['id']=range(size)\n",
        "out['label']=['a']*size\n",
        "num_batches = len(outdl)\n",
        "with torch.no_grad():\n",
        "  for i, data in enumerate(outdl):\n",
        "    X = data['image'].to(device)\n",
        "    pred = model(X).to('cpu')\n",
        "    #print(pred.shape)\n",
        "    #print(type((pred.argmax(1)).type(torch.float).numpy()))\n",
        "    out['label'][i*64 : i*64+64 ] = pred.argmax(1).type(torch.int).numpy()\n",
        "\n",
        "print('done')"
      ]
    },
    {
      "cell_type": "code",
      "execution_count": null,
      "metadata": {
        "id": "fgcbVaDvCabn"
      },
      "outputs": [],
      "source": [
        "out"
      ]
    },
    {
      "cell_type": "code",
      "execution_count": null,
      "metadata": {
        "id": "0EGX4cPj7zbj"
      },
      "outputs": [],
      "source": [
        "out.to_csv('Козырева_елизавета.csv', index=False, header=True)"
      ]
    },
    {
      "cell_type": "markdown",
      "metadata": {
        "id": "GhWJHGR-843b"
      },
      "source": [
        "#save or load"
      ]
    },
    {
      "cell_type": "code",
      "execution_count": null,
      "metadata": {
        "id": "eoPM3kDE70XZ"
      },
      "outputs": [],
      "source": [
        "torch.save(model.state_dict(), \"model.pt\")"
      ]
    },
    {
      "cell_type": "code",
      "execution_count": null,
      "metadata": {
        "id": "QpbeHGA19AG_"
      },
      "outputs": [],
      "source": [
        "new_model = NeuralNetwork().eval()\n",
        "state_dict = torch.load(\"model.pt\")\n",
        "new_model.load_state_dict(state_dict)"
      ]
    }
  ],
  "metadata": {
    "accelerator": "GPU",
    "colab": {
      "collapsed_sections": [
        "jhwBTxaVyUhz",
        "Vv6xHltYmpk0",
        "p_IsnYwfHokh",
        "GhWJHGR-843b"
      ],
      "provenance": [],
      "gpuType": "T4"
    },
    "gpuClass": "standard",
    "kernelspec": {
      "display_name": "Python 3",
      "name": "python3"
    },
    "language_info": {
      "name": "python"
    }
  },
  "nbformat": 4,
  "nbformat_minor": 0
}