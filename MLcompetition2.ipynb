{
  "cells": [
    {
      "cell_type": "markdown",
      "source": [
        "https://www.kaggle.com/competitions/share2022mlcomp02"
      ],
      "metadata": {
        "id": "gO7sag24s_Q8"
      }
    },
    {
      "cell_type": "markdown",
      "metadata": {
        "id": "6bwwUA0hVc1A"
      },
      "source": [
        "# Get data"
      ]
    },
    {
      "cell_type": "markdown",
      "metadata": {
        "id": "3gi7jO8VVvGP"
      },
      "source": [
        "Каждое решение должно иметь название формата \"Фамилия_имя\", другие решения не принимаются.\n",
        "\n",
        "Победители должны будут предоставить код, показывающий, как было получено их решение, и презентацию решения."
      ]
    },
    {
      "cell_type": "code",
      "execution_count": null,
      "metadata": {
        "id": "Wv10TZTsXAE8"
      },
      "outputs": [],
      "source": [
        "from google.colab import drive\n",
        "drive.mount('/content/drive')"
      ]
    },
    {
      "cell_type": "code",
      "execution_count": null,
      "metadata": {
        "id": "vCVlbChoUAEI"
      },
      "outputs": [],
      "source": [
        "! cd /content/drive/MyDrive/kaggle/"
      ]
    },
    {
      "cell_type": "code",
      "execution_count": null,
      "metadata": {
        "id": "IZDDP0gHUefA"
      },
      "outputs": [],
      "source": [
        "import os\n",
        "os.environ['KAGGLE_CONFIG_DIR'] = \"/content/drive/MyDrive/kaggle/\""
      ]
    },
    {
      "cell_type": "code",
      "execution_count": null,
      "metadata": {
        "colab": {
          "base_uri": "https://localhost:8080/"
        },
        "id": "91WL8Q40UgR-",
        "outputId": "803b7bef-e6b1-4591-d941-4774a86f5fd3"
      },
      "outputs": [
        {
          "output_type": "stream",
          "name": "stdout",
          "text": [
            "Downloading share2022mlcomp01.zip to /content\n",
            " 82% 38.0M/46.2M [00:00<00:00, 40.0MB/s]\n",
            "100% 46.2M/46.2M [00:00<00:00, 53.6MB/s]\n"
          ]
        }
      ],
      "source": [
        "!kaggle competitions download -c share2022mlcomp02"
      ]
    },
    {
      "cell_type": "code",
      "execution_count": null,
      "metadata": {
        "colab": {
          "base_uri": "https://localhost:8080/"
        },
        "id": "Nm1LE4NAUiNH",
        "outputId": "36da17cb-e2fe-4d6c-d317-b7d1ce058629"
      },
      "outputs": [
        {
          "output_type": "stream",
          "name": "stdout",
          "text": [
            "Archive:  share2022mlcomp01.zip\n",
            "  inflating: sample_sabmission.csv   \n",
            "replace test.csv? [y]es, [n]o, [A]ll, [N]one, [r]ename: y\n",
            "  inflating: test.csv                \n",
            "replace train.csv? [y]es, [n]o, [A]ll, [N]one, [r]ename: y\n",
            "  inflating: train.csv               \n"
          ]
        }
      ],
      "source": [
        "! unzip share2022mlcomp02.zip"
      ]
    },
    {
      "cell_type": "code",
      "execution_count": null,
      "metadata": {
        "id": "bxN-KKsrUkEF"
      },
      "outputs": [],
      "source": [
        "import numpy as np\n",
        "import pandas as pd\n",
        "from sklearn.model_selection import train_test_split"
      ]
    },
    {
      "cell_type": "code",
      "execution_count": null,
      "metadata": {
        "id": "3JrZMjrAUmBW"
      },
      "outputs": [],
      "source": [
        "train = pd.read_csv('train.csv')\n",
        "test = pd.read_csv('test.csv')\n",
        "\n",
        "ytrain = train['f291']\n",
        "train = train.drop('id', axis=1)\n",
        "train = train.drop('f291', axis=1)\n",
        "test = test.drop('id', axis=1)"
      ]
    },
    {
      "cell_type": "code",
      "execution_count": null,
      "metadata": {
        "id": "6VNunFAQa0Vy"
      },
      "outputs": [],
      "source": [
        "train"
      ]
    },
    {
      "cell_type": "code",
      "execution_count": null,
      "metadata": {
        "id": "3eOasZK1a3mw"
      },
      "outputs": [],
      "source": [
        "test.head()"
      ]
    },
    {
      "cell_type": "markdown",
      "metadata": {
        "id": "XmIx6l62V6s-"
      },
      "source": [
        "# Preprocessing"
      ]
    },
    {
      "cell_type": "markdown",
      "metadata": {
        "id": "XyWMLmOfWMdZ"
      },
      "source": [
        "Данное тестовое задание состоит в том, чтобы по набору примеров многомерных признаков и правильных ответов из обучающего множества обучить регрессионную модель, которую затем применить к набору примеров признаков из тестового множества и прислать файл с полученными ответами."
      ]
    },
    {
      "cell_type": "markdown",
      "metadata": {
        "id": "FM3HMnTLWD_o"
      },
      "source": [
        "Для оценки качества работы алгоритма регрессии используется метрика RMSLE (Root Mean Squared Logarithmic Error)"
      ]
    },
    {
      "cell_type": "code",
      "execution_count": null,
      "metadata": {
        "colab": {
          "base_uri": "https://localhost:8080/"
        },
        "id": "dCpW_wJ_Zi4w",
        "outputId": "02b3187d-5859-4f87-b51b-d82634b7c8ac"
      },
      "outputs": [
        {
          "data": {
            "text/plain": [
              "f1                2014-03-29\n",
              "f11            OwnerOccupier\n",
              "f12     Poselenie Vnukovskoe\n",
              "f29                       no\n",
              "f33                       no\n",
              "f34                       no\n",
              "f35                       no\n",
              "f36                       no\n",
              "f37                       no\n",
              "f38                       no\n",
              "f39                       no\n",
              "f40                       no\n",
              "f106                      no\n",
              "f114                      no\n",
              "f118                      no\n",
              "f152                 no data\n",
              "Name: 0, dtype: object"
            ]
          },
          "execution_count": 114,
          "metadata": {},
          "output_type": "execute_result"
        }
      ],
      "source": [
        "test.loc[0][train.dtypes.index[train.dtypes == object]] #get [0] element object columns"
      ]
    },
    {
      "cell_type": "code",
      "execution_count": null,
      "metadata": {
        "colab": {
          "base_uri": "https://localhost:8080/"
        },
        "id": "kRz_LRPXyVTW",
        "outputId": "c2744fb3-f969-4495-a494-925b005df257"
      },
      "outputs": [
        {
          "data": {
            "text/plain": [
              "array(['no', 'yes'], dtype=object)"
            ]
          },
          "execution_count": 115,
          "metadata": {},
          "output_type": "execute_result"
        }
      ],
      "source": [
        "train['f33'].unique()"
      ]
    },
    {
      "cell_type": "code",
      "execution_count": null,
      "metadata": {
        "id": "6ZIm18vY41di"
      },
      "outputs": [],
      "source": [
        "# f152 has gradation, not category. Better to make a gradation\n",
        "#['good', 'no data', 'satisfactory', 'poor', 'excellent']\n",
        "a = np.zeros(len(train), dtype=int)\n",
        "for i, cond in enumerate(['no data', 'poor', 'satisfactory', 'good', 'excellent']):\n",
        "    a += i*np.array(train['f152'] == cond)\n",
        "#np.all(a[train['f152'] == 'excellent'] == 4)\n",
        "train['f152'] = a\n",
        "\n",
        "a = np.zeros(len(test), dtype=int)\n",
        "for i, cond in enumerate(['no data', 'poor', 'satisfactory', 'good', 'excellent']):\n",
        "    a += i * np.array(test['f152'] == cond)\n",
        "test['f152'] = a\n",
        "\n",
        "# f1 is a date Not category either\n",
        "# I want them to be sorted and i havn't found it in ordinal encoder, sorted(train['f1'].unique()) seem to work\n",
        "#but dates in train and test are different -> set|  only 1161 dates for 24376 rows\n",
        "dates = set.union(set(train['f1'].unique()), set(test['f1'].unique()))\n",
        "dates = sorted(dates)\n",
        "\n",
        "a = np.zeros(len(train), dtype=int)\n",
        "for i, date in enumerate(dates):#here we go up the date and it's number\n",
        "    a += i*np.array(train['f1'] == date)\n",
        "train['f1'] = a\n",
        "\n",
        "a = np.zeros(len(test), dtype=int)\n",
        "for i, date in enumerate(dates):\n",
        "    a += i*np.array(test['f1'] == date)\n",
        "test['f1'] = a"
      ]
    },
    {
      "cell_type": "code",
      "execution_count": null,
      "metadata": {
        "id": "Za-_y7wB0g-a"
      },
      "outputs": [],
      "source": [
        "#change yes/no columns to 1/0 columns (no nan here)\n",
        "#no idea why not automatically, mb skip later\n",
        "for ind in ['f29', 'f33','f34','f35','f36','f37','f38','f39','f40','f106','f114','f118' ]:\n",
        "    train[ind] = 1*np.array(train[ind] == 'yes')\n",
        "\n",
        "for ind in ['f29', 'f33','f34','f35','f36','f37','f38','f39','f40','f106','f114','f118' ]:\n",
        "    test[ind] = 1*np.array(test[ind] == 'yes')\n",
        "\n",
        "train['f11'] = 1*np.array(train['f11'] == 'OwnerOccupier')\n",
        "test['f11'] = 1*np.array(test['f11'] == 'OwnerOccupier')"
      ]
    },
    {
      "cell_type": "code",
      "execution_count": null,
      "metadata": {
        "id": "xusAh3794Cwk"
      },
      "outputs": [],
      "source": [
        "#only Juzhnoe Butovo 'f12' is left\n",
        "#try one hot and ordinal encoders\n",
        "from sklearn.preprocessing import OrdinalEncoder, OneHotEncoder\n",
        "\n",
        "encoder = OrdinalEncoder()\n",
        "newf12tr = encoder.fit_transform(train['f12'][..., np.newaxis])\n",
        "train['f12'] = newf12tr.squeeze()\n",
        "\n",
        "newf12t = encoder.transform(test['f12'][..., np.newaxis])\n",
        "test['f12'] = newf12t.squeeze()\n",
        "\n",
        "#encoder.categories_"
      ]
    },
    {
      "cell_type": "code",
      "execution_count": null,
      "metadata": {
        "id": "NaeB4e48LXJA"
      },
      "outputs": [],
      "source": [
        "#knn imputer deletes headers, so we have to do smth to save them\n",
        "from sklearn.impute import KNNImputer, MissingIndicator\n",
        "\n",
        "ind = MissingIndicator()\n",
        "miss = ind.fit_transform(train)\n",
        "#this is np.all(miss == missing) == True what is being added in KnnImputer\n",
        "#len(nancols) = 51\n",
        "nancols = []\n",
        "for name in train.columns[ind.features_]:\n",
        "    nancols.append(name+'nan')\n",
        "newcols = [*train.columns]+nancols\n",
        "\n",
        "# ind = MissingIndicator()\n",
        "# miss = ind.fit_transform(test)\n",
        "#in test the columns are the same"
      ]
    },
    {
      "cell_type": "code",
      "execution_count": null,
      "metadata": {
        "id": "gjXxN5niCU0w"
      },
      "outputs": [],
      "source": [
        "#Nan with nn cause i like them)\n",
        "# KNNImputer потому что этот способ вставить значения\n",
        "# куда лучше,чем просто какое либо среднее, но в то же время не слишком сложный\n",
        "\n",
        "imputer = KNNImputer(n_neighbors=5, add_indicator=True)\n",
        "tr = imputer.fit_transform(train)\n",
        "train = pd.DataFrame(tr, columns = newcols)\n",
        "\n",
        "imputer = KNNImputer(n_neighbors=5, add_indicator=True)\n",
        "t = imputer.fit_transform(test)\n",
        "test = pd.DataFrame(t, columns = newcols)\n",
        "#флаги пропусков это хорошо(и корелляция пропусков)\n",
        "#TRY with and without"
      ]
    },
    {
      "cell_type": "code",
      "execution_count": null,
      "metadata": {
        "id": "VO-uGl4BUWHe"
      },
      "outputs": [],
      "source": [
        "train"
      ]
    },
    {
      "cell_type": "code",
      "execution_count": null,
      "metadata": {
        "id": "KaYauLLI7Kbt"
      },
      "outputs": [],
      "source": [
        "#save new train and test cause knn is slow\n",
        "#with nan flags and ordinal f12\n",
        "#and ytrain glued back to train)\n",
        "train['y'] = ytrain\n",
        "train.to_csv('trainNew.csv', index = False)\n",
        "test.to_csv('testNew.csv', index = False)"
      ]
    },
    {
      "cell_type": "code",
      "execution_count": null,
      "metadata": {
        "id": "F1Tp7vg18loc"
      },
      "outputs": [],
      "source": [
        "!\tcp trainNew.csv /content/drive/MyDrive/kaggle/\n",
        "!\tcp testNew.csv /content/drive/MyDrive/kaggle/"
      ]
    },
    {
      "cell_type": "code",
      "execution_count": null,
      "metadata": {
        "id": "DyTxp3lu8ruB"
      },
      "outputs": [],
      "source": [
        "! cp /content/drive/MyDrive/kaggle/*New.csv ."
      ]
    },
    {
      "cell_type": "code",
      "execution_count": null,
      "metadata": {
        "id": "0xwF4iW98TEJ"
      },
      "outputs": [],
      "source": [
        "import numpy as np\n",
        "import pandas as pd\n",
        "from sklearn.model_selection import train_test_split\n",
        "\n",
        "#to load them back\n",
        "train = pd.read_csv('trainNew.csv')\n",
        "test = pd.read_csv('testNew.csv')\n",
        "\n",
        "ytrain = train['y']\n",
        "train = train.drop('y', axis=1)"
      ]
    },
    {
      "cell_type": "code",
      "execution_count": null,
      "metadata": {
        "colab": {
          "base_uri": "https://localhost:8080/"
        },
        "id": "AtgKX4_eHXR0",
        "outputId": "454cf21d-0206-4c87-ebb4-2bcdf97966d6"
      },
      "outputs": [
        {
          "output_type": "execute_result",
          "data": {
            "text/plain": [
              "341"
            ]
          },
          "metadata": {},
          "execution_count": 3
        }
      ],
      "source": [
        "len(train.columns)"
      ]
    },
    {
      "cell_type": "code",
      "execution_count": null,
      "metadata": {
        "id": "Ycf5IpXwWXFt"
      },
      "outputs": [],
      "source": [
        "train"
      ]
    },
    {
      "cell_type": "markdown",
      "metadata": {
        "id": "pY8CcGXz4OkF"
      },
      "source": [
        "test our preprocessing"
      ]
    },
    {
      "cell_type": "code",
      "execution_count": null,
      "metadata": {
        "id": "6-r8IIJAWEsa"
      },
      "outputs": [],
      "source": [
        "#нормировать надо mb!!!\n",
        "#еще можно бы смотреть на данные\n",
        "#корелляция пропусков\n",
        "#(равномерность классов, корелляция,логистическая регрессия для ненужнвх фич?????,\n",
        "#как то(кросс валидация; kfold) люди поняли, что первые 10к битые)"
      ]
    },
    {
      "cell_type": "code",
      "execution_count": null,
      "metadata": {
        "id": "INKqOylUWpxT"
      },
      "outputs": [],
      "source": [
        "#КРАСИВЫЕ КАРТИНКИИИИИИИИИ"
      ]
    },
    {
      "cell_type": "code",
      "execution_count": null,
      "metadata": {
        "id": "rDvxtDKQ89v2"
      },
      "outputs": [],
      "source": [
        "#f12 is ordinal and f11 can be reversed and nan flags skipped"
      ]
    },
    {
      "cell_type": "code",
      "execution_count": null,
      "metadata": {
        "id": "DVpnung2EfID"
      },
      "outputs": [],
      "source": [
        "from sklearn.preprocessing import StandardScaler\n",
        "\n",
        "scaler = StandardScaler()\n",
        "train_sc = scaler.fit_transform(train)\n",
        "test_sc = scaler.transform(test)"
      ]
    },
    {
      "cell_type": "code",
      "execution_count": null,
      "metadata": {
        "id": "xuz6_lUdCdQJ"
      },
      "outputs": [],
      "source": [
        "trcols = np.array(train_sc).T\n",
        "cov = np.cov(trcols)"
      ]
    },
    {
      "cell_type": "code",
      "execution_count": null,
      "metadata": {
        "id": "Fj2MrlzANkEx"
      },
      "outputs": [],
      "source": [
        "def trash(trashhold):\n",
        "    c = cov>trashhold\n",
        "    d = set()\n",
        "    l = len(train.columns)\n",
        "    for i in range(l):\n",
        "        for j in range(i+1, l):\n",
        "            if c[i][j]:\n",
        "                d.add(i)\n",
        "                break\n",
        "    return d\n",
        "#d"
      ]
    },
    {
      "cell_type": "code",
      "execution_count": null,
      "metadata": {
        "colab": {
          "base_uri": "https://localhost:8080/"
        },
        "id": "soB6cKwDT6dz",
        "outputId": "6f5e8a6e-3ab2-4aee-9593-df5cc76de763"
      },
      "outputs": [
        {
          "data": {
            "text/plain": [
              "0"
            ]
          },
          "execution_count": 50,
          "metadata": {},
          "output_type": "execute_result"
        }
      ],
      "source": [
        "len(trash(0.9))"
      ]
    },
    {
      "cell_type": "code",
      "execution_count": null,
      "metadata": {
        "colab": {
          "base_uri": "https://localhost:8080/",
          "height": 55
        },
        "id": "yrGbDpalFtog",
        "outputId": "3dfa35b2-07e7-4176-8bb1-b0ac22847823"
      },
      "outputs": [
        {
          "data": {
            "image/png": "[encoded data removed]",
            "text/plain": [
              "<Figure size 432x288 with 1 Axes>"
            ]
          },
          "metadata": {},
          "output_type": "display_data"
        }
      ],
      "source": [
        "a = np.arange(0,1,0.001)\n",
        "plt.imshow(np.vstack([a]*10), cmap='hot')\n",
        "plt.show()"
      ]
    },
    {
      "cell_type": "code",
      "execution_count": null,
      "metadata": {
        "id": "N65mcyWnPauB"
      },
      "outputs": [],
      "source": [
        "#for dropped\n",
        "scaler = StandardScaler()\n",
        "td_sc = scaler.fit_transform(tr_dr)\n",
        "\n",
        "trcols = np.array(td_sc).T\n",
        "covd = np.cov(trcols)"
      ]
    },
    {
      "cell_type": "code",
      "execution_count": null,
      "metadata": {
        "colab": {
          "base_uri": "https://localhost:8080/",
          "height": 269
        },
        "id": "3zhm-tnIAAb2",
        "outputId": "d1eccaa0-2907-43b3-e509-076b09e94b5d"
      },
      "outputs": [
        {
          "data": {
            "image/png": "[encoded data removed]",
            "text/plain": [
              "<Figure size 288x288 with 1 Axes>"
            ]
          },
          "metadata": {},
          "output_type": "display_data"
        }
      ],
      "source": [
        "import matplotlib.pyplot as plt\n",
        "\n",
        "plt.figure(figsize=(4,4))\n",
        "plt.imshow(cov>0.8, cmap='hot')\n",
        "#plt.savefig('cov.png', dpi = 256)\n",
        "plt.show()"
      ]
    },
    {
      "cell_type": "code",
      "execution_count": null,
      "metadata": {
        "id": "Jl0A8fqgRrl-"
      },
      "outputs": [],
      "source": [
        "d = train.columns[[*trash(0.99)]]\n",
        "tr_dr = train.drop(d, axis=1)\n",
        "t_dr = test.drop(d, axis=1)\n",
        "#, inplace=True"
      ]
    },
    {
      "cell_type": "code",
      "execution_count": null,
      "metadata": {
        "colab": {
          "base_uri": "https://localhost:8080/"
        },
        "id": "KSHuOWG6UFVl",
        "outputId": "25d92db8-c0c3-4c77-a822-c34d5a17ba6c"
      },
      "outputs": [
        {
          "data": {
            "text/plain": [
              "234"
            ]
          },
          "execution_count": 11,
          "metadata": {},
          "output_type": "execute_result"
        }
      ],
      "source": [
        "len(tr_dr.columns)"
      ]
    },
    {
      "cell_type": "code",
      "execution_count": null,
      "metadata": {
        "id": "tqtveyGoWiSD"
      },
      "outputs": [],
      "source": [
        "tr_dr"
      ]
    },
    {
      "cell_type": "markdown",
      "metadata": {
        "id": "COpMc8gPUCyv"
      },
      "source": [
        "logistic regression check:"
      ]
    },
    {
      "cell_type": "markdown",
      "metadata": {
        "id": "2jLrlOx53S9z"
      },
      "source": [
        "Для оценки качества работы алгоритма регрессии используется метрика RMSLE (Root Mean Squared Logarithmic Error)\n",
        "\n",
        "https://scikit-learn.org/stable/modules/generated/sklearn.metrics.mean_squared_log_error.html"
      ]
    },
    {
      "cell_type": "code",
      "execution_count": null,
      "metadata": {
        "id": "rqkUm11VVWiv"
      },
      "outputs": [],
      "source": [
        "from sklearn.metrics import mean_squared_log_error\n",
        "#mean_squared_log_error(y_true, y_pred,squared=False)\n",
        "from sklearn.linear_model import LinearRegression, ElasticNet"
      ]
    },
    {
      "cell_type": "code",
      "execution_count": null,
      "metadata": {
        "id": "a_6gliVvfB9k"
      },
      "outputs": [],
      "source": [
        "#for logistic regression we need scaling\n",
        "from sklearn.preprocessing import StandardScaler\n",
        "\n",
        "scaler = StandardScaler()\n",
        "td_sc = scaler.fit_transform(tr_dr)"
      ]
    },
    {
      "cell_type": "code",
      "execution_count": null,
      "metadata": {
        "id": "TtK3Gexrb8q9",
        "colab": {
          "base_uri": "https://localhost:8080/"
        },
        "outputId": "55695bf4-4ca3-4161-c5d5-0a0baddd89b6"
      },
      "outputs": [
        {
          "output_type": "execute_result",
          "data": {
            "text/plain": [
              "0.5334973008499887"
            ]
          },
          "metadata": {},
          "execution_count": 55
        }
      ],
      "source": [
        "# 0.5334973008499887\n",
        "scaler = StandardScaler()\n",
        "train_sc = scaler.fit_transform(train)\n",
        "\n",
        "model = ElasticNet(positive = True)\n",
        "model.fit(train_sc[:10000], ytrain[:10000])\n",
        "y = model.predict(train_sc)\n",
        "#y[y < 0] = 0\n",
        "mean_squared_log_error(ytrain, y, squared=False)"
      ]
    },
    {
      "cell_type": "code",
      "execution_count": null,
      "metadata": {
        "id": "ZLqEsTmzUQ43",
        "colab": {
          "base_uri": "https://localhost:8080/"
        },
        "outputId": "c34416aa-1114-48d4-d31f-7869befe3d7d"
      },
      "outputs": [
        {
          "output_type": "execute_result",
          "data": {
            "text/plain": [
              "0.5334973008495185"
            ]
          },
          "metadata": {},
          "execution_count": 56
        }
      ],
      "source": [
        "#without nan indicators 0.5334973008495185\n",
        "scaler = StandardScaler()\n",
        "train_sc = scaler.fit_transform(train.iloc[:, :290])\n",
        "\n",
        "model = ElasticNet(positive = True)\n",
        "model.fit(train_sc[:10000], ytrain[:10000])\n",
        "y = model.predict(train_sc)\n",
        "y[y < 0] = 0\n",
        "mean_squared_log_error(ytrain, y, squared=False)"
      ]
    },
    {
      "cell_type": "code",
      "execution_count": null,
      "metadata": {
        "id": "hwMRjkx6VLnY",
        "colab": {
          "base_uri": "https://localhost:8080/"
        },
        "outputId": "eee80435-d648-49f5-b964-d6f8b6e248e6"
      },
      "outputs": [
        {
          "output_type": "execute_result",
          "data": {
            "text/plain": [
              "0.5224133022905805"
            ]
          },
          "metadata": {},
          "execution_count": 37
        }
      ],
      "source": [
        "#with f12 as one hot instead of ordinal 0.5224133022905805\n",
        "from sklearn.preprocessing import OneHotEncoder\n",
        "\n",
        "# enc = OneHotEncoder(handle_unknown='ignore')\n",
        "# f12 = enc.fit_transform(train['f12'][..., np.newaxis])\n",
        "# troh = train.drop('f12', axis=1)\n",
        "# f12 = pd.DataFrame(f12.toarray(), columns = [str(i)+'oh' for i in range(146)])\n",
        "# troh = pd.concat([troh,f12],  axis=1)\n",
        "\n",
        "scaler = StandardScaler()\n",
        "train_sc = scaler.fit_transform(train)\n",
        "\n",
        "model = ElasticNet(positive = True)\n",
        "model.fit(train_sc[:10000], ytrain[:10000])\n",
        "y = model.predict(train_sc)\n",
        "#y[y < 0] = 0\n",
        "mean_squared_log_error(ytrain, y, squared=False)"
      ]
    },
    {
      "cell_type": "code",
      "execution_count": null,
      "metadata": {
        "id": "uHOBWskqyz26"
      },
      "outputs": [],
      "source": [
        "troh"
      ]
    },
    {
      "cell_type": "code",
      "execution_count": null,
      "metadata": {
        "id": "R5NkPwuSUMIt",
        "colab": {
          "base_uri": "https://localhost:8080/"
        },
        "outputId": "20b49d68-8004-4875-b25c-4830a61a8290"
      },
      "outputs": [
        {
          "output_type": "stream",
          "name": "stdout",
          "text": [
            "0.93 : 0.5334086482169713\n",
            "0.94 : 0.5334086482168587\n",
            "0.95 : 0.5334330909495241\n",
            "0.97 : 0.5333759396698627\n",
            "0.98 : 0.5334229953447789\n",
            "0.99 : 0.5334973008499887\n",
            "1 : 0.5334973008499887\n",
            "1.1 : 0.5334973008499887\n"
          ]
        }
      ],
      "source": [
        "#without correlated features\n",
        "# 0.93 : 0.5340022766068765\n",
        "# 0.94 : 0.5340022766068765\n",
        "# 0.95 : 0.5335577057159869\n",
        "# 0.97 : 0.5334861672390546\n",
        "# 0.98 : 0.5334861672390546\n",
        "# 0.99 : 0.5334170205536763\n",
        "# 1    : 0.5334973008498826\n",
        "# 1.1  : 0.5334973008499887\n",
        "for trashhold in [0.93,0.94,0.95,0.97,0.98, 0.99, 1, 1.1]:\n",
        "    d = train.columns[[*trash(trashhold)]]\n",
        "    tr_dr = train.drop(d, axis=1)\n",
        "\n",
        "    scaler = StandardScaler()\n",
        "    td_sc = scaler.fit_transform(tr_dr)\n",
        "\n",
        "    model = ElasticNet(positive = True)\n",
        "    model.fit(td_sc[:10000], ytrain[:10000])\n",
        "    y = model.predict(td_sc)\n",
        "    y[y < 0] = 0\n",
        "    err = mean_squared_log_error(ytrain, y, squared=False)\n",
        "    print(trashhold, ':', err)"
      ]
    },
    {
      "cell_type": "markdown",
      "metadata": {
        "id": "bCebwCw-cemd"
      },
      "source": [
        "automatic feature selector"
      ]
    },
    {
      "cell_type": "code",
      "execution_count": null,
      "metadata": {
        "id": "Tx8J1Z5zMATZ"
      },
      "outputs": [],
      "source": [
        "#with thing for feature selection automatically + corr drop at 0.99\n",
        "from sklearn.feature_selection import RFECV\n",
        "from sklearn.preprocessing import OneHotEncoder\n",
        "\n",
        "# enc = OneHotEncoder(handle_unknown='ignore')\n",
        "# f12 = enc.fit_transform(train['f12'][..., np.newaxis])\n",
        "# troh = train.drop('f12', axis=1)\n",
        "# f12 = pd.DataFrame(f12.toarray(), columns = [str(i)+'oh' for i in range(146)])\n",
        "# troh = pd.concat([troh,f12],  axis=1)\n",
        "\n",
        "d = train.columns[[*trash(0.99)]]\n",
        "tr = train.drop(d, axis=1)\n",
        "\n",
        "scaler = StandardScaler()\n",
        "train_sc = scaler.fit_transform(tr)\n",
        "\n",
        "selector = RFECV(ElasticNet(positive = True), scoring='neg_mean_squared_log_error', step = 15)\n",
        "selector = selector.fit(train_sc[:10000], ytrain[:10000])\n",
        "\n",
        "print(selector.support_)\n",
        "print(selector.ranking_)\n"
      ]
    },
    {
      "cell_type": "code",
      "source": [
        "np.sum(selector.support_)"
      ],
      "metadata": {
        "colab": {
          "base_uri": "https://localhost:8080/"
        },
        "id": "CJGPWsWQAbaX",
        "outputId": "5f61068a-07c4-42dd-9a4e-b0a156fa67b9"
      },
      "execution_count": null,
      "outputs": [
        {
          "output_type": "execute_result",
          "data": {
            "text/plain": [
              "24"
            ]
          },
          "metadata": {},
          "execution_count": 72
        }
      ]
    },
    {
      "cell_type": "code",
      "execution_count": null,
      "metadata": {
        "id": "kVYSCP7qw4T8",
        "colab": {
          "base_uri": "https://localhost:8080/"
        },
        "outputId": "41b08294-f67d-42bb-8302-8e7169f28236"
      },
      "outputs": [
        {
          "output_type": "stream",
          "name": "stdout",
          "text": [
            "Optimal number of features: 24\n"
          ]
        }
      ],
      "source": [
        "print(f\"Optimal number of features: {selector.n_features_}\")\n",
        "np.save('selected_features', selector.ranking_)"
      ]
    },
    {
      "cell_type": "code",
      "execution_count": null,
      "metadata": {
        "id": "72F7cblSPZBS"
      },
      "outputs": [],
      "source": [
        "!\tcp selected_features.npy /content/drive/MyDrive/kaggle/"
      ]
    },
    {
      "cell_type": "code",
      "source": [
        "np.save('selected_features', tr.columns[selector.support_])"
      ],
      "metadata": {
        "id": "NP2tVjK9z8_r"
      },
      "execution_count": null,
      "outputs": []
    },
    {
      "cell_type": "code",
      "source": [
        "!\tcp selected_features.npy /content/drive/MyDrive/kaggle/"
      ],
      "metadata": {
        "id": "phAdyxn90KtA"
      },
      "execution_count": null,
      "outputs": []
    },
    {
      "cell_type": "code",
      "execution_count": null,
      "metadata": {
        "id": "E8yORgw3wcsg",
        "colab": {
          "base_uri": "https://localhost:8080/",
          "height": 310
        },
        "outputId": "00880882-3111-48c1-de0a-89c199cc69a2"
      },
      "outputs": [
        {
          "output_type": "display_data",
          "data": {
            "text/plain": [
              "<Figure size 432x288 with 1 Axes>"
            ],
            "image/png": "[encoded data removed]"
          },
          "metadata": {
            "needs_background": "light"
          }
        }
      ],
      "source": [
        "import matplotlib.pyplot as plt\n",
        "\n",
        "n_scores = len(selector.cv_results_[\"mean_test_score\"])\n",
        "plt.figure()\n",
        "plt.xlabel(\"Number of features selected\")\n",
        "plt.ylabel(\"Mean test accuracy\")\n",
        "plt.errorbar(\n",
        "    range(1, n_scores + 1),\n",
        "    selector.cv_results_[\"mean_test_score\"],\n",
        "    yerr=selector.cv_results_[\"std_test_score\"],\n",
        ")\n",
        "plt.title(\"Recursive Feature Elimination \\nwith correlated features\")\n",
        "plt.savefig(\"pict.png\")\n",
        "plt.show()"
      ]
    },
    {
      "cell_type": "code",
      "execution_count": null,
      "metadata": {
        "id": "YSyjRQPXgt3-"
      },
      "outputs": [],
      "source": [
        "!\tcp pict.png /content/drive/MyDrive/kaggle/"
      ]
    },
    {
      "cell_type": "code",
      "source": [
        "sel = tr.columns[selector.support_]\n",
        "sel"
      ],
      "metadata": {
        "colab": {
          "base_uri": "https://localhost:8080/"
        },
        "id": "bjo1nA1ujNd8",
        "outputId": "348c6662-e859-4362-d079-c31ad56faf00"
      },
      "execution_count": null,
      "outputs": [
        {
          "output_type": "execute_result",
          "data": {
            "text/plain": [
              "Index(['f1', 'f2', 'f3', 'f4', 'f5', 'f6', 'f8', 'f10', 'f11', 'f19', 'f22',\n",
              "       'f24', 'f25', 'f51', 'f73', 'f84', 'f120', 'f173', 'f208', 'f266',\n",
              "       'f271', 'f273', 'f287', 'f289'],\n",
              "      dtype='object')"
            ]
          },
          "metadata": {},
          "execution_count": 75
        }
      ]
    },
    {
      "cell_type": "code",
      "source": [
        "#0.0.6215011668142395\n",
        "tr = train[sel]\n",
        "\n",
        "scaler = StandardScaler()\n",
        "train_sc = scaler.fit_transform(tr)\n",
        "\n",
        "model = ElasticNet()\n",
        "model.fit(tr[:10000], ytrain[:10000])\n",
        "y = model.predict(tr)\n",
        "y[y<0] = 0\n",
        "mean_squared_log_error(ytrain, y, squared=False)"
      ],
      "metadata": {
        "colab": {
          "base_uri": "https://localhost:8080/"
        },
        "id": "AWDns4CPjXn4",
        "outputId": "336e85b1-7386-4fc0-ac0e-59b2642b728d"
      },
      "execution_count": null,
      "outputs": [
        {
          "output_type": "execute_result",
          "data": {
            "text/plain": [
              "0.6215011668142395"
            ]
          },
          "metadata": {},
          "execution_count": 76
        }
      ]
    },
    {
      "cell_type": "markdown",
      "source": [
        "лучшие - one hot и 0.99 корелляция"
      ],
      "metadata": {
        "id": "ERlcKTXT7XQo"
      }
    },
    {
      "cell_type": "markdown",
      "source": [
        "# load data and preprocess fast\n"
      ],
      "metadata": {
        "id": "_KGI7bw_trLx"
      }
    },
    {
      "cell_type": "markdown",
      "source": [
        "кросс валидация"
      ],
      "metadata": {
        "id": "lJhFU-S_Be4D"
      }
    },
    {
      "cell_type": "code",
      "source": [
        "! cp /content/drive/MyDrive/kaggle/*New.csv ."
      ],
      "metadata": {
        "id": "DG3Nw3Zi-yWg"
      },
      "execution_count": null,
      "outputs": []
    },
    {
      "cell_type": "code",
      "source": [
        "import numpy as np\n",
        "import pandas as pd\n",
        "from sklearn.model_selection import train_test_split\n",
        "\n",
        "#to load them back\n",
        "train = pd.read_csv('trainNew.csv')\n",
        "test = pd.read_csv('testNew.csv')\n",
        "\n",
        "ytrain = train['y']\n",
        "train = train.drop('y', axis=1)"
      ],
      "metadata": {
        "id": "nVOR2wkF-tqB"
      },
      "execution_count": null,
      "outputs": []
    },
    {
      "cell_type": "code",
      "source": [
        "#0.5100937368072971\n",
        "from sklearn.metrics import mean_squared_log_error#(y_true, y_pred,squared=False)\n",
        "from sklearn.linear_model import LinearRegression, ElasticNet\n",
        "from sklearn.preprocessing import StandardScaler, OneHotEncoder\n",
        "\n",
        "scaler = StandardScaler()\n",
        "train_sc = scaler.fit_transform(train)\n",
        "trcols = np.array(train_sc).T\n",
        "cov = np.cov(trcols)\n",
        "\n",
        "c = cov>0.99\n",
        "d = set()\n",
        "l = len(train.columns)\n",
        "for i in range(l):\n",
        "    for j in range(i+1, l):\n",
        "        if c[i][j]:\n",
        "            d.add(i)\n",
        "            break\n",
        "d = train.columns[[*d]]\n",
        "train = train.drop(d, axis=1)\n",
        "test = test.drop(d, axis=1)\n",
        "\n",
        "enc = OneHotEncoder(handle_unknown='ignore')\n",
        "f12 = enc.fit_transform(train['f12'][..., np.newaxis])\n",
        "f12t = enc.transform(test['f12'][..., np.newaxis])\n",
        "train = train.drop('f12', axis=1)\n",
        "test = test.drop('f12', axis=1)\n",
        "f12 = pd.DataFrame(f12.toarray(), columns = [str(i)+'oh' for i in range(146)])\n",
        "f12t = pd.DataFrame(f12t.toarray(), columns = [str(i)+'oh' for i in range(146)])\n",
        "train = pd.concat([train,f12],  axis=1)\n",
        "test = pd.concat([test,f12t],  axis=1)\n",
        "\n",
        "scaler = StandardScaler()\n",
        "train_sc = scaler.fit_transform(train)\n",
        "test_sc = scaler.transform(test)\n",
        "\n",
        "model = ElasticNet(positive = True, l1_ratio=0.888)\n",
        "model.fit(train_sc[:10000], ytrain[:10000])\n",
        "y = model.predict(train_sc)\n",
        "# model.fit(train_sc, ytrain)\n",
        "# y = model.predict(train_sc)\n",
        "mean_squared_log_error(ytrain, y, squared=False)"
      ],
      "metadata": {
        "colab": {
          "base_uri": "https://localhost:8080/"
        },
        "id": "N3Uz9kWr7hJR",
        "outputId": "650f9b21-3dc9-47fe-ed40-ba0db4b33e2f"
      },
      "execution_count": null,
      "outputs": [
        {
          "output_type": "stream",
          "name": "stderr",
          "text": [
            "<ipython-input-4-ec9a3d6e8c60>:24: FutureWarning: Support for multi-dimensional indexing (e.g. `obj[:, None]`) is deprecated and will be removed in a future version.  Convert to a numpy array before indexing instead.\n",
            "  f12 = enc.fit_transform(train['f12'][..., np.newaxis])\n",
            "<ipython-input-4-ec9a3d6e8c60>:25: FutureWarning: Support for multi-dimensional indexing (e.g. `obj[:, None]`) is deprecated and will be removed in a future version.  Convert to a numpy array before indexing instead.\n",
            "  f12t = enc.transform(test['f12'][..., np.newaxis])\n"
          ]
        },
        {
          "output_type": "execute_result",
          "data": {
            "text/plain": [
              "0.5100937368072971"
            ]
          },
          "metadata": {},
          "execution_count": 4
        }
      ]
    },
    {
      "cell_type": "code",
      "source": [
        "#ПЕРЕПИСАТЬ ЧЕРЕЗ МЕТРИКУ, А НЕ abs и считать статистики по всему, плохому и не плохому\n",
        "#df.describe() std это стандартное отклонение The 50 percentile is the same as the median\n",
        "a = np.array([mean_squared_log_error([ytrain[i]], [el], squared=False) for i, el in enumerate(y)])\n",
        "#len(a) = 24376\n",
        "#np.sum(a>0.4) 4163\n",
        "#np.sum(a<0.4) 20213"
      ],
      "metadata": {
        "id": "ek7QtiL9_Y62"
      },
      "execution_count": null,
      "outputs": []
    },
    {
      "cell_type": "code",
      "source": [
        "np.sum(a>0.8)"
      ],
      "metadata": {
        "colab": {
          "base_uri": "https://localhost:8080/"
        },
        "id": "JRutfsTTesHS",
        "outputId": "c3bfd951-400b-4622-8cca-b9b883da49a1"
      },
      "execution_count": null,
      "outputs": [
        {
          "output_type": "execute_result",
          "data": {
            "text/plain": [
              "2103"
            ]
          },
          "metadata": {},
          "execution_count": 112
        }
      ]
    },
    {
      "cell_type": "code",
      "source": [
        "len(a)"
      ],
      "metadata": {
        "colab": {
          "base_uri": "https://localhost:8080/"
        },
        "id": "SFYmSSjSncNZ",
        "outputId": "5b3e29ab-8fc4-4844-efdb-ef9271c73e06"
      },
      "execution_count": null,
      "outputs": [
        {
          "output_type": "execute_result",
          "data": {
            "text/plain": [
              "24376"
            ]
          },
          "metadata": {},
          "execution_count": 131
        }
      ]
    },
    {
      "cell_type": "markdown",
      "source": [
        "ТАМ ДЕВОЧКА ЛОГАРИФМИРОВАЛА ДАННЫЕ\n",
        "ТОП ТЕМА"
      ],
      "metadata": {
        "id": "Pc_3pw8r8yVK"
      }
    },
    {
      "cell_type": "code",
      "source": [
        "g = ytrain[a>0.7].describe(percentiles=[0.1,0.5,0.9])\n",
        "for i, val in enumerate(g):\n",
        "    print(g.index[i], ':', f'{val:,.0f}')"
      ],
      "metadata": {
        "colab": {
          "base_uri": "https://localhost:8080/"
        },
        "id": "PDOyQ7ZHiXw5",
        "outputId": "f6307ddc-7f50-4131-80b0-248caba0f58f"
      },
      "execution_count": null,
      "outputs": [
        {
          "output_type": "stream",
          "name": "stdout",
          "text": [
            "count : 2,319\n",
            "mean : 4,227,430\n",
            "std : 9,871,674\n",
            "min : 100,000\n",
            "10% : 1,000,000\n",
            "50% : 2,000,000\n",
            "90% : 4,900,000\n",
            "max : 111,111,112\n"
          ]
        }
      ]
    },
    {
      "cell_type": "code",
      "source": [
        "g = ytrain[a<0.7].describe(percentiles=[0.1,0.5,0.9])\n",
        "for i, val in enumerate(g):\n",
        "    print(g.index[i], ':', f'{val:,.0f}')"
      ],
      "metadata": {
        "colab": {
          "base_uri": "https://localhost:8080/"
        },
        "id": "66xJ15-Eidi8",
        "outputId": "3f9aed96-8bd2-442c-90fb-41c0b8eb5996"
      },
      "execution_count": null,
      "outputs": [
        {
          "output_type": "stream",
          "name": "stdout",
          "text": [
            "count : 22,057\n",
            "mean : 7,429,370\n",
            "std : 3,828,102\n",
            "min : 990,000\n",
            "10% : 4,035,811\n",
            "50% : 6,500,000\n",
            "90% : 11,950,000\n",
            "max : 58,200,000\n"
          ]
        }
      ]
    },
    {
      "cell_type": "code",
      "source": [
        "g = (ytrain[a>0.7] *2 + 2000000).describe(percentiles=[0.1,0.5,0.9])\n",
        "for i, val in enumerate(g):\n",
        "    print(g.index[i], ':', f'{val:,.0f}')"
      ],
      "metadata": {
        "colab": {
          "base_uri": "https://localhost:8080/"
        },
        "id": "_qTuDpb2oed7",
        "outputId": "a891b5d6-90ee-4f06-d919-ec0b48d88ab3"
      },
      "execution_count": null,
      "outputs": [
        {
          "output_type": "stream",
          "name": "stdout",
          "text": [
            "count : 2,319\n",
            "mean : 10,454,861\n",
            "std : 19,743,348\n",
            "min : 2,200,000\n",
            "10% : 4,000,000\n",
            "50% : 6,000,000\n",
            "90% : 11,800,000\n",
            "max : 224,222,224\n"
          ]
        }
      ]
    },
    {
      "cell_type": "code",
      "source": [
        "# instead of 0.51 it gives 0.48\n",
        "ynew = ytrain*(a<0.7) + (ytrain*2+2000000)*(a>0.7)\n",
        "\n",
        "model = ElasticNet(positive = True, l1_ratio=0.888)\n",
        "model.fit(train_sc[:10000], ynew[:10000])\n",
        "y = model.predict(train_sc)\n",
        "y[y<0] = 0\n",
        "print(np.sum(y<0))\n",
        "mean_squared_log_error(ynew, y, squared=False)"
      ],
      "metadata": {
        "colab": {
          "base_uri": "https://localhost:8080/"
        },
        "id": "0l3XXZWGplJ4",
        "outputId": "b7778093-1489-4495-ab3a-63090c4735d6"
      },
      "execution_count": null,
      "outputs": [
        {
          "output_type": "stream",
          "name": "stdout",
          "text": [
            "0\n"
          ]
        },
        {
          "output_type": "execute_result",
          "data": {
            "text/plain": [
              "0.48663579319757555"
            ]
          },
          "metadata": {},
          "execution_count": 6
        }
      ]
    },
    {
      "cell_type": "code",
      "source": [
        "bad = train[a>0.7].describe()\n",
        "norm = train[a<0.7].describe()\n",
        "all = train.describe()\n",
        "bad.insert(0, 'id', 'bad')\n",
        "norm.insert(0, 'id', 'norm')\n",
        "all.insert(0, 'id', 'all')\n",
        "\n",
        "descr = pd.concat([bad, norm, all], axis = 0)\n",
        "descr.insert(0, 'what', descr.index)\n",
        "descr.sort_values( ['what', 'id'], ascending=True, inplace=True, ignore_index = True)"
      ],
      "metadata": {
        "id": "JMiGVGSzct8U"
      },
      "execution_count": null,
      "outputs": []
    },
    {
      "cell_type": "code",
      "source": [
        "descr.T.to_csv('stat.csv', index=True, header=False)"
      ],
      "metadata": {
        "id": "78uLbFmehJ90"
      },
      "execution_count": null,
      "outputs": []
    },
    {
      "cell_type": "code",
      "source": [
        "descr"
      ],
      "metadata": {
        "id": "faRhUwyTiBT4"
      },
      "execution_count": null,
      "outputs": []
    },
    {
      "cell_type": "code",
      "source": [
        "import matplotlib.pyplot as plt\n",
        "\n",
        "s = a > 0.9\n",
        "plt.imshow(np.vstack([s]*1000), cmap='hot')\n",
        "plt.show()\n",
        "np.sum(s)"
      ],
      "metadata": {
        "colab": {
          "base_uri": "https://localhost:8080/",
          "height": 83
        },
        "id": "BbDtHR0wBsb2",
        "outputId": "221a4ba5-452c-44c1-bfd1-251c32532696"
      },
      "execution_count": null,
      "outputs": [
        {
          "output_type": "display_data",
          "data": {
            "text/plain": [
              "<Figure size 432x288 with 1 Axes>"
            ],
            "image/png": "[encoded data removed]"
          },
          "metadata": {
            "needs_background": "light"
          }
        },
        {
          "output_type": "execute_result",
          "data": {
            "text/plain": [
              "1895"
            ]
          },
          "metadata": {},
          "execution_count": 75
        }
      ]
    },
    {
      "cell_type": "code",
      "source": [],
      "metadata": {
        "id": "jaGjm2pT45Zc"
      },
      "execution_count": null,
      "outputs": []
    },
    {
      "cell_type": "code",
      "source": [
        "train[s]\n",
        "#train[s].to_csv('regfailed.csv', index = False)"
      ],
      "metadata": {
        "id": "2_TZqQ28ENqK"
      },
      "execution_count": null,
      "outputs": []
    },
    {
      "cell_type": "code",
      "source": [
        "np.max(train['f18'])"
      ],
      "metadata": {
        "colab": {
          "base_uri": "https://localhost:8080/"
        },
        "id": "mTfjbmbEEY6w",
        "outputId": "cedc526f-00fc-43f7-aa8a-7a7b74c68b7c"
      },
      "execution_count": null,
      "outputs": [
        {
          "output_type": "execute_result",
          "data": {
            "text/plain": [
              "11926.0"
            ]
          },
          "metadata": {},
          "execution_count": 150
        }
      ]
    },
    {
      "cell_type": "markdown",
      "source": [
        "# Model training"
      ],
      "metadata": {
        "id": "5nzw-41ut3Zd"
      }
    },
    {
      "cell_type": "markdown",
      "source": [
        "hyperparameter search"
      ],
      "metadata": {
        "id": "AIRlFZK6t83J"
      }
    },
    {
      "cell_type": "code",
      "source": [
        "from sklearn.model_selection import train_test_split, RandomizedSearchCV\n",
        "\n",
        "X_train, X_val, y_train, y_val = train_test_split(train_sc, ynew, test_size=0.16)\n"
      ],
      "metadata": {
        "id": "E3KjtPoYt71f"
      },
      "execution_count": null,
      "outputs": []
    },
    {
      "cell_type": "code",
      "source": [
        "#0.42332076951073994\n",
        "from sklearn.ensemble import RandomForestRegressor\n",
        "\n",
        "regr = RandomForestRegressor(n_estimators=400, max_depth=70)#, random_state=0\n",
        "regr.fit(X_train, y_train)"
      ],
      "metadata": {
        "colab": {
          "base_uri": "https://localhost:8080/"
        },
        "id": "nLFXKuMMvjeO",
        "outputId": "c0457e43-75a7-4890-f53f-ea772f75682f"
      },
      "execution_count": null,
      "outputs": [
        {
          "output_type": "execute_result",
          "data": {
            "text/plain": [
              "RandomForestRegressor(max_depth=70, n_estimators=400)"
            ]
          },
          "metadata": {},
          "execution_count": 137
        }
      ]
    },
    {
      "cell_type": "code",
      "source": [
        "y = model.predict(X_val)\n",
        "#y[y<0] = 0\n",
        "mean_squared_log_error(y_val, y, squared=False)"
      ],
      "metadata": {
        "colab": {
          "base_uri": "https://localhost:8080/"
        },
        "id": "CniMrRvF09v2",
        "outputId": "5dc1a4c1-0ec1-4dda-a009-cb8bec5dba0a"
      },
      "execution_count": null,
      "outputs": [
        {
          "output_type": "execute_result",
          "data": {
            "text/plain": [
              "0.42332076951073994"
            ]
          },
          "metadata": {},
          "execution_count": 147
        }
      ]
    },
    {
      "cell_type": "code",
      "source": [
        "#ElasticNet(positive = True, l1_ratio=0.888)\n",
        "# 0.0 : 0.5353040837119386\n",
        "# 0.1 : 0.5330254121812485\n",
        "# 0.2 : 0.5305925748424504\n",
        "# 0.3 : 0.5280084677073636\n",
        "# 0.4 : 0.5252725542466168\n",
        "# 0.5 : 0.5223469822042291\n",
        "# 0.6 : 0.5191845658257048\n",
        "# 0.7 : 0.5157912232856665\n",
        "# 0.8 : 0.5122510925007232\n",
        "# 0.85 : 0.510686357128742\n",
        "# 0.86 : 0.5104450780084111\n",
        "# 0.87 : 0.5102520940323241\n",
        "# 0.88 : 0.5101254066410246\n",
        "# 0.881 : 0.5101179039911347\n",
        "# 0.882 : 0.5101113176607251\n",
        "# 0.883 : 0.5101054440713395\n",
        "# 0.884 : 0.5101007426869558\n",
        "# 0.885 : 0.5100972765554408\n",
        "# 0.886 : 0.5100951144613595\n",
        "# 0.887 : 0.5100939946035224\n",
        "# 0.888 : 0.5100937368072971\n",
        "# 0.889 : 0.5100950252155232\n",
        "# 0.89 : 0.5100979149787173\n",
        "# 0.891 : 0.5101024602142079\n",
        "# 0.892 : 0.5101089940601982\n",
        "# 0.893 : 0.5101180228707133\n",
        "# 0.894 : 0.5101293443591045\n",
        "# 0.895 : 0.5101431687682101\n",
        "# 0.896 : 0.5101597438307357\n",
        "# 0.897 : 0.5101793655636335\n",
        "# 0.898 : 0.510202393435113\n",
        "# 0.899 : 0.5102292722837671\n",
        "# 0.9 : 0.5102605649522625\n",
        "\n",
        "for rat in np.arange(0.88,0.9,0.001):\n",
        "    model= ElasticNet(positive = True, l1_ratio=rat)\n",
        "    model.fit(X_train, y_train)\n",
        "    y = model.predict(X_val)\n",
        "    y[y<0] = 0\n",
        "    print(\"%.3f\" % rat, ':', mean_squared_log_error(y_val, y, squared=False))"
      ],
      "metadata": {
        "id": "yL6cEzOC9R22"
      },
      "execution_count": null,
      "outputs": []
    },
    {
      "cell_type": "code",
      "source": [
        "#0.8124080840269065\n",
        "from sklearn.linear_model import ARDRegression\n",
        "\n",
        "model= ARDRegression()\n",
        "model.fit(X_train, y_train)\n",
        "y = model.predict(X_val)\n",
        "y[y<0] = 0\n",
        "mean_squared_log_error(y_val, y, squared=False)"
      ],
      "metadata": {
        "colab": {
          "base_uri": "https://localhost:8080/"
        },
        "id": "qTO3LV7n-YPk",
        "outputId": "8ae01be2-2938-4db8-fed2-8033837fff8b"
      },
      "execution_count": null,
      "outputs": [
        {
          "output_type": "execute_result",
          "data": {
            "text/plain": [
              "0.8124080840269065"
            ]
          },
          "metadata": {},
          "execution_count": 100
        }
      ]
    },
    {
      "cell_type": "code",
      "source": [
        "#0.5013560894161813\n",
        "from sklearn.linear_model import PassiveAggressiveRegressor\n",
        "\n",
        "model= PassiveAggressiveRegressor()\n",
        "model.fit(X_train, y_train)\n",
        "y = model.predict(X_val)\n",
        "y[y<0] = 0\n",
        "mean_squared_log_error(y_val, y, squared=False)"
      ],
      "metadata": {
        "colab": {
          "base_uri": "https://localhost:8080/"
        },
        "id": "8RFwherLBHtd",
        "outputId": "55af6ae6-6c05-4bec-b81c-e31b04f71163"
      },
      "execution_count": null,
      "outputs": [
        {
          "output_type": "stream",
          "name": "stderr",
          "text": [
            "/usr/local/lib/python3.8/dist-packages/sklearn/linear_model/_stochastic_gradient.py:1503: ConvergenceWarning: Maximum number of iteration reached before convergence. Consider increasing max_iter to improve the fit.\n",
            "  warnings.warn(\n"
          ]
        },
        {
          "output_type": "execute_result",
          "data": {
            "text/plain": [
              "0.5013560894161813"
            ]
          },
          "metadata": {},
          "execution_count": 115
        }
      ]
    },
    {
      "cell_type": "code",
      "source": [
        "#model = SVR(kernel = 'linear', epsilon = 0.04)\n",
        "#standart 0.6043703894656486\n",
        "from sklearn.svm import SVR\n",
        "#many parameters\n",
        "# 0.010 : 0.5940757898018487\n",
        "# 0.020 : 0.5940757897983511\n",
        "# 0.030 : 0.5940757897929786\n",
        "# 0.040 : 0.5940757897864204\n",
        "\n",
        "for eps in np.arange(0.01,0.05,0.01):\n",
        "    model = SVR(kernel = 'linear', epsilon = eps)\n",
        "# params = {'kernel': [ 'linear', 'poly', 'rbf', 'sigmoid'], 'epsilon': np.arange(0.05, 0.5, 0.05)}\n",
        "# search = RandomizedSearchCV(model, params, n_iter = 20, scoring = 'neg_mean_squared_log_error')\n",
        "# s = search.fit(X_train, y_train)\n",
        "# s.best_params_ , s.best_score_\n",
        "# ({'kernel': 'linear', 'epsilon': 0.05}, -0.3565850083159148) = 0.5940757897798622 ну такое\n",
        "# sres[sres['param_kernel'] == 'linear'].sort_values( 'rank_test_score', ascending=True)\n",
        "# 'linear' лучше всех - все первые тесты его и чем меньше эпсилон, тем лучше\n",
        "    model.fit(X_train, y_train)\n",
        "    y = model.predict(X_val)\n",
        "    y[y<0] = 0\n",
        "    print(\"%.3f\" % eps, ':', mean_squared_log_error(y_val, y, squared=False))"
      ],
      "metadata": {
        "colab": {
          "base_uri": "https://localhost:8080/"
        },
        "id": "T2X3xcc3BkBb",
        "outputId": "a0ceef3f-869b-4a8d-a715-f7520800f63f"
      },
      "execution_count": null,
      "outputs": [
        {
          "output_type": "stream",
          "name": "stdout",
          "text": [
            "0.010 : 0.5940757898018487\n",
            "0.020 : 0.5940757897983511\n",
            "0.030 : 0.5940757897929786\n",
            "0.040 : 0.5940757897864204\n"
          ]
        }
      ]
    },
    {
      "cell_type": "code",
      "source": [
        "#0.5036997792176893\n",
        "from sklearn.neighbors import KNeighborsRegressor\n",
        "\n",
        "# model = KNeighborsRegressor(weights = 'distance', metric = 'euclidean')\n",
        "# params = {'n_neighbors': [*range(1,20,1)]}#, 'metric': ['minkowski', 'cosine', 'cityblock', 'euclidean', 'manhattan']}\n",
        "# search = RandomizedSearchCV(model, params, n_iter = 10, scoring = 'neg_mean_squared_log_error')\n",
        "# s = search.fit(X_train, y_train)\n",
        "# s.best_params_ , s.best_score_\n",
        "\n",
        "model = KNeighborsRegressor(n_neighbors = 8, weights = 'distance', metric = 'euclidean')\n",
        "model.fit(X_train, y_train)\n",
        "y = model.predict(X_val)\n",
        "y[y<0] = 0\n",
        "mean_squared_log_error(y_val, y, squared=False)"
      ],
      "metadata": {
        "colab": {
          "base_uri": "https://localhost:8080/"
        },
        "id": "D1ffmaF-Bujb",
        "outputId": "97608122-c425-4cac-82cb-5234fe0a2dae"
      },
      "execution_count": null,
      "outputs": [
        {
          "output_type": "execute_result",
          "data": {
            "text/plain": [
              "0.5036997792176893"
            ]
          },
          "metadata": {},
          "execution_count": 110
        }
      ]
    },
    {
      "cell_type": "code",
      "source": [
        "#1.7738302200319234 очень плохо\n",
        "from sklearn.neural_network import MLPRegressor\n",
        "#let me try\n",
        "\n",
        "model = MLPRegressor(solver='adam')\n",
        "model.fit(X_train, y_train)\n",
        "y = model.predict(X_val)\n",
        "y[y<0] = 0\n",
        "mean_squared_log_error(y_val, y, squared=False)"
      ],
      "metadata": {
        "colab": {
          "base_uri": "https://localhost:8080/"
        },
        "id": "aBpB_CsNB1_I",
        "outputId": "104d756a-6fbb-41ed-c170-2919ebf18eb1"
      },
      "execution_count": null,
      "outputs": [
        {
          "output_type": "stream",
          "name": "stderr",
          "text": [
            "/usr/local/lib/python3.8/dist-packages/sklearn/neural_network/_multilayer_perceptron.py:692: ConvergenceWarning: Stochastic Optimizer: Maximum iterations (200) reached and the optimization hasn't converged yet.\n",
            "  warnings.warn(\n"
          ]
        },
        {
          "output_type": "execute_result",
          "data": {
            "text/plain": [
              "1.7738302200319234"
            ]
          },
          "metadata": {},
          "execution_count": 129
        }
      ]
    },
    {
      "cell_type": "code",
      "source": [
        "#0.46113359548012406 max_depth=10\n",
        "#0.4578445583729132\n",
        "from sklearn.ensemble import HistGradientBoostingRegressor\n",
        "\n",
        "model = HistGradientBoostingRegressor()\n",
        "model.fit(X_train, y_train)\n",
        "y = model.predict(X_val)\n",
        "y[y<0] = 0\n",
        "mean_squared_log_error(y_val, y, squared=False)"
      ],
      "metadata": {
        "colab": {
          "base_uri": "https://localhost:8080/"
        },
        "id": "8kU_V1oTB-Qw",
        "outputId": "3c4edc4c-694e-4c25-f24a-6227d35f0527"
      },
      "execution_count": null,
      "outputs": [
        {
          "output_type": "execute_result",
          "data": {
            "text/plain": [
              "0.4578445583729132"
            ]
          },
          "metadata": {},
          "execution_count": 133
        }
      ]
    },
    {
      "cell_type": "code",
      "source": [
        "from sklearn.ensemble import RandomForestRegressor\n",
        "from sklearn.linear_model import PassiveAggressiveRegressor, ElasticNet\n",
        "from sklearn.svm import SVR\n",
        "from sklearn.neighbors import KNeighborsRegressor\n",
        "from sklearn.ensemble import HistGradientBoostingRegressor\n",
        "from sklearn.ensemble import VotingRegressor, StackingRegressor"
      ],
      "metadata": {
        "id": "yA2CgC1gw0yZ"
      },
      "execution_count": null,
      "outputs": []
    },
    {
      "cell_type": "code",
      "source": [
        "r1 = RandomForestRegressor(n_estimators=400, max_depth=70)\n",
        "r2 = ElasticNet(positive = True, l1_ratio=0.888)\n",
        "r3 = PassiveAggressiveRegressor()\n",
        "r4 = SVR(kernel = 'linear', epsilon = 0.04)\n",
        "r5 = KNeighborsRegressor(n_neighbors = 8, weights = 'distance', metric = 'euclidean')\n",
        "r6 = HistGradientBoostingRegressor()\n",
        "regressors = [('r1', r1), ('r2', r2), ('r3', r3), ('r4', r4), ('r5', r5), ('r6', r6)]\n",
        "\n",
        "model = StackingRegressor(estimators = regressors, final_estimator = HistGradientBoostingRegressor())\n",
        "model.fit(train_sc, ynew)\n",
        "y = model.predict(X_val)\n",
        "y[y<0] = 0\n",
        "mean_squared_log_error(y_val, y, squared=False)\n",
        "#0.2854461082821771\n",
        "#0.12586741473941643 with altered data"
      ],
      "metadata": {
        "colab": {
          "base_uri": "https://localhost:8080/"
        },
        "id": "Tj7R1FG9nc1R",
        "outputId": "3a4c66d3-9d21-4327-a56f-377f112377fd"
      },
      "execution_count": null,
      "outputs": [
        {
          "metadata": {
            "tags": null
          },
          "name": "stderr",
          "output_type": "stream",
          "text": [
            "/usr/local/lib/python3.8/dist-packages/sklearn/linear_model/_stochastic_gradient.py:1503: ConvergenceWarning: Maximum number of iteration reached before convergence. Consider increasing max_iter to improve the fit.\n",
            "  warnings.warn(\n",
            "/usr/local/lib/python3.8/dist-packages/sklearn/linear_model/_stochastic_gradient.py:1503: ConvergenceWarning: Maximum number of iteration reached before convergence. Consider increasing max_iter to improve the fit.\n",
            "  warnings.warn(\n",
            "/usr/local/lib/python3.8/dist-packages/sklearn/linear_model/_stochastic_gradient.py:1503: ConvergenceWarning: Maximum number of iteration reached before convergence. Consider increasing max_iter to improve the fit.\n",
            "  warnings.warn(\n",
            "/usr/local/lib/python3.8/dist-packages/sklearn/linear_model/_stochastic_gradient.py:1503: ConvergenceWarning: Maximum number of iteration reached before convergence. Consider increasing max_iter to improve the fit.\n",
            "  warnings.warn(\n",
            "/usr/local/lib/python3.8/dist-packages/sklearn/linear_model/_stochastic_gradient.py:1503: ConvergenceWarning: Maximum number of iteration reached before convergence. Consider increasing max_iter to improve the fit.\n",
            "  warnings.warn(\n",
            "/usr/local/lib/python3.8/dist-packages/sklearn/linear_model/_stochastic_gradient.py:1503: ConvergenceWarning: Maximum number of iteration reached before convergence. Consider increasing max_iter to improve the fit.\n",
            "  warnings.warn(\n"
          ]
        },
        {
          "output_type": "execute_result",
          "data": {
            "text/plain": [
              "0.12586741473941643"
            ]
          },
          "metadata": {},
          "execution_count": 10
        }
      ]
    },
    {
      "cell_type": "markdown",
      "source": [
        "#end"
      ],
      "metadata": {
        "id": "YAAsASSa56ie"
      }
    },
    {
      "cell_type": "code",
      "source": [
        "y = model.predict(test_sc)"
      ],
      "metadata": {
        "id": "rGSpAAs2577_"
      },
      "execution_count": null,
      "outputs": []
    },
    {
      "cell_type": "code",
      "source": [
        "df = pd.DataFrame({'id': [*range(1,len(y)+1)], 'prediction': [\"%.1f\" % a for a in y]})\n",
        "df.to_csv('Козырева_Елизавета.csv', index = False)"
      ],
      "metadata": {
        "id": "QZ6W_m19dRFz"
      },
      "execution_count": null,
      "outputs": []
    },
    {
      "cell_type": "code",
      "source": [
        "!\tcp Козырева_Елизавета.csv /content/drive/MyDrive/kaggle/"
      ],
      "metadata": {
        "id": "GoEkfvmYwtWm"
      },
      "execution_count": null,
      "outputs": []
    },
    {
      "cell_type": "markdown",
      "source": [
        "все делали катбуст"
      ],
      "metadata": {
        "id": "_QIo6roABrn8"
      }
    },
    {
      "cell_type": "markdown",
      "source": [
        "вникнуть в данные это хорошо"
      ],
      "metadata": {
        "id": "K95i12DyCc2L"
      }
    },
    {
      "cell_type": "markdown",
      "source": [
        "результат логарифмировали и получали больше"
      ],
      "metadata": {
        "id": "yY3aWUXgRGA7"
      }
    },
    {
      "cell_type": "markdown",
      "source": [
        "чел добавил рандомную фичу и дропнул признаки, которые ниже полезность(корелляцию с результатом) дали"
      ],
      "metadata": {
        "id": "5rxzU411GJF6"
      }
    },
    {
      "cell_type": "markdown",
      "source": [
        "байесовская оптимизация гиперпараметров"
      ],
      "metadata": {
        "id": "FqqhPT3RGRGn"
      }
    },
    {
      "cell_type": "markdown",
      "source": [
        "zscore для выбросов\n",
        "матожидание + 3 квадратичных отклонения"
      ],
      "metadata": {
        "id": "Kpt9y0yyIaJ7"
      }
    },
    {
      "cell_type": "markdown",
      "source": [
        "чел заменял район на среднюю цену в нем"
      ],
      "metadata": {
        "id": "GlCRSTKZM8SY"
      }
    },
    {
      "cell_type": "markdown",
      "source": [
        "2 чела уже делили данные на отдельно инвестора, а отдельно оккупайера"
      ],
      "metadata": {
        "id": "H1Pu53gBQNoz"
      }
    },
    {
      "cell_type": "markdown",
      "source": [
        "чел сильно кореллировал с тем, что на недвижимость\n",
        "и делал дату как разницу до сейчас"
      ],
      "metadata": {
        "id": "sXOr-b-3NA4C"
      }
    },
    {
      "cell_type": "markdown",
      "source": [
        "и смотрел фиче импортанс\n",
        "и 2750 деревьев!!!!!\n"
      ],
      "metadata": {
        "id": "H2jUsQO5R1tV"
      }
    },
    {
      "cell_type": "code",
      "source": [],
      "metadata": {
        "id": "zGrdrgMAR0vI"
      },
      "execution_count": null,
      "outputs": []
    }
  ],
  "metadata": {
    "colab": {
      "provenance": []
    },
    "kernelspec": {
      "display_name": "Python 3",
      "name": "python3"
    },
    "language_info": {
      "name": "python"
    }
  },
  "nbformat": 4,
  "nbformat_minor": 0
}