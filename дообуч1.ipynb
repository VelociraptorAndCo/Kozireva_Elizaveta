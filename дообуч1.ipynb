{
  "cells": [
    {
      "cell_type": "markdown",
      "metadata": {
        "id": "view-in-github",
        "colab_type": "text"
      },
      "source": [
        "<a href=\"https://colab.research.google.com/github/VelociraptorAndCo/V_Digit_Detector/blob/main/%D0%B4%D0%BE%D0%BE%D0%B1%D1%83%D1%871.ipynb\" target=\"_parent\"><img src=\"https://colab.research.google.com/assets/colab-badge.svg\" alt=\"Open In Colab\"/></a>"
      ]
    },
    {
      "cell_type": "markdown",
      "metadata": {
        "id": "AVcs7lzsNDIn"
      },
      "source": [
        "# **install**"
      ]
    },
    {
      "cell_type": "code",
      "execution_count": 2,
      "metadata": {
        "colab": {
          "base_uri": "https://localhost:8080/"
        },
        "id": "topdUvi05nnL",
        "outputId": "69372b48-f8fb-4128-d1cd-0ea10592f429"
      },
      "outputs": [
        {
          "output_type": "stream",
          "name": "stdout",
          "text": [
            "Cloning into 'keras-retinanet'...\n",
            "remote: Enumerating objects: 6205, done.\u001b[K\n",
            "remote: Total 6205 (delta 0), reused 0 (delta 0), pack-reused 6205\u001b[K\n",
            "Receiving objects: 100% (6205/6205), 13.47 MiB | 29.03 MiB/s, done.\n",
            "Resolving deltas: 100% (4200/4200), done.\n"
          ]
        }
      ],
      "source": [
        "!git clone https://github.com/fizyr/keras-retinanet.git"
      ]
    },
    {
      "cell_type": "code",
      "execution_count": 3,
      "metadata": {
        "colab": {
          "base_uri": "https://localhost:8080/"
        },
        "id": "zk10KEP1Hs3s",
        "outputId": "242dbe41-f3a2-4e7b-cdc8-882991bbe422"
      },
      "outputs": [
        {
          "output_type": "stream",
          "name": "stdout",
          "text": [
            "Processing /content/keras-retinanet\n",
            "\u001b[33m  DEPRECATION: A future pip version will change local packages to be built in-place without first copying to a temporary directory. We recommend you use --use-feature=in-tree-build to test your packages with this new behavior before it becomes the default.\n",
            "   pip 21.3 will remove support for this functionality. You can find discussion regarding this at https://github.com/pypa/pip/issues/7555.\u001b[0m\n",
            "Collecting keras-resnet==0.2.0\n",
            "  Downloading keras-resnet-0.2.0.tar.gz (9.3 kB)\n",
            "Requirement already satisfied: six in /usr/local/lib/python3.7/dist-packages (from keras-retinanet==1.0.0) (1.15.0)\n",
            "Requirement already satisfied: numpy in /usr/local/lib/python3.7/dist-packages (from keras-retinanet==1.0.0) (1.21.5)\n",
            "Requirement already satisfied: cython in /usr/local/lib/python3.7/dist-packages (from keras-retinanet==1.0.0) (0.29.28)\n",
            "Requirement already satisfied: Pillow in /usr/local/lib/python3.7/dist-packages (from keras-retinanet==1.0.0) (7.1.2)\n",
            "Requirement already satisfied: opencv-python in /usr/local/lib/python3.7/dist-packages (from keras-retinanet==1.0.0) (4.1.2.30)\n",
            "Requirement already satisfied: progressbar2 in /usr/local/lib/python3.7/dist-packages (from keras-retinanet==1.0.0) (3.38.0)\n",
            "Requirement already satisfied: keras>=2.2.4 in /usr/local/lib/python3.7/dist-packages (from keras-resnet==0.2.0->keras-retinanet==1.0.0) (2.8.0)\n",
            "Requirement already satisfied: python-utils>=2.3.0 in /usr/local/lib/python3.7/dist-packages (from progressbar2->keras-retinanet==1.0.0) (3.1.0)\n",
            "Building wheels for collected packages: keras-retinanet, keras-resnet\n",
            "  Building wheel for keras-retinanet (setup.py) ... \u001b[?25l\u001b[?25hdone\n",
            "  Created wheel for keras-retinanet: filename=keras_retinanet-1.0.0-cp37-cp37m-linux_x86_64.whl size=168463 sha256=515bc0073a93d25d7c7eb44a12b25c041692efd74fdf41e22bd90ab9e74b609d\n",
            "  Stored in directory: /root/.cache/pip/wheels/32/29/34/9b33c07f08b1be9e77607c1fc6b08c679489aa7ddaed329652\n",
            "  Building wheel for keras-resnet (setup.py) ... \u001b[?25l\u001b[?25hdone\n",
            "  Created wheel for keras-resnet: filename=keras_resnet-0.2.0-py2.py3-none-any.whl size=20486 sha256=69112565e5416d92ae793bd6ec93648219ce82770588e4c02e6e9b2c3623616d\n",
            "  Stored in directory: /root/.cache/pip/wheels/bd/ef/06/5d65f696360436c3a423020c4b7fd8c558c09ef264a0e6c575\n",
            "Successfully built keras-retinanet keras-resnet\n",
            "Installing collected packages: keras-resnet, keras-retinanet\n",
            "Successfully installed keras-resnet-0.2.0 keras-retinanet-1.0.0\n"
          ]
        }
      ],
      "source": [
        "!cd keras-retinanet && pip install . "
      ]
    },
    {
      "cell_type": "code",
      "execution_count": 4,
      "metadata": {
        "colab": {
          "base_uri": "https://localhost:8080/"
        },
        "id": "_sqKgYXI8Ioc",
        "outputId": "a58377d1-b589-4f7c-d645-e2a6584a4cce"
      },
      "outputs": [
        {
          "output_type": "stream",
          "name": "stdout",
          "text": [
            "Requirement already satisfied: keras-retinanet in /usr/local/lib/python3.7/dist-packages (1.0.0)\n",
            "Requirement already satisfied: opencv-python in /usr/local/lib/python3.7/dist-packages (from keras-retinanet) (4.1.2.30)\n",
            "Requirement already satisfied: cython in /usr/local/lib/python3.7/dist-packages (from keras-retinanet) (0.29.28)\n",
            "Requirement already satisfied: numpy in /usr/local/lib/python3.7/dist-packages (from keras-retinanet) (1.21.5)\n",
            "Requirement already satisfied: Pillow in /usr/local/lib/python3.7/dist-packages (from keras-retinanet) (7.1.2)\n",
            "Requirement already satisfied: progressbar2 in /usr/local/lib/python3.7/dist-packages (from keras-retinanet) (3.38.0)\n",
            "Requirement already satisfied: six in /usr/local/lib/python3.7/dist-packages (from keras-retinanet) (1.15.0)\n",
            "Requirement already satisfied: keras-resnet==0.2.0 in /usr/local/lib/python3.7/dist-packages (from keras-retinanet) (0.2.0)\n",
            "Requirement already satisfied: keras>=2.2.4 in /usr/local/lib/python3.7/dist-packages (from keras-resnet==0.2.0->keras-retinanet) (2.8.0)\n",
            "Requirement already satisfied: python-utils>=2.3.0 in /usr/local/lib/python3.7/dist-packages (from progressbar2->keras-retinanet) (3.1.0)\n"
          ]
        }
      ],
      "source": [
        "!pip install keras-retinanet  --user"
      ]
    },
    {
      "cell_type": "code",
      "execution_count": 5,
      "metadata": {
        "colab": {
          "base_uri": "https://localhost:8080/"
        },
        "id": "2r6TY7t7DkWW",
        "outputId": "d71deec9-28e2-449e-9e7a-0ab76c0379e8"
      },
      "outputs": [
        {
          "output_type": "stream",
          "name": "stdout",
          "text": [
            "running build_ext\n",
            "cythoning keras_retinanet/utils/compute_overlap.pyx to keras_retinanet/utils/compute_overlap.c\n",
            "/usr/local/lib/python3.7/dist-packages/Cython/Compiler/Main.py:369: FutureWarning: Cython directive 'language_level' not set, using 2 for now (Py2). This will change in a later release! File: /content/keras-retinanet/keras_retinanet/utils/compute_overlap.pyx\n",
            "  tree = Parsing.p_module(s, pxd, full_module_name)\n",
            "building 'keras_retinanet.utils.compute_overlap' extension\n",
            "creating build\n",
            "creating build/temp.linux-x86_64-3.7\n",
            "creating build/temp.linux-x86_64-3.7/keras_retinanet\n",
            "creating build/temp.linux-x86_64-3.7/keras_retinanet/utils\n",
            "x86_64-linux-gnu-gcc -pthread -Wno-unused-result -Wsign-compare -DNDEBUG -g -fwrapv -O2 -Wall -g -fdebug-prefix-map=/build/python3.7-pX47U3/python3.7-3.7.12=. -fstack-protector-strong -Wformat -Werror=format-security -g -fdebug-prefix-map=/build/python3.7-pX47U3/python3.7-3.7.12=. -fstack-protector-strong -Wformat -Werror=format-security -Wdate-time -D_FORTIFY_SOURCE=2 -fPIC -I/usr/include/python3.7m -I/usr/local/lib/python3.7/dist-packages/numpy/core/include -c keras_retinanet/utils/compute_overlap.c -o build/temp.linux-x86_64-3.7/keras_retinanet/utils/compute_overlap.o\n",
            "In file included from \u001b[01m\u001b[K/usr/local/lib/python3.7/dist-packages/numpy/core/include/numpy/ndarraytypes.h:1969:0\u001b[m\u001b[K,\n",
            "                 from \u001b[01m\u001b[K/usr/local/lib/python3.7/dist-packages/numpy/core/include/numpy/ndarrayobject.h:12\u001b[m\u001b[K,\n",
            "                 from \u001b[01m\u001b[K/usr/local/lib/python3.7/dist-packages/numpy/core/include/numpy/arrayobject.h:4\u001b[m\u001b[K,\n",
            "                 from \u001b[01m\u001b[Kkeras_retinanet/utils/compute_overlap.c:687\u001b[m\u001b[K:\n",
            "\u001b[01m\u001b[K/usr/local/lib/python3.7/dist-packages/numpy/core/include/numpy/npy_1_7_deprecated_api.h:17:2:\u001b[m\u001b[K \u001b[01;35m\u001b[Kwarning: \u001b[m\u001b[K#warning \"Using deprecated NumPy API, disable it with \" \"#define NPY_NO_DEPRECATED_API NPY_1_7_API_VERSION\" [\u001b[01;35m\u001b[K-Wcpp\u001b[m\u001b[K]\n",
            " #\u001b[01;35m\u001b[Kwarning\u001b[m\u001b[K \"Using deprecated NumPy API, disable it with \" \\\n",
            "  \u001b[01;35m\u001b[K^~~~~~~\u001b[m\u001b[K\n",
            "creating build/lib.linux-x86_64-3.7\n",
            "creating build/lib.linux-x86_64-3.7/keras_retinanet\n",
            "creating build/lib.linux-x86_64-3.7/keras_retinanet/utils\n",
            "x86_64-linux-gnu-gcc -pthread -shared -Wl,-O1 -Wl,-Bsymbolic-functions -Wl,-Bsymbolic-functions -Wl,-z,relro -Wl,-Bsymbolic-functions -Wl,-z,relro -g -fdebug-prefix-map=/build/python3.7-pX47U3/python3.7-3.7.12=. -fstack-protector-strong -Wformat -Werror=format-security -Wdate-time -D_FORTIFY_SOURCE=2 build/temp.linux-x86_64-3.7/keras_retinanet/utils/compute_overlap.o -o build/lib.linux-x86_64-3.7/keras_retinanet/utils/compute_overlap.cpython-37m-x86_64-linux-gnu.so\n",
            "copying build/lib.linux-x86_64-3.7/keras_retinanet/utils/compute_overlap.cpython-37m-x86_64-linux-gnu.so -> keras_retinanet/utils\n",
            "running install\n",
            "running bdist_egg\n",
            "running egg_info\n",
            "creating keras_retinanet.egg-info\n",
            "writing keras_retinanet.egg-info/PKG-INFO\n",
            "writing dependency_links to keras_retinanet.egg-info/dependency_links.txt\n",
            "writing entry points to keras_retinanet.egg-info/entry_points.txt\n",
            "writing requirements to keras_retinanet.egg-info/requires.txt\n",
            "writing top-level names to keras_retinanet.egg-info/top_level.txt\n",
            "writing manifest file 'keras_retinanet.egg-info/SOURCES.txt'\n",
            "adding license file 'LICENSE'\n",
            "writing manifest file 'keras_retinanet.egg-info/SOURCES.txt'\n",
            "installing library code to build/bdist.linux-x86_64/egg\n",
            "running install_lib\n",
            "running build_py\n",
            "creating build/lib.linux-x86_64-3.7/tests\n",
            "copying tests/test_losses.py -> build/lib.linux-x86_64-3.7/tests\n",
            "copying tests/__init__.py -> build/lib.linux-x86_64-3.7/tests\n",
            "copying keras_retinanet/losses.py -> build/lib.linux-x86_64-3.7/keras_retinanet\n",
            "copying keras_retinanet/initializers.py -> build/lib.linux-x86_64-3.7/keras_retinanet\n",
            "copying keras_retinanet/__init__.py -> build/lib.linux-x86_64-3.7/keras_retinanet\n",
            "creating build/lib.linux-x86_64-3.7/tests/backend\n",
            "copying tests/backend/test_common.py -> build/lib.linux-x86_64-3.7/tests/backend\n",
            "copying tests/backend/__init__.py -> build/lib.linux-x86_64-3.7/tests/backend\n",
            "creating build/lib.linux-x86_64-3.7/tests/models\n",
            "copying tests/models/test_mobilenet.py -> build/lib.linux-x86_64-3.7/tests/models\n",
            "copying tests/models/__init__.py -> build/lib.linux-x86_64-3.7/tests/models\n",
            "copying tests/models/test_densenet.py -> build/lib.linux-x86_64-3.7/tests/models\n",
            "creating build/lib.linux-x86_64-3.7/tests/layers\n",
            "copying tests/layers/test_filter_detections.py -> build/lib.linux-x86_64-3.7/tests/layers\n",
            "copying tests/layers/test_misc.py -> build/lib.linux-x86_64-3.7/tests/layers\n",
            "copying tests/layers/__init__.py -> build/lib.linux-x86_64-3.7/tests/layers\n",
            "creating build/lib.linux-x86_64-3.7/tests/utils\n",
            "copying tests/utils/test_anchors.py -> build/lib.linux-x86_64-3.7/tests/utils\n",
            "copying tests/utils/test_transform.py -> build/lib.linux-x86_64-3.7/tests/utils\n",
            "copying tests/utils/__init__.py -> build/lib.linux-x86_64-3.7/tests/utils\n",
            "creating build/lib.linux-x86_64-3.7/tests/preprocessing\n",
            "copying tests/preprocessing/test_csv_generator.py -> build/lib.linux-x86_64-3.7/tests/preprocessing\n",
            "copying tests/preprocessing/test_image.py -> build/lib.linux-x86_64-3.7/tests/preprocessing\n",
            "copying tests/preprocessing/__init__.py -> build/lib.linux-x86_64-3.7/tests/preprocessing\n",
            "copying tests/preprocessing/test_generator.py -> build/lib.linux-x86_64-3.7/tests/preprocessing\n",
            "creating build/lib.linux-x86_64-3.7/keras_retinanet/backend\n",
            "copying keras_retinanet/backend/backend.py -> build/lib.linux-x86_64-3.7/keras_retinanet/backend\n",
            "copying keras_retinanet/backend/__init__.py -> build/lib.linux-x86_64-3.7/keras_retinanet/backend\n",
            "creating build/lib.linux-x86_64-3.7/keras_retinanet/models\n",
            "copying keras_retinanet/models/retinanet.py -> build/lib.linux-x86_64-3.7/keras_retinanet/models\n",
            "copying keras_retinanet/models/senet.py -> build/lib.linux-x86_64-3.7/keras_retinanet/models\n",
            "copying keras_retinanet/models/vgg.py -> build/lib.linux-x86_64-3.7/keras_retinanet/models\n",
            "copying keras_retinanet/models/densenet.py -> build/lib.linux-x86_64-3.7/keras_retinanet/models\n",
            "copying keras_retinanet/models/mobilenet.py -> build/lib.linux-x86_64-3.7/keras_retinanet/models\n",
            "copying keras_retinanet/models/resnet.py -> build/lib.linux-x86_64-3.7/keras_retinanet/models\n",
            "copying keras_retinanet/models/effnet.py -> build/lib.linux-x86_64-3.7/keras_retinanet/models\n",
            "copying keras_retinanet/models/__init__.py -> build/lib.linux-x86_64-3.7/keras_retinanet/models\n",
            "creating build/lib.linux-x86_64-3.7/keras_retinanet/callbacks\n",
            "copying keras_retinanet/callbacks/coco.py -> build/lib.linux-x86_64-3.7/keras_retinanet/callbacks\n",
            "copying keras_retinanet/callbacks/eval.py -> build/lib.linux-x86_64-3.7/keras_retinanet/callbacks\n",
            "copying keras_retinanet/callbacks/common.py -> build/lib.linux-x86_64-3.7/keras_retinanet/callbacks\n",
            "copying keras_retinanet/callbacks/__init__.py -> build/lib.linux-x86_64-3.7/keras_retinanet/callbacks\n",
            "creating build/lib.linux-x86_64-3.7/keras_retinanet/layers\n",
            "copying keras_retinanet/layers/filter_detections.py -> build/lib.linux-x86_64-3.7/keras_retinanet/layers\n",
            "copying keras_retinanet/layers/_misc.py -> build/lib.linux-x86_64-3.7/keras_retinanet/layers\n",
            "copying keras_retinanet/layers/__init__.py -> build/lib.linux-x86_64-3.7/keras_retinanet/layers\n",
            "creating build/lib.linux-x86_64-3.7/keras_retinanet/bin\n",
            "copying keras_retinanet/bin/convert_model.py -> build/lib.linux-x86_64-3.7/keras_retinanet/bin\n",
            "copying keras_retinanet/bin/evaluate.py -> build/lib.linux-x86_64-3.7/keras_retinanet/bin\n",
            "copying keras_retinanet/bin/debug.py -> build/lib.linux-x86_64-3.7/keras_retinanet/bin\n",
            "copying keras_retinanet/bin/train.py -> build/lib.linux-x86_64-3.7/keras_retinanet/bin\n",
            "copying keras_retinanet/bin/__init__.py -> build/lib.linux-x86_64-3.7/keras_retinanet/bin\n",
            "copying keras_retinanet/utils/anchors.py -> build/lib.linux-x86_64-3.7/keras_retinanet/utils\n",
            "copying keras_retinanet/utils/model.py -> build/lib.linux-x86_64-3.7/keras_retinanet/utils\n",
            "copying keras_retinanet/utils/coco_eval.py -> build/lib.linux-x86_64-3.7/keras_retinanet/utils\n",
            "copying keras_retinanet/utils/visualization.py -> build/lib.linux-x86_64-3.7/keras_retinanet/utils\n",
            "copying keras_retinanet/utils/image.py -> build/lib.linux-x86_64-3.7/keras_retinanet/utils\n",
            "copying keras_retinanet/utils/tf_version.py -> build/lib.linux-x86_64-3.7/keras_retinanet/utils\n",
            "copying keras_retinanet/utils/gpu.py -> build/lib.linux-x86_64-3.7/keras_retinanet/utils\n",
            "copying keras_retinanet/utils/colors.py -> build/lib.linux-x86_64-3.7/keras_retinanet/utils\n",
            "copying keras_retinanet/utils/eval.py -> build/lib.linux-x86_64-3.7/keras_retinanet/utils\n",
            "copying keras_retinanet/utils/transform.py -> build/lib.linux-x86_64-3.7/keras_retinanet/utils\n",
            "copying keras_retinanet/utils/__init__.py -> build/lib.linux-x86_64-3.7/keras_retinanet/utils\n",
            "copying keras_retinanet/utils/config.py -> build/lib.linux-x86_64-3.7/keras_retinanet/utils\n",
            "creating build/lib.linux-x86_64-3.7/keras_retinanet/preprocessing\n",
            "copying keras_retinanet/preprocessing/pascal_voc.py -> build/lib.linux-x86_64-3.7/keras_retinanet/preprocessing\n",
            "copying keras_retinanet/preprocessing/coco.py -> build/lib.linux-x86_64-3.7/keras_retinanet/preprocessing\n",
            "copying keras_retinanet/preprocessing/open_images.py -> build/lib.linux-x86_64-3.7/keras_retinanet/preprocessing\n",
            "copying keras_retinanet/preprocessing/csv_generator.py -> build/lib.linux-x86_64-3.7/keras_retinanet/preprocessing\n",
            "copying keras_retinanet/preprocessing/generator.py -> build/lib.linux-x86_64-3.7/keras_retinanet/preprocessing\n",
            "copying keras_retinanet/preprocessing/kitti.py -> build/lib.linux-x86_64-3.7/keras_retinanet/preprocessing\n",
            "copying keras_retinanet/preprocessing/__init__.py -> build/lib.linux-x86_64-3.7/keras_retinanet/preprocessing\n",
            "running build_ext\n",
            "skipping 'keras_retinanet/utils/compute_overlap.c' Cython extension (up-to-date)\n",
            "creating build/bdist.linux-x86_64\n",
            "creating build/bdist.linux-x86_64/egg\n",
            "creating build/bdist.linux-x86_64/egg/tests\n",
            "creating build/bdist.linux-x86_64/egg/tests/backend\n",
            "copying build/lib.linux-x86_64-3.7/tests/backend/test_common.py -> build/bdist.linux-x86_64/egg/tests/backend\n",
            "copying build/lib.linux-x86_64-3.7/tests/backend/__init__.py -> build/bdist.linux-x86_64/egg/tests/backend\n",
            "creating build/bdist.linux-x86_64/egg/tests/models\n",
            "copying build/lib.linux-x86_64-3.7/tests/models/test_mobilenet.py -> build/bdist.linux-x86_64/egg/tests/models\n",
            "copying build/lib.linux-x86_64-3.7/tests/models/__init__.py -> build/bdist.linux-x86_64/egg/tests/models\n",
            "copying build/lib.linux-x86_64-3.7/tests/models/test_densenet.py -> build/bdist.linux-x86_64/egg/tests/models\n",
            "creating build/bdist.linux-x86_64/egg/tests/layers\n",
            "copying build/lib.linux-x86_64-3.7/tests/layers/test_filter_detections.py -> build/bdist.linux-x86_64/egg/tests/layers\n",
            "copying build/lib.linux-x86_64-3.7/tests/layers/test_misc.py -> build/bdist.linux-x86_64/egg/tests/layers\n",
            "copying build/lib.linux-x86_64-3.7/tests/layers/__init__.py -> build/bdist.linux-x86_64/egg/tests/layers\n",
            "creating build/bdist.linux-x86_64/egg/tests/utils\n",
            "copying build/lib.linux-x86_64-3.7/tests/utils/test_anchors.py -> build/bdist.linux-x86_64/egg/tests/utils\n",
            "copying build/lib.linux-x86_64-3.7/tests/utils/test_transform.py -> build/bdist.linux-x86_64/egg/tests/utils\n",
            "copying build/lib.linux-x86_64-3.7/tests/utils/__init__.py -> build/bdist.linux-x86_64/egg/tests/utils\n",
            "copying build/lib.linux-x86_64-3.7/tests/test_losses.py -> build/bdist.linux-x86_64/egg/tests\n",
            "copying build/lib.linux-x86_64-3.7/tests/__init__.py -> build/bdist.linux-x86_64/egg/tests\n",
            "creating build/bdist.linux-x86_64/egg/tests/preprocessing\n",
            "copying build/lib.linux-x86_64-3.7/tests/preprocessing/test_csv_generator.py -> build/bdist.linux-x86_64/egg/tests/preprocessing\n",
            "copying build/lib.linux-x86_64-3.7/tests/preprocessing/test_image.py -> build/bdist.linux-x86_64/egg/tests/preprocessing\n",
            "copying build/lib.linux-x86_64-3.7/tests/preprocessing/__init__.py -> build/bdist.linux-x86_64/egg/tests/preprocessing\n",
            "copying build/lib.linux-x86_64-3.7/tests/preprocessing/test_generator.py -> build/bdist.linux-x86_64/egg/tests/preprocessing\n",
            "creating build/bdist.linux-x86_64/egg/keras_retinanet\n",
            "creating build/bdist.linux-x86_64/egg/keras_retinanet/backend\n",
            "copying build/lib.linux-x86_64-3.7/keras_retinanet/backend/backend.py -> build/bdist.linux-x86_64/egg/keras_retinanet/backend\n",
            "copying build/lib.linux-x86_64-3.7/keras_retinanet/backend/__init__.py -> build/bdist.linux-x86_64/egg/keras_retinanet/backend\n",
            "creating build/bdist.linux-x86_64/egg/keras_retinanet/models\n",
            "copying build/lib.linux-x86_64-3.7/keras_retinanet/models/retinanet.py -> build/bdist.linux-x86_64/egg/keras_retinanet/models\n",
            "copying build/lib.linux-x86_64-3.7/keras_retinanet/models/senet.py -> build/bdist.linux-x86_64/egg/keras_retinanet/models\n",
            "copying build/lib.linux-x86_64-3.7/keras_retinanet/models/vgg.py -> build/bdist.linux-x86_64/egg/keras_retinanet/models\n",
            "copying build/lib.linux-x86_64-3.7/keras_retinanet/models/densenet.py -> build/bdist.linux-x86_64/egg/keras_retinanet/models\n",
            "copying build/lib.linux-x86_64-3.7/keras_retinanet/models/mobilenet.py -> build/bdist.linux-x86_64/egg/keras_retinanet/models\n",
            "copying build/lib.linux-x86_64-3.7/keras_retinanet/models/resnet.py -> build/bdist.linux-x86_64/egg/keras_retinanet/models\n",
            "copying build/lib.linux-x86_64-3.7/keras_retinanet/models/effnet.py -> build/bdist.linux-x86_64/egg/keras_retinanet/models\n",
            "copying build/lib.linux-x86_64-3.7/keras_retinanet/models/__init__.py -> build/bdist.linux-x86_64/egg/keras_retinanet/models\n",
            "copying build/lib.linux-x86_64-3.7/keras_retinanet/losses.py -> build/bdist.linux-x86_64/egg/keras_retinanet\n",
            "copying build/lib.linux-x86_64-3.7/keras_retinanet/initializers.py -> build/bdist.linux-x86_64/egg/keras_retinanet\n",
            "creating build/bdist.linux-x86_64/egg/keras_retinanet/callbacks\n",
            "copying build/lib.linux-x86_64-3.7/keras_retinanet/callbacks/coco.py -> build/bdist.linux-x86_64/egg/keras_retinanet/callbacks\n",
            "copying build/lib.linux-x86_64-3.7/keras_retinanet/callbacks/eval.py -> build/bdist.linux-x86_64/egg/keras_retinanet/callbacks\n",
            "copying build/lib.linux-x86_64-3.7/keras_retinanet/callbacks/common.py -> build/bdist.linux-x86_64/egg/keras_retinanet/callbacks\n",
            "copying build/lib.linux-x86_64-3.7/keras_retinanet/callbacks/__init__.py -> build/bdist.linux-x86_64/egg/keras_retinanet/callbacks\n",
            "creating build/bdist.linux-x86_64/egg/keras_retinanet/layers\n",
            "copying build/lib.linux-x86_64-3.7/keras_retinanet/layers/filter_detections.py -> build/bdist.linux-x86_64/egg/keras_retinanet/layers\n",
            "copying build/lib.linux-x86_64-3.7/keras_retinanet/layers/_misc.py -> build/bdist.linux-x86_64/egg/keras_retinanet/layers\n",
            "copying build/lib.linux-x86_64-3.7/keras_retinanet/layers/__init__.py -> build/bdist.linux-x86_64/egg/keras_retinanet/layers\n",
            "creating build/bdist.linux-x86_64/egg/keras_retinanet/bin\n",
            "copying build/lib.linux-x86_64-3.7/keras_retinanet/bin/convert_model.py -> build/bdist.linux-x86_64/egg/keras_retinanet/bin\n",
            "copying build/lib.linux-x86_64-3.7/keras_retinanet/bin/evaluate.py -> build/bdist.linux-x86_64/egg/keras_retinanet/bin\n",
            "copying build/lib.linux-x86_64-3.7/keras_retinanet/bin/debug.py -> build/bdist.linux-x86_64/egg/keras_retinanet/bin\n",
            "copying build/lib.linux-x86_64-3.7/keras_retinanet/bin/train.py -> build/bdist.linux-x86_64/egg/keras_retinanet/bin\n",
            "copying build/lib.linux-x86_64-3.7/keras_retinanet/bin/__init__.py -> build/bdist.linux-x86_64/egg/keras_retinanet/bin\n",
            "creating build/bdist.linux-x86_64/egg/keras_retinanet/utils\n",
            "copying build/lib.linux-x86_64-3.7/keras_retinanet/utils/compute_overlap.cpython-37m-x86_64-linux-gnu.so -> build/bdist.linux-x86_64/egg/keras_retinanet/utils\n",
            "copying build/lib.linux-x86_64-3.7/keras_retinanet/utils/anchors.py -> build/bdist.linux-x86_64/egg/keras_retinanet/utils\n",
            "copying build/lib.linux-x86_64-3.7/keras_retinanet/utils/model.py -> build/bdist.linux-x86_64/egg/keras_retinanet/utils\n",
            "copying build/lib.linux-x86_64-3.7/keras_retinanet/utils/coco_eval.py -> build/bdist.linux-x86_64/egg/keras_retinanet/utils\n",
            "copying build/lib.linux-x86_64-3.7/keras_retinanet/utils/visualization.py -> build/bdist.linux-x86_64/egg/keras_retinanet/utils\n",
            "copying build/lib.linux-x86_64-3.7/keras_retinanet/utils/image.py -> build/bdist.linux-x86_64/egg/keras_retinanet/utils\n",
            "copying build/lib.linux-x86_64-3.7/keras_retinanet/utils/tf_version.py -> build/bdist.linux-x86_64/egg/keras_retinanet/utils\n",
            "copying build/lib.linux-x86_64-3.7/keras_retinanet/utils/gpu.py -> build/bdist.linux-x86_64/egg/keras_retinanet/utils\n",
            "copying build/lib.linux-x86_64-3.7/keras_retinanet/utils/colors.py -> build/bdist.linux-x86_64/egg/keras_retinanet/utils\n",
            "copying build/lib.linux-x86_64-3.7/keras_retinanet/utils/eval.py -> build/bdist.linux-x86_64/egg/keras_retinanet/utils\n",
            "copying build/lib.linux-x86_64-3.7/keras_retinanet/utils/transform.py -> build/bdist.linux-x86_64/egg/keras_retinanet/utils\n",
            "copying build/lib.linux-x86_64-3.7/keras_retinanet/utils/__init__.py -> build/bdist.linux-x86_64/egg/keras_retinanet/utils\n",
            "copying build/lib.linux-x86_64-3.7/keras_retinanet/utils/config.py -> build/bdist.linux-x86_64/egg/keras_retinanet/utils\n",
            "copying build/lib.linux-x86_64-3.7/keras_retinanet/__init__.py -> build/bdist.linux-x86_64/egg/keras_retinanet\n",
            "creating build/bdist.linux-x86_64/egg/keras_retinanet/preprocessing\n",
            "copying build/lib.linux-x86_64-3.7/keras_retinanet/preprocessing/pascal_voc.py -> build/bdist.linux-x86_64/egg/keras_retinanet/preprocessing\n",
            "copying build/lib.linux-x86_64-3.7/keras_retinanet/preprocessing/coco.py -> build/bdist.linux-x86_64/egg/keras_retinanet/preprocessing\n",
            "copying build/lib.linux-x86_64-3.7/keras_retinanet/preprocessing/open_images.py -> build/bdist.linux-x86_64/egg/keras_retinanet/preprocessing\n",
            "copying build/lib.linux-x86_64-3.7/keras_retinanet/preprocessing/csv_generator.py -> build/bdist.linux-x86_64/egg/keras_retinanet/preprocessing\n",
            "copying build/lib.linux-x86_64-3.7/keras_retinanet/preprocessing/generator.py -> build/bdist.linux-x86_64/egg/keras_retinanet/preprocessing\n",
            "copying build/lib.linux-x86_64-3.7/keras_retinanet/preprocessing/kitti.py -> build/bdist.linux-x86_64/egg/keras_retinanet/preprocessing\n",
            "copying build/lib.linux-x86_64-3.7/keras_retinanet/preprocessing/__init__.py -> build/bdist.linux-x86_64/egg/keras_retinanet/preprocessing\n",
            "byte-compiling build/bdist.linux-x86_64/egg/tests/backend/test_common.py to test_common.cpython-37.pyc\n",
            "byte-compiling build/bdist.linux-x86_64/egg/tests/backend/__init__.py to __init__.cpython-37.pyc\n",
            "byte-compiling build/bdist.linux-x86_64/egg/tests/models/test_mobilenet.py to test_mobilenet.cpython-37.pyc\n",
            "byte-compiling build/bdist.linux-x86_64/egg/tests/models/__init__.py to __init__.cpython-37.pyc\n",
            "byte-compiling build/bdist.linux-x86_64/egg/tests/models/test_densenet.py to test_densenet.cpython-37.pyc\n",
            "byte-compiling build/bdist.linux-x86_64/egg/tests/layers/test_filter_detections.py to test_filter_detections.cpython-37.pyc\n",
            "byte-compiling build/bdist.linux-x86_64/egg/tests/layers/test_misc.py to test_misc.cpython-37.pyc\n",
            "byte-compiling build/bdist.linux-x86_64/egg/tests/layers/__init__.py to __init__.cpython-37.pyc\n",
            "byte-compiling build/bdist.linux-x86_64/egg/tests/utils/test_anchors.py to test_anchors.cpython-37.pyc\n",
            "byte-compiling build/bdist.linux-x86_64/egg/tests/utils/test_transform.py to test_transform.cpython-37.pyc\n",
            "byte-compiling build/bdist.linux-x86_64/egg/tests/utils/__init__.py to __init__.cpython-37.pyc\n",
            "byte-compiling build/bdist.linux-x86_64/egg/tests/test_losses.py to test_losses.cpython-37.pyc\n",
            "byte-compiling build/bdist.linux-x86_64/egg/tests/__init__.py to __init__.cpython-37.pyc\n",
            "byte-compiling build/bdist.linux-x86_64/egg/tests/preprocessing/test_csv_generator.py to test_csv_generator.cpython-37.pyc\n",
            "byte-compiling build/bdist.linux-x86_64/egg/tests/preprocessing/test_image.py to test_image.cpython-37.pyc\n",
            "byte-compiling build/bdist.linux-x86_64/egg/tests/preprocessing/__init__.py to __init__.cpython-37.pyc\n",
            "byte-compiling build/bdist.linux-x86_64/egg/tests/preprocessing/test_generator.py to test_generator.cpython-37.pyc\n",
            "byte-compiling build/bdist.linux-x86_64/egg/keras_retinanet/backend/backend.py to backend.cpython-37.pyc\n",
            "byte-compiling build/bdist.linux-x86_64/egg/keras_retinanet/backend/__init__.py to __init__.cpython-37.pyc\n",
            "byte-compiling build/bdist.linux-x86_64/egg/keras_retinanet/models/retinanet.py to retinanet.cpython-37.pyc\n",
            "byte-compiling build/bdist.linux-x86_64/egg/keras_retinanet/models/senet.py to senet.cpython-37.pyc\n",
            "byte-compiling build/bdist.linux-x86_64/egg/keras_retinanet/models/vgg.py to vgg.cpython-37.pyc\n",
            "byte-compiling build/bdist.linux-x86_64/egg/keras_retinanet/models/densenet.py to densenet.cpython-37.pyc\n",
            "byte-compiling build/bdist.linux-x86_64/egg/keras_retinanet/models/mobilenet.py to mobilenet.cpython-37.pyc\n",
            "byte-compiling build/bdist.linux-x86_64/egg/keras_retinanet/models/resnet.py to resnet.cpython-37.pyc\n",
            "byte-compiling build/bdist.linux-x86_64/egg/keras_retinanet/models/effnet.py to effnet.cpython-37.pyc\n",
            "byte-compiling build/bdist.linux-x86_64/egg/keras_retinanet/models/__init__.py to __init__.cpython-37.pyc\n",
            "byte-compiling build/bdist.linux-x86_64/egg/keras_retinanet/losses.py to losses.cpython-37.pyc\n",
            "byte-compiling build/bdist.linux-x86_64/egg/keras_retinanet/initializers.py to initializers.cpython-37.pyc\n",
            "byte-compiling build/bdist.linux-x86_64/egg/keras_retinanet/callbacks/coco.py to coco.cpython-37.pyc\n",
            "byte-compiling build/bdist.linux-x86_64/egg/keras_retinanet/callbacks/eval.py to eval.cpython-37.pyc\n",
            "byte-compiling build/bdist.linux-x86_64/egg/keras_retinanet/callbacks/common.py to common.cpython-37.pyc\n",
            "byte-compiling build/bdist.linux-x86_64/egg/keras_retinanet/callbacks/__init__.py to __init__.cpython-37.pyc\n",
            "byte-compiling build/bdist.linux-x86_64/egg/keras_retinanet/layers/filter_detections.py to filter_detections.cpython-37.pyc\n",
            "byte-compiling build/bdist.linux-x86_64/egg/keras_retinanet/layers/_misc.py to _misc.cpython-37.pyc\n",
            "byte-compiling build/bdist.linux-x86_64/egg/keras_retinanet/layers/__init__.py to __init__.cpython-37.pyc\n",
            "byte-compiling build/bdist.linux-x86_64/egg/keras_retinanet/bin/convert_model.py to convert_model.cpython-37.pyc\n",
            "byte-compiling build/bdist.linux-x86_64/egg/keras_retinanet/bin/evaluate.py to evaluate.cpython-37.pyc\n",
            "byte-compiling build/bdist.linux-x86_64/egg/keras_retinanet/bin/debug.py to debug.cpython-37.pyc\n",
            "byte-compiling build/bdist.linux-x86_64/egg/keras_retinanet/bin/train.py to train.cpython-37.pyc\n",
            "byte-compiling build/bdist.linux-x86_64/egg/keras_retinanet/bin/__init__.py to __init__.cpython-37.pyc\n",
            "byte-compiling build/bdist.linux-x86_64/egg/keras_retinanet/utils/anchors.py to anchors.cpython-37.pyc\n",
            "byte-compiling build/bdist.linux-x86_64/egg/keras_retinanet/utils/model.py to model.cpython-37.pyc\n",
            "byte-compiling build/bdist.linux-x86_64/egg/keras_retinanet/utils/coco_eval.py to coco_eval.cpython-37.pyc\n",
            "byte-compiling build/bdist.linux-x86_64/egg/keras_retinanet/utils/visualization.py to visualization.cpython-37.pyc\n",
            "byte-compiling build/bdist.linux-x86_64/egg/keras_retinanet/utils/image.py to image.cpython-37.pyc\n",
            "byte-compiling build/bdist.linux-x86_64/egg/keras_retinanet/utils/tf_version.py to tf_version.cpython-37.pyc\n",
            "byte-compiling build/bdist.linux-x86_64/egg/keras_retinanet/utils/gpu.py to gpu.cpython-37.pyc\n",
            "byte-compiling build/bdist.linux-x86_64/egg/keras_retinanet/utils/colors.py to colors.cpython-37.pyc\n",
            "byte-compiling build/bdist.linux-x86_64/egg/keras_retinanet/utils/eval.py to eval.cpython-37.pyc\n",
            "byte-compiling build/bdist.linux-x86_64/egg/keras_retinanet/utils/transform.py to transform.cpython-37.pyc\n",
            "byte-compiling build/bdist.linux-x86_64/egg/keras_retinanet/utils/__init__.py to __init__.cpython-37.pyc\n",
            "byte-compiling build/bdist.linux-x86_64/egg/keras_retinanet/utils/config.py to config.cpython-37.pyc\n",
            "byte-compiling build/bdist.linux-x86_64/egg/keras_retinanet/__init__.py to __init__.cpython-37.pyc\n",
            "byte-compiling build/bdist.linux-x86_64/egg/keras_retinanet/preprocessing/pascal_voc.py to pascal_voc.cpython-37.pyc\n",
            "byte-compiling build/bdist.linux-x86_64/egg/keras_retinanet/preprocessing/coco.py to coco.cpython-37.pyc\n",
            "byte-compiling build/bdist.linux-x86_64/egg/keras_retinanet/preprocessing/open_images.py to open_images.cpython-37.pyc\n",
            "byte-compiling build/bdist.linux-x86_64/egg/keras_retinanet/preprocessing/csv_generator.py to csv_generator.cpython-37.pyc\n",
            "byte-compiling build/bdist.linux-x86_64/egg/keras_retinanet/preprocessing/generator.py to generator.cpython-37.pyc\n",
            "byte-compiling build/bdist.linux-x86_64/egg/keras_retinanet/preprocessing/kitti.py to kitti.cpython-37.pyc\n",
            "byte-compiling build/bdist.linux-x86_64/egg/keras_retinanet/preprocessing/__init__.py to __init__.cpython-37.pyc\n",
            "creating stub loader for keras_retinanet/utils/compute_overlap.cpython-37m-x86_64-linux-gnu.so\n",
            "byte-compiling build/bdist.linux-x86_64/egg/keras_retinanet/utils/compute_overlap.py to compute_overlap.cpython-37.pyc\n",
            "creating build/bdist.linux-x86_64/egg/EGG-INFO\n",
            "copying keras_retinanet.egg-info/PKG-INFO -> build/bdist.linux-x86_64/egg/EGG-INFO\n",
            "copying keras_retinanet.egg-info/SOURCES.txt -> build/bdist.linux-x86_64/egg/EGG-INFO\n",
            "copying keras_retinanet.egg-info/dependency_links.txt -> build/bdist.linux-x86_64/egg/EGG-INFO\n",
            "copying keras_retinanet.egg-info/entry_points.txt -> build/bdist.linux-x86_64/egg/EGG-INFO\n",
            "copying keras_retinanet.egg-info/requires.txt -> build/bdist.linux-x86_64/egg/EGG-INFO\n",
            "copying keras_retinanet.egg-info/top_level.txt -> build/bdist.linux-x86_64/egg/EGG-INFO\n",
            "writing build/bdist.linux-x86_64/egg/EGG-INFO/native_libs.txt\n",
            "zip_safe flag not set; analyzing archive contents...\n",
            "keras_retinanet.bin.__pycache__.convert_model.cpython-37: module references __file__\n",
            "keras_retinanet.bin.__pycache__.debug.cpython-37: module references __file__\n",
            "keras_retinanet.bin.__pycache__.evaluate.cpython-37: module references __file__\n",
            "keras_retinanet.bin.__pycache__.train.cpython-37: module references __file__\n",
            "keras_retinanet.utils.__pycache__.compute_overlap.cpython-37: module references __file__\n",
            "creating dist\n",
            "creating 'dist/keras_retinanet-1.0.0-py3.7-linux-x86_64.egg' and adding 'build/bdist.linux-x86_64/egg' to it\n",
            "removing 'build/bdist.linux-x86_64/egg' (and everything under it)\n",
            "Processing keras_retinanet-1.0.0-py3.7-linux-x86_64.egg\n",
            "creating /usr/local/lib/python3.7/dist-packages/keras_retinanet-1.0.0-py3.7-linux-x86_64.egg\n",
            "Extracting keras_retinanet-1.0.0-py3.7-linux-x86_64.egg to /usr/local/lib/python3.7/dist-packages\n",
            "Adding keras-retinanet 1.0.0 to easy-install.pth file\n",
            "Installing retinanet-convert-model script to /usr/local/bin\n",
            "Installing retinanet-debug script to /usr/local/bin\n",
            "Installing retinanet-evaluate script to /usr/local/bin\n",
            "Installing retinanet-train script to /usr/local/bin\n",
            "\n",
            "Installed /usr/local/lib/python3.7/dist-packages/keras_retinanet-1.0.0-py3.7-linux-x86_64.egg\n",
            "Processing dependencies for keras-retinanet==1.0.0\n",
            "Searching for progressbar2==3.38.0\n",
            "Best match: progressbar2 3.38.0\n",
            "Adding progressbar2 3.38.0 to easy-install.pth file\n",
            "\n",
            "Using /usr/local/lib/python3.7/dist-packages\n",
            "Searching for opencv-python==4.1.2.30\n",
            "Best match: opencv-python 4.1.2.30\n",
            "Adding opencv-python 4.1.2.30 to easy-install.pth file\n",
            "\n",
            "Using /usr/local/lib/python3.7/dist-packages\n",
            "Searching for Pillow==7.1.2\n",
            "Best match: Pillow 7.1.2\n",
            "Adding Pillow 7.1.2 to easy-install.pth file\n",
            "\n",
            "Using /usr/local/lib/python3.7/dist-packages\n",
            "Searching for Cython==0.29.28\n",
            "Best match: Cython 0.29.28\n",
            "Adding Cython 0.29.28 to easy-install.pth file\n",
            "Installing cygdb script to /usr/local/bin\n",
            "Installing cython script to /usr/local/bin\n",
            "Installing cythonize script to /usr/local/bin\n",
            "\n",
            "Using /usr/local/lib/python3.7/dist-packages\n",
            "Searching for numpy==1.21.5\n",
            "Best match: numpy 1.21.5\n",
            "Adding numpy 1.21.5 to easy-install.pth file\n",
            "Installing f2py script to /usr/local/bin\n",
            "Installing f2py3 script to /usr/local/bin\n",
            "Installing f2py3.7 script to /usr/local/bin\n",
            "\n",
            "Using /usr/local/lib/python3.7/dist-packages\n",
            "Searching for six==1.15.0\n",
            "Best match: six 1.15.0\n",
            "Adding six 1.15.0 to easy-install.pth file\n",
            "\n",
            "Using /usr/local/lib/python3.7/dist-packages\n",
            "Searching for keras-resnet==0.2.0\n",
            "Best match: keras-resnet 0.2.0\n",
            "Adding keras-resnet 0.2.0 to easy-install.pth file\n",
            "\n",
            "Using /usr/local/lib/python3.7/dist-packages\n",
            "Searching for python-utils==3.1.0\n",
            "Best match: python-utils 3.1.0\n",
            "Adding python-utils 3.1.0 to easy-install.pth file\n",
            "\n",
            "Using /usr/local/lib/python3.7/dist-packages\n",
            "Searching for keras==2.8.0\n",
            "Best match: keras 2.8.0\n",
            "Adding keras 2.8.0 to easy-install.pth file\n",
            "\n",
            "Using /usr/local/lib/python3.7/dist-packages\n",
            "Finished processing dependencies for keras-retinanet==1.0.0\n"
          ]
        }
      ],
      "source": [
        "!cd keras-retinanet && python setup.py build_ext --inplace  && python setup.py install "
      ]
    },
    {
      "cell_type": "code",
      "execution_count": 6,
      "metadata": {
        "colab": {
          "base_uri": "https://localhost:8080/"
        },
        "id": "kFed-oDONy7Y",
        "outputId": "b318326e-5440-478c-91b9-b42c6468bb2b"
      },
      "outputs": [
        {
          "output_type": "stream",
          "name": "stdout",
          "text": [
            "Requirement already satisfied: keras-resnet in /usr/local/lib/python3.7/dist-packages (0.2.0)\n",
            "Requirement already satisfied: keras>=2.2.4 in /usr/local/lib/python3.7/dist-packages (from keras-resnet) (2.8.0)\n"
          ]
        }
      ],
      "source": [
        "#!pip install --upgrade git+https://github.com/broadinstitute/keras-resnet\n",
        "!pip install keras-resnet\n",
        "import keras\n",
        "import keras_resnet "
      ]
    },
    {
      "cell_type": "code",
      "execution_count": 7,
      "metadata": {
        "colab": {
          "base_uri": "https://localhost:8080/"
        },
        "id": "a4ZNC46zMRPs",
        "outputId": "3a836a02-49b0-4ce7-9497-b656c956fc70"
      },
      "outputs": [
        {
          "output_type": "stream",
          "name": "stdout",
          "text": [
            "/content/keras-retinanet\n"
          ]
        }
      ],
      "source": [
        "%cd keras-retinanet"
      ]
    },
    {
      "cell_type": "code",
      "source": [
        "import matplotlib.pyplot as plt\n",
        "\n",
        "import numpy as np\n",
        "import os\n",
        "import PIL\n",
        "import PIL.Image\n",
        "import tensorflow as tf\n",
        "import tensorflow_datasets as tfds\n",
        "\n",
        "# show images inline\n",
        "%matplotlib inline\n",
        "\n",
        "# automatically reload modules when they have changed\n",
        "%load_ext autoreload\n",
        "%autoreload 2\n",
        "\n",
        "# import keras\n",
        "from tensorflow import keras\n",
        "\n",
        "# import keras_retinanet\n",
        "from keras_retinanet import models\n",
        "from keras_retinanet.utils.image import read_image_bgr, preprocess_image, resize_image\n",
        "from keras_retinanet.utils.visualization import draw_box, draw_caption\n",
        "from keras_retinanet.utils.colors import label_color\n",
        "from keras_retinanet.utils.gpu import setup_gpu\n",
        "\n",
        "# import miscellaneous modules\n",
        "import cv2\n",
        "import time"
      ],
      "metadata": {
        "id": "x-80ighbc_x3"
      },
      "execution_count": 8,
      "outputs": []
    },
    {
      "cell_type": "code",
      "source": [
        "from google.colab import drive\n",
        "drive.mount('/content/drive')"
      ],
      "metadata": {
        "id": "HnfsQ35nTOea",
        "colab": {
          "base_uri": "https://localhost:8080/"
        },
        "outputId": "4d526445-474c-4fd5-ff3e-0505f5b2c5a7"
      },
      "execution_count": 1,
      "outputs": [
        {
          "output_type": "stream",
          "name": "stdout",
          "text": [
            "Drive already mounted at /content/drive; to attempt to forcibly remount, call drive.mount(\"/content/drive\", force_remount=True).\n"
          ]
        }
      ]
    },
    {
      "cell_type": "markdown",
      "metadata": {
        "id": "-tNKsmDb9IlY"
      },
      "source": [
        "# **check**"
      ]
    },
    {
      "cell_type": "markdown",
      "metadata": {
        "id": "Q7G2sZdzM3HD"
      },
      "source": [
        "!!"
      ]
    },
    {
      "cell_type": "code",
      "execution_count": 10,
      "metadata": {
        "colab": {
          "base_uri": "https://localhost:8080/"
        },
        "id": "6cW4febaHmJT",
        "outputId": "66233c40-27af-4f4c-9968-1a1eaeb9966e"
      },
      "outputs": [
        {
          "output_type": "stream",
          "name": "stdout",
          "text": [
            "  % Total    % Received % Xferd  Average Speed   Time    Time     Time  Current\n",
            "                                 Dload  Upload   Total   Spent    Left  Speed\n",
            "100   667  100   667    0     0   2223      0 --:--:-- --:--:-- --:--:--  2215\n",
            "100  145M  100  145M    0     0   111M      0  0:00:01  0:00:01 --:--:--  168M\n",
            "WARNING:tensorflow:No training configuration found in the save file, so the model was *not* compiled. Compile it manually.\n"
          ]
        }
      ],
      "source": [
        "!cd snapshots && curl -L -O https://github.com/fizyr/keras-retinanet/releases/download/0.5.1/resnet50_coco_best_v2.1.0.h5\n",
        "\n",
        "# adjust this to point to your downloaded/trained model\n",
        "# models can be downloaded here: https://github.com/fizyr/keras-retinanet/releases\n",
        "#model_path = os.path.join('snapshots', 'resnet50_coco_best_v2.1.0.h5')\n",
        "model_path = './snapshots/resnet50_coco_best_v2.1.0.h5'\n",
        "\n",
        "# load retinanet model\n",
        "model = models.load_model(model_path, backbone_name='resnet50')\n",
        "\n",
        "\n",
        "# if the model is not converted to an inference model, use the line below\n",
        "# see: https://github.com/fizyr/keras-retinanet#converting-a-training-model-to-inference-model\n",
        "#model = models.convert_model(model)\n",
        "\n",
        "#print(model.summary())"
      ]
    },
    {
      "cell_type": "code",
      "execution_count": 11,
      "metadata": {
        "id": "1CfPzcCbMGkB"
      },
      "outputs": [],
      "source": [
        "# load label to names mapping for visualization purposes\n",
        "labels_to_names = {0: 'person', 1: 'bicycle', 2: 'car', 3: 'motorcycle',\n",
        "                   4: 'airplane', 5: 'bus', 6: 'train', 7: 'truck', 8: 'boat',\n",
        "                   9: 'traffic light', 10: 'fire hydrant', 11: 'stop sign', \n",
        "                   12: 'parking meter', 13: 'bench', 14: 'bird', 15: 'cat',\n",
        "                   16: 'dog', 17: 'horse', 18: 'sheep', 19: 'cow', 20: 'elephant',\n",
        "                   21: 'bear', 22: 'zebra', 23: 'giraffe', 24: 'backpack', 25: 'umbrella',\n",
        "                   26: 'handbag', 27: 'tie', 28: 'suitcase', 29: 'frisbee', 30: 'skis', \n",
        "                   31: 'snowboard', 32: 'sports ball', 33: 'kite', 34: 'baseball bat',\n",
        "                   35: 'baseball glove', 36: 'skateboard', 37: 'surfboard', \n",
        "                   38: 'tennis racket', 39: 'bottle', 40: 'wine glass', 41: 'cup',\n",
        "                   42: 'fork', 43: 'knife', 44: 'spoon', 45: 'bowl', 46: 'banana', \n",
        "                   47: 'apple', 48: 'sandwich', 49: 'orange', 50: 'broccoli', \n",
        "                   51: 'carrot', 52: 'hot dog', 53: 'pizza', 54: 'donut',\n",
        "                   55: 'cake', 56: 'chair', 57: 'couch', 58: 'potted plant',\n",
        "                   59: 'bed', 60: 'dining table', 61: 'toilet', 62: 'tv', 63: 'laptop',\n",
        "                   64: 'mouse', 65: 'remote', 66: 'keyboard', 67: 'cell phone',\n",
        "                   68: 'microwave', 69: 'oven', 70: 'toaster', 71: 'sink', 72: 'refrigerator',\n",
        "                   73: 'book', 74: 'clock', 75: 'vase', 76: 'scissors',\n",
        "                   77: 'teddy bear', 78: 'hair drier', 79: 'toothbrush'}\n"
      ]
    },
    {
      "cell_type": "code",
      "execution_count": 28,
      "metadata": {
        "colab": {
          "base_uri": "https://localhost:8080/",
          "height": 900
        },
        "id": "dGVitPlHM5m_",
        "outputId": "2d6e8215-65d5-42fc-8322-819e4437b2d5"
      },
      "outputs": [
        {
          "output_type": "stream",
          "name": "stdout",
          "text": [
            "processing time:  4.431487560272217\n",
            "[193.01634 361.2275  291.3746  501.9082 ]\n",
            "scissors 0.730\n"
          ]
        },
        {
          "output_type": "display_data",
          "data": {
            "image/png": "[encoded data removed]",
            "text/plain": [
              "<Figure size 1080x1080 with 1 Axes>"
            ]
          },
          "metadata": {
            "needs_background": "light"
          }
        }
      ],
      "source": [
        "# load image\n",
        "#img = read_image_bgr(os.path.join('examples','000000008021.jpg'))\n",
        "image = cv2.resize(img, (1024,1024))\n",
        "#image = cv2.transpose(image)\n",
        "\n",
        "# copy to draw on\n",
        "draw = image.copy()\n",
        "draw = cv2.cvtColor(draw, cv2.COLOR_BGR2RGB)\n",
        "\n",
        "# preprocess image for network\n",
        "image = preprocess_image(image)\n",
        "image, scale = resize_image(image)\n",
        "\n",
        "# process image\n",
        "start = time.time()\n",
        "boxes, scores, labels = model.predict_on_batch(np.expand_dims(image, axis=0))\n",
        "print(\"processing time: \", time.time() - start)\n",
        "\n",
        "# correct for image scale\n",
        "boxes /= scale\n",
        "\n",
        "# visualize detections\n",
        "for box, score, label in zip(boxes[0], scores[0], labels[0]):\n",
        "    # scores are sorted so we can break\n",
        "    if score < 0.5:\n",
        "        break\n",
        "        \n",
        "    color = label_color(label)\n",
        "    \n",
        "    b = box.astype(int)\n",
        "    draw_box(draw, b, color=color)\n",
        "    print(box)\n",
        "    \n",
        "    caption = \"{} {:.3f}\".format(labels_to_names[label], score)\n",
        "    print(caption)\n",
        "    draw_caption(draw, b, caption)\n",
        "    \n",
        "plt.figure(figsize=(15, 15))\n",
        "plt.axis('off')\n",
        "plt.imshow(draw)\n",
        "plt.show()"
      ]
    },
    {
      "cell_type": "code",
      "execution_count": null,
      "metadata": {
        "id": "YIc1-TNVMsmp"
      },
      "outputs": [],
      "source": [
        ""
      ]
    },
    {
      "cell_type": "markdown",
      "metadata": {
        "id": "nSYjnIDM9cNk"
      },
      "source": [
        "# **Mnist**\n"
      ]
    },
    {
      "cell_type": "code",
      "execution_count": 9,
      "metadata": {
        "id": "d-V-j1qf9bsF"
      },
      "outputs": [],
      "source": [
        "import matplotlib.pyplot as plt\n",
        "import numpy as np\n",
        "import pandas as pd\n",
        "mnist = pd.read_csv(\"/content/sample_data/mnist_train_small.csv\")\n",
        "#mnist.head()#num*28*28 from 0 to 19998\n",
        "from random import randint\n",
        "import cv2"
      ]
    },
    {
      "cell_type": "code",
      "execution_count": 10,
      "metadata": {
        "id": "0v4ZDDmfY5rV"
      },
      "outputs": [],
      "source": [
        "def mnistimg (n):\n",
        "  from PIL import Image\n",
        "  a = mnist.iloc[n]\n",
        "  anum = a[0]\n",
        "  a = a.reset_index(drop=True).drop([0]).to_numpy(dtype=np.uint8)\n",
        "  a = a.reshape((28,28))\n",
        "  #print(a.shape)\n",
        "  #plt.imshow(np.stack((a,)*3, axis=-1))\n",
        "  s = randint(32,50)\n",
        "  image2 = Image.fromarray(a)\n",
        "  a = np.asarray(image2.resize((s,s)))\n",
        "  return (anum,s,a)\n",
        "\n",
        "def intersect(x,y,s,xp,yp,sp):\n",
        "  if xp>x+s : return False\n",
        "  if x>xp+sp : return False\n",
        "  if y>yp+sp : return False\n",
        "  if yp>y+s : return False\n",
        "  return True\n",
        "\n",
        "def getimg():\n",
        "  img = np.zeros((256,256), np.uint8)\n",
        "  amount = randint(5,12)\n",
        "  nums = []\n",
        "\n",
        "  for i in range(amount):\n",
        "    (num,s,a) = mnistimg(randint(0, 19998)) #!!!!!!!!! ssssss!!!!!!! Ниже не меняла что есть еще и размер\n",
        "    while 1: \n",
        "      x = randint(0, 256-s)\n",
        "      y = randint(0, 256-s)\n",
        "      if not all([ not intersect(x,y,s,xp,yp,sp) for nump,sp,xp,yp in nums]): continue\n",
        "      break\n",
        "      #изменение масштаба\n",
        "    img[x:x+s, y:y+s] = a\n",
        "    nums.append([num,s,x,y])\n",
        "  img = np.stack((img,)*3, axis=-1)\n",
        "  return(nums,img)"
      ]
    },
    {
      "cell_type": "code",
      "execution_count": 13,
      "metadata": {
        "colab": {
          "base_uri": "https://localhost:8080/",
          "height": 326
        },
        "id": "I18LFHuvZHkH",
        "outputId": "db56dca2-0639-476a-e513-f9d76fd8141c"
      },
      "outputs": [
        {
          "output_type": "stream",
          "name": "stdout",
          "text": [
            "[[7, 36, 170, 26], [4, 36, 178, 101], [0, 38, 103, 156], [2, 39, 21, 192], [9, 35, 65, 19], [9, 42, 160, 153], [6, 47, 52, 93], [5, 37, 211, 147], [7, 50, 11, 20], [8, 49, 207, 26]]\n"
          ]
        },
        {
          "output_type": "execute_result",
          "data": {
            "text/plain": [
              "<matplotlib.image.AxesImage at 0x7efd30e70d50>"
            ]
          },
          "metadata": {},
          "execution_count": 13
        },
        {
          "output_type": "display_data",
          "data": {
            "image/png": "[encoded data removed]",
            "text/plain": [
              "<Figure size 432x288 with 1 Axes>"
            ]
          },
          "metadata": {
            "needs_background": "light"
          }
        }
      ],
      "source": [
        "nums,img = getimg()\n",
        "print(nums)\n",
        "#print(np.max(img))\n",
        "plt.imshow(img)"
      ]
    },
    {
      "cell_type": "code",
      "source": [
        "draw = img.copy()\n",
        "for a in nums:\n",
        "    # scores are sorted so we can break\n",
        "    \n",
        "     box = [ a[3],a[2],a[3]+a[1],a[2]+a[1]]\n",
        "     print(a) \n",
        "     print(box)    \n",
        "     color = label_color(label)\n",
        "        \n",
        "     b = box#.astype(int)\n",
        "     draw_box(draw, b, color=color)\n",
        "     caption = \"{} {:.3f}\".format(labels_to_names[label], score)\n",
        "     print(caption)\n",
        "     draw_caption(draw, b, caption)\n",
        "      \n",
        "plt.figure(figsize=(15, 15))\n",
        "plt.axis('off')\n",
        "plt.imshow(draw)\n",
        "plt.show()"
      ],
      "metadata": {
        "id": "4NAzN7PCIkiN",
        "colab": {
          "base_uri": "https://localhost:8080/",
          "height": 1000
        },
        "outputId": "3344d0e4-68d1-4298-ccb6-219f582cd622"
      },
      "execution_count": 47,
      "outputs": [
        {
          "output_type": "stream",
          "name": "stdout",
          "text": [
            "[9, 32, 143, 8]\n",
            "[8, 143, 40, 175]\n",
            "skateboard 0.313\n",
            "[4, 38, 146, 130]\n",
            "[130, 146, 168, 184]\n",
            "skateboard 0.313\n",
            "[8, 44, 185, 132]\n",
            "[132, 185, 176, 229]\n",
            "skateboard 0.313\n",
            "[6, 49, 84, 66]\n",
            "[66, 84, 115, 133]\n",
            "skateboard 0.313\n",
            "[5, 41, 20, 180]\n",
            "[180, 20, 221, 61]\n",
            "skateboard 0.313\n"
          ]
        },
        {
          "output_type": "display_data",
          "data": {
            "image/png": "[encoded data removed]",
            "text/plain": [
              "<Figure size 1080x1080 with 1 Axes>"
            ]
          },
          "metadata": {
            "needs_background": "light"
          }
        }
      ]
    },
    {
      "cell_type": "code",
      "execution_count": 11,
      "metadata": {
        "id": "f96BzJAQbzDQ"
      },
      "outputs": [],
      "source": [
        "mapdf = pd.DataFrame([i for i in range(10)])\n",
        "mapdf.to_csv('classes.csv', header = False)"
      ]
    },
    {
      "cell_type": "code",
      "execution_count": 12,
      "metadata": {
        "colab": {
          "base_uri": "https://localhost:8080/",
          "height": 396
        },
        "id": "ni85-5rYZ-lg",
        "outputId": "a7f1aeec-5aea-428a-af96-4d05adc04e49"
      },
      "outputs": [
        {
          "output_type": "error",
          "ename": "KeyboardInterrupt",
          "evalue": "ignored",
          "traceback": [
            "\u001b[0;31m---------------------------------------------------------------------------\u001b[0m",
            "\u001b[0;31mKeyboardInterrupt\u001b[0m                         Traceback (most recent call last)",
            "\u001b[0;32m<ipython-input-12-4fdccef1f74f>\u001b[0m in \u001b[0;36m<module>\u001b[0;34m()\u001b[0m\n\u001b[1;32m      2\u001b[0m \u001b[0;34m\u001b[0m\u001b[0m\n\u001b[1;32m      3\u001b[0m \u001b[0;32mfor\u001b[0m \u001b[0mi\u001b[0m \u001b[0;32min\u001b[0m \u001b[0mrange\u001b[0m\u001b[0;34m(\u001b[0m\u001b[0;36m10000\u001b[0m\u001b[0;34m)\u001b[0m\u001b[0;34m:\u001b[0m\u001b[0;31m# num of imgs\u001b[0m\u001b[0;34m\u001b[0m\u001b[0;34m\u001b[0m\u001b[0m\n\u001b[0;32m----> 4\u001b[0;31m   \u001b[0mnums\u001b[0m\u001b[0;34m,\u001b[0m\u001b[0mimg\u001b[0m \u001b[0;34m=\u001b[0m \u001b[0mgetimg\u001b[0m\u001b[0;34m(\u001b[0m\u001b[0;34m)\u001b[0m\u001b[0;34m\u001b[0m\u001b[0;34m\u001b[0m\u001b[0m\n\u001b[0m\u001b[1;32m      5\u001b[0m   \u001b[0mpath\u001b[0m \u001b[0;34m=\u001b[0m \u001b[0;34m'images/img'\u001b[0m\u001b[0;34m+\u001b[0m\u001b[0mstr\u001b[0m\u001b[0;34m(\u001b[0m\u001b[0mi\u001b[0m\u001b[0;34m)\u001b[0m\u001b[0;34m+\u001b[0m\u001b[0;34m'.jpg'\u001b[0m\u001b[0;34m\u001b[0m\u001b[0;34m\u001b[0m\u001b[0m\n\u001b[1;32m      6\u001b[0m   \u001b[0mbul\u001b[0m \u001b[0;34m=\u001b[0m \u001b[0mcv2\u001b[0m\u001b[0;34m.\u001b[0m\u001b[0mimwrite\u001b[0m\u001b[0;34m(\u001b[0m\u001b[0mpath\u001b[0m\u001b[0;34m,\u001b[0m\u001b[0mimg\u001b[0m\u001b[0;34m)\u001b[0m\u001b[0;34m\u001b[0m\u001b[0;34m\u001b[0m\u001b[0m\n",
            "\u001b[0;32m<ipython-input-10-f7d255e53612>\u001b[0m in \u001b[0;36mgetimg\u001b[0;34m()\u001b[0m\n\u001b[1;32m     25\u001b[0m \u001b[0;34m\u001b[0m\u001b[0m\n\u001b[1;32m     26\u001b[0m   \u001b[0;32mfor\u001b[0m \u001b[0mi\u001b[0m \u001b[0;32min\u001b[0m \u001b[0mrange\u001b[0m\u001b[0;34m(\u001b[0m\u001b[0mamount\u001b[0m\u001b[0;34m)\u001b[0m\u001b[0;34m:\u001b[0m\u001b[0;34m\u001b[0m\u001b[0;34m\u001b[0m\u001b[0m\n\u001b[0;32m---> 27\u001b[0;31m     \u001b[0;34m(\u001b[0m\u001b[0mnum\u001b[0m\u001b[0;34m,\u001b[0m\u001b[0ms\u001b[0m\u001b[0;34m,\u001b[0m\u001b[0ma\u001b[0m\u001b[0;34m)\u001b[0m \u001b[0;34m=\u001b[0m \u001b[0mmnistimg\u001b[0m\u001b[0;34m(\u001b[0m\u001b[0mrandint\u001b[0m\u001b[0;34m(\u001b[0m\u001b[0;36m0\u001b[0m\u001b[0;34m,\u001b[0m \u001b[0;36m19998\u001b[0m\u001b[0;34m)\u001b[0m\u001b[0;34m)\u001b[0m \u001b[0;31m#!!!!!!!!! ssssss!!!!!!! Ниже не меняла что есть еще и размер\u001b[0m\u001b[0;34m\u001b[0m\u001b[0;34m\u001b[0m\u001b[0m\n\u001b[0m\u001b[1;32m     28\u001b[0m     \u001b[0;32mwhile\u001b[0m \u001b[0;36m1\u001b[0m\u001b[0;34m:\u001b[0m\u001b[0;34m\u001b[0m\u001b[0;34m\u001b[0m\u001b[0m\n\u001b[1;32m     29\u001b[0m       \u001b[0mx\u001b[0m \u001b[0;34m=\u001b[0m \u001b[0mrandint\u001b[0m\u001b[0;34m(\u001b[0m\u001b[0;36m0\u001b[0m\u001b[0;34m,\u001b[0m \u001b[0;36m256\u001b[0m\u001b[0;34m-\u001b[0m\u001b[0ms\u001b[0m\u001b[0;34m)\u001b[0m\u001b[0;34m\u001b[0m\u001b[0;34m\u001b[0m\u001b[0m\n",
            "\u001b[0;32m<ipython-input-10-f7d255e53612>\u001b[0m in \u001b[0;36mmnistimg\u001b[0;34m(n)\u001b[0m\n\u001b[1;32m      3\u001b[0m   \u001b[0ma\u001b[0m \u001b[0;34m=\u001b[0m \u001b[0mmnist\u001b[0m\u001b[0;34m.\u001b[0m\u001b[0miloc\u001b[0m\u001b[0;34m[\u001b[0m\u001b[0mn\u001b[0m\u001b[0;34m]\u001b[0m\u001b[0;34m\u001b[0m\u001b[0;34m\u001b[0m\u001b[0m\n\u001b[1;32m      4\u001b[0m   \u001b[0manum\u001b[0m \u001b[0;34m=\u001b[0m \u001b[0ma\u001b[0m\u001b[0;34m[\u001b[0m\u001b[0;36m0\u001b[0m\u001b[0;34m]\u001b[0m\u001b[0;34m\u001b[0m\u001b[0;34m\u001b[0m\u001b[0m\n\u001b[0;32m----> 5\u001b[0;31m   \u001b[0ma\u001b[0m \u001b[0;34m=\u001b[0m \u001b[0ma\u001b[0m\u001b[0;34m.\u001b[0m\u001b[0mreset_index\u001b[0m\u001b[0;34m(\u001b[0m\u001b[0mdrop\u001b[0m\u001b[0;34m=\u001b[0m\u001b[0;32mTrue\u001b[0m\u001b[0;34m)\u001b[0m\u001b[0;34m.\u001b[0m\u001b[0mdrop\u001b[0m\u001b[0;34m(\u001b[0m\u001b[0;34m[\u001b[0m\u001b[0;36m0\u001b[0m\u001b[0;34m]\u001b[0m\u001b[0;34m)\u001b[0m\u001b[0;34m.\u001b[0m\u001b[0mto_numpy\u001b[0m\u001b[0;34m(\u001b[0m\u001b[0mdtype\u001b[0m\u001b[0;34m=\u001b[0m\u001b[0mnp\u001b[0m\u001b[0;34m.\u001b[0m\u001b[0muint8\u001b[0m\u001b[0;34m)\u001b[0m\u001b[0;34m\u001b[0m\u001b[0;34m\u001b[0m\u001b[0m\n\u001b[0m\u001b[1;32m      6\u001b[0m   \u001b[0ma\u001b[0m \u001b[0;34m=\u001b[0m \u001b[0ma\u001b[0m\u001b[0;34m.\u001b[0m\u001b[0mreshape\u001b[0m\u001b[0;34m(\u001b[0m\u001b[0;34m(\u001b[0m\u001b[0;36m28\u001b[0m\u001b[0;34m,\u001b[0m\u001b[0;36m28\u001b[0m\u001b[0;34m)\u001b[0m\u001b[0;34m)\u001b[0m\u001b[0;34m\u001b[0m\u001b[0;34m\u001b[0m\u001b[0m\n\u001b[1;32m      7\u001b[0m   \u001b[0;31m#print(a.shape)\u001b[0m\u001b[0;34m\u001b[0m\u001b[0;34m\u001b[0m\u001b[0;34m\u001b[0m\u001b[0m\n",
            "\u001b[0;32m/usr/local/lib/python3.7/dist-packages/pandas/util/_decorators.py\u001b[0m in \u001b[0;36mwrapper\u001b[0;34m(*args, **kwargs)\u001b[0m\n\u001b[1;32m    309\u001b[0m                     \u001b[0mstacklevel\u001b[0m\u001b[0;34m=\u001b[0m\u001b[0mstacklevel\u001b[0m\u001b[0;34m,\u001b[0m\u001b[0;34m\u001b[0m\u001b[0;34m\u001b[0m\u001b[0m\n\u001b[1;32m    310\u001b[0m                 )\n\u001b[0;32m--> 311\u001b[0;31m             \u001b[0;32mreturn\u001b[0m \u001b[0mfunc\u001b[0m\u001b[0;34m(\u001b[0m\u001b[0;34m*\u001b[0m\u001b[0margs\u001b[0m\u001b[0;34m,\u001b[0m \u001b[0;34m**\u001b[0m\u001b[0mkwargs\u001b[0m\u001b[0;34m)\u001b[0m\u001b[0;34m\u001b[0m\u001b[0;34m\u001b[0m\u001b[0m\n\u001b[0m\u001b[1;32m    312\u001b[0m \u001b[0;34m\u001b[0m\u001b[0m\n\u001b[1;32m    313\u001b[0m         \u001b[0;32mreturn\u001b[0m \u001b[0mwrapper\u001b[0m\u001b[0;34m\u001b[0m\u001b[0;34m\u001b[0m\u001b[0m\n",
            "\u001b[0;32m/usr/local/lib/python3.7/dist-packages/pandas/core/series.py\u001b[0m in \u001b[0;36mreset_index\u001b[0;34m(self, level, drop, name, inplace)\u001b[0m\n\u001b[1;32m   1432\u001b[0m             \u001b[0;32melse\u001b[0m\u001b[0;34m:\u001b[0m\u001b[0;34m\u001b[0m\u001b[0;34m\u001b[0m\u001b[0m\n\u001b[1;32m   1433\u001b[0m                 return self._constructor(\n\u001b[0;32m-> 1434\u001b[0;31m                     \u001b[0mself\u001b[0m\u001b[0;34m.\u001b[0m\u001b[0m_values\u001b[0m\u001b[0;34m.\u001b[0m\u001b[0mcopy\u001b[0m\u001b[0;34m(\u001b[0m\u001b[0;34m)\u001b[0m\u001b[0;34m,\u001b[0m \u001b[0mindex\u001b[0m\u001b[0;34m=\u001b[0m\u001b[0mnew_index\u001b[0m\u001b[0;34m\u001b[0m\u001b[0;34m\u001b[0m\u001b[0m\n\u001b[0m\u001b[1;32m   1435\u001b[0m                 ).__finalize__(self, method=\"reset_index\")\n\u001b[1;32m   1436\u001b[0m         \u001b[0;32melif\u001b[0m \u001b[0minplace\u001b[0m\u001b[0;34m:\u001b[0m\u001b[0;34m\u001b[0m\u001b[0;34m\u001b[0m\u001b[0m\n",
            "\u001b[0;31mKeyboardInterrupt\u001b[0m: "
          ]
        }
      ],
      "source": [
        "imgdf = pd.DataFrame(columns = ['path/to/image.jpg','y1','x1','y2','x2','class_name'])\n",
        "\n",
        "for i in range(10000):# num of imgs\n",
        "  nums,img = getimg()\n",
        "  path = 'images/img'+str(i)+'.jpg'\n",
        "  bul = cv2.imwrite(path,img)\n",
        "  if not bul: print('ERROR')\n",
        "  path1 =[]\n",
        "  x1= []\n",
        "  y1= []\n",
        "  x2= []\n",
        "  y2= []\n",
        "  class_name = []\n",
        "  for [num,s,x,y] in nums:\n",
        "    path1.append(path)\n",
        "    x1.append(x)\n",
        "    y1.append(y)\n",
        "    x2.append(x+s)\n",
        "    y2.append(y+s)\n",
        "    class_name.append(num)\n",
        "  idf = pd.DataFrame({'path/to/image.jpg': path1,\n",
        "                                      'y1' : y1,\n",
        "                                      'x1' : x1,\n",
        "                                      'y2' : y2,\n",
        "                                      'x2' : x2,\n",
        "                              'class_name' : class_name})\n",
        "  imgdf = imgdf.append(idf)\n",
        "print(imgdf)\n",
        "plt.imshow(cv2.imread('images/img0.jpg'))\n",
        "imgdf.to_csv('img.csv', header = False, index = False)"
      ]
    },
    {
      "cell_type": "markdown",
      "metadata": {
        "id": "6LKOUiVeM7ch"
      },
      "source": [
        "# **train**"
      ]
    },
    {
      "cell_type": "code",
      "source": [
        "!cd snapshots && curl -L -O https://github.com/fizyr/keras-retinanet/releases/download/0.5.1/resnet50_coco_best_v2.1.0.h5\n"
      ],
      "metadata": {
        "id": "4HycElSix5mn",
        "colab": {
          "base_uri": "https://localhost:8080/"
        },
        "outputId": "befee3d7-6a56-4503-d33e-5562452e6906"
      },
      "execution_count": 12,
      "outputs": [
        {
          "output_type": "stream",
          "name": "stdout",
          "text": [
            "  % Total    % Received % Xferd  Average Speed   Time    Time     Time  Current\n",
            "                                 Dload  Upload   Total   Spent    Left  Speed\n",
            "100   667  100   667    0     0   1863      0 --:--:-- --:--:-- --:--:--  1863\n",
            "100  145M  100  145M    0     0  13.5M      0  0:00:10  0:00:10 --:--:-- 16.3M\n"
          ]
        }
      ]
    },
    {
      "cell_type": "code",
      "source": [
        "\n",
        "# adjust this to point to your downloaded/trained model\n",
        "# models can be downloaded here: https://github.com/fizyr/keras-retinanet/releases\n",
        "model0_path = './snapshots/resnet50_coco_best_v2.1.0.h5'\n",
        "\n",
        "# if the model is not converted to an inference model, use the line below\n",
        "# see: https://github.com/fizyr/keras-retinanet#converting-a-training-model-to-inference-model\n",
        "#model = models.convert_model(model)\n",
        "#scales = '/content/drive/MyDrive/models/scales' '--config {scales}'\n"
      ],
      "metadata": {
        "id": "PwGoPRoxzJWH"
      },
      "execution_count": 13,
      "outputs": []
    },
    {
      "cell_type": "code",
      "source": [
        "'''keras_retinanet.models.backbone('resnet50').retinanet(num_classes=80)\n",
        "\n",
        "model.compile(\n",
        "    loss={\n",
        "        'regression'    : keras_retinanet.losses.smooth_l1(),\n",
        "        'classification': keras_retinanet.losses.focal()\n",
        "    },\n",
        "    optimizer=keras.optimizers.Adam(lr=1e-5, clipnorm=0.001)\n",
        ")'''\n",
        "\n"
      ],
      "metadata": {
        "id": "JuZX9nqWqF9M"
      },
      "execution_count": null,
      "outputs": []
    },
    {
      "cell_type": "code",
      "execution_count": null,
      "metadata": {
        "id": "Lqgkk4olP144",
        "colab": {
          "base_uri": "https://localhost:8080/"
        },
        "outputId": "271d6f5a-6695-4879-db87-ef1a0f56947b"
      },
      "outputs": [
        {
          "output_type": "stream",
          "name": "stdout",
          "text": [
            "Creating model, this may take a second...\n",
            "2022-02-22 13:20:23.375562: W tensorflow/core/common_runtime/gpu/gpu_bfc_allocator.cc:39] Overriding allow_growth setting because the TF_FORCE_GPU_ALLOW_GROWTH environment variable is set. Original config value was 0.\n",
            "WARNING:tensorflow:Skipping loading weights for layer #212 (named classification_submodel) due to mismatch in shape for weight pyramid_classification/kernel:0. Weight expects shape (3, 3, 256, 90). Received saved weight with shape (720, 256, 3, 3)\n",
            "WARNING:tensorflow:Skipping loading weights for layer #212 (named classification_submodel) due to mismatch in shape for weight pyramid_classification/bias:0. Weight expects shape (90,). Received saved weight with shape (720,)\n",
            "/usr/local/lib/python3.7/dist-packages/keras/optimizer_v2/adam.py:105: UserWarning: The `lr` argument is deprecated, use `learning_rate` instead.\n",
            "  super(Adam, self).__init__(name, **kwargs)\n",
            "Model: \"retinanet\"\n",
            "__________________________________________________________________________________________________\n",
            " Layer (type)                   Output Shape         Param #     Connected to                     \n",
            "==================================================================================================\n",
            " input_1 (InputLayer)           [(None, None, None,  0           []                               \n",
            "                                 3)]                                                              \n",
            "                                                                                                  \n",
            " conv1 (Conv2D)                 (None, None, None,   9408        ['input_1[0][0]']                \n",
            "                                64)                                                               \n",
            "                                                                                                  \n",
            " bn_conv1 (BatchNormalization)  (None, None, None,   256         ['conv1[0][0]']                  \n",
            "                                64)                                                               \n",
            "                                                                                                  \n",
            " conv1_relu (Activation)        (None, None, None,   0           ['bn_conv1[0][0]']               \n",
            "                                64)                                                               \n",
            "                                                                                                  \n",
            " pool1 (MaxPooling2D)           (None, None, None,   0           ['conv1_relu[0][0]']             \n",
            "                                64)                                                               \n",
            "                                                                                                  \n",
            " res2a_branch2a (Conv2D)        (None, None, None,   4096        ['pool1[0][0]']                  \n",
            "                                64)                                                               \n",
            "                                                                                                  \n",
            " bn2a_branch2a (BatchNormalizat  (None, None, None,   256        ['res2a_branch2a[0][0]']         \n",
            " ion)                           64)                                                               \n",
            "                                                                                                  \n",
            " res2a_branch2a_relu (Activatio  (None, None, None,   0          ['bn2a_branch2a[0][0]']          \n",
            " n)                             64)                                                               \n",
            "                                                                                                  \n",
            " padding2a_branch2b (ZeroPaddin  (None, None, None,   0          ['res2a_branch2a_relu[0][0]']    \n",
            " g2D)                           64)                                                               \n",
            "                                                                                                  \n",
            " res2a_branch2b (Conv2D)        (None, None, None,   36864       ['padding2a_branch2b[0][0]']     \n",
            "                                64)                                                               \n",
            "                                                                                                  \n",
            " bn2a_branch2b (BatchNormalizat  (None, None, None,   256        ['res2a_branch2b[0][0]']         \n",
            " ion)                           64)                                                               \n",
            "                                                                                                  \n",
            " res2a_branch2b_relu (Activatio  (None, None, None,   0          ['bn2a_branch2b[0][0]']          \n",
            " n)                             64)                                                               \n",
            "                                                                                                  \n",
            " res2a_branch2c (Conv2D)        (None, None, None,   16384       ['res2a_branch2b_relu[0][0]']    \n",
            "                                256)                                                              \n",
            "                                                                                                  \n",
            " res2a_branch1 (Conv2D)         (None, None, None,   16384       ['pool1[0][0]']                  \n",
            "                                256)                                                              \n",
            "                                                                                                  \n",
            " bn2a_branch2c (BatchNormalizat  (None, None, None,   1024       ['res2a_branch2c[0][0]']         \n",
            " ion)                           256)                                                              \n",
            "                                                                                                  \n",
            " bn2a_branch1 (BatchNormalizati  (None, None, None,   1024       ['res2a_branch1[0][0]']          \n",
            " on)                            256)                                                              \n",
            "                                                                                                  \n",
            " res2a (Add)                    (None, None, None,   0           ['bn2a_branch2c[0][0]',          \n",
            "                                256)                              'bn2a_branch1[0][0]']           \n",
            "                                                                                                  \n",
            " res2a_relu (Activation)        (None, None, None,   0           ['res2a[0][0]']                  \n",
            "                                256)                                                              \n",
            "                                                                                                  \n",
            " res2b_branch2a (Conv2D)        (None, None, None,   16384       ['res2a_relu[0][0]']             \n",
            "                                64)                                                               \n",
            "                                                                                                  \n",
            " bn2b_branch2a (BatchNormalizat  (None, None, None,   256        ['res2b_branch2a[0][0]']         \n",
            " ion)                           64)                                                               \n",
            "                                                                                                  \n",
            " res2b_branch2a_relu (Activatio  (None, None, None,   0          ['bn2b_branch2a[0][0]']          \n",
            " n)                             64)                                                               \n",
            "                                                                                                  \n",
            " padding2b_branch2b (ZeroPaddin  (None, None, None,   0          ['res2b_branch2a_relu[0][0]']    \n",
            " g2D)                           64)                                                               \n",
            "                                                                                                  \n",
            " res2b_branch2b (Conv2D)        (None, None, None,   36864       ['padding2b_branch2b[0][0]']     \n",
            "                                64)                                                               \n",
            "                                                                                                  \n",
            " bn2b_branch2b (BatchNormalizat  (None, None, None,   256        ['res2b_branch2b[0][0]']         \n",
            " ion)                           64)                                                               \n",
            "                                                                                                  \n",
            " res2b_branch2b_relu (Activatio  (None, None, None,   0          ['bn2b_branch2b[0][0]']          \n",
            " n)                             64)                                                               \n",
            "                                                                                                  \n",
            " res2b_branch2c (Conv2D)        (None, None, None,   16384       ['res2b_branch2b_relu[0][0]']    \n",
            "                                256)                                                              \n",
            "                                                                                                  \n",
            " bn2b_branch2c (BatchNormalizat  (None, None, None,   1024       ['res2b_branch2c[0][0]']         \n",
            " ion)                           256)                                                              \n",
            "                                                                                                  \n",
            " res2b (Add)                    (None, None, None,   0           ['bn2b_branch2c[0][0]',          \n",
            "                                256)                              'res2a_relu[0][0]']             \n",
            "                                                                                                  \n",
            " res2b_relu (Activation)        (None, None, None,   0           ['res2b[0][0]']                  \n",
            "                                256)                                                              \n",
            "                                                                                                  \n",
            " res2c_branch2a (Conv2D)        (None, None, None,   16384       ['res2b_relu[0][0]']             \n",
            "                                64)                                                               \n",
            "                                                                                                  \n",
            " bn2c_branch2a (BatchNormalizat  (None, None, None,   256        ['res2c_branch2a[0][0]']         \n",
            " ion)                           64)                                                               \n",
            "                                                                                                  \n",
            " res2c_branch2a_relu (Activatio  (None, None, None,   0          ['bn2c_branch2a[0][0]']          \n",
            " n)                             64)                                                               \n",
            "                                                                                                  \n",
            " padding2c_branch2b (ZeroPaddin  (None, None, None,   0          ['res2c_branch2a_relu[0][0]']    \n",
            " g2D)                           64)                                                               \n",
            "                                                                                                  \n",
            " res2c_branch2b (Conv2D)        (None, None, None,   36864       ['padding2c_branch2b[0][0]']     \n",
            "                                64)                                                               \n",
            "                                                                                                  \n",
            " bn2c_branch2b (BatchNormalizat  (None, None, None,   256        ['res2c_branch2b[0][0]']         \n",
            " ion)                           64)                                                               \n",
            "                                                                                                  \n",
            " res2c_branch2b_relu (Activatio  (None, None, None,   0          ['bn2c_branch2b[0][0]']          \n",
            " n)                             64)                                                               \n",
            "                                                                                                  \n",
            " res2c_branch2c (Conv2D)        (None, None, None,   16384       ['res2c_branch2b_relu[0][0]']    \n",
            "                                256)                                                              \n",
            "                                                                                                  \n",
            " bn2c_branch2c (BatchNormalizat  (None, None, None,   1024       ['res2c_branch2c[0][0]']         \n",
            " ion)                           256)                                                              \n",
            "                                                                                                  \n",
            " res2c (Add)                    (None, None, None,   0           ['bn2c_branch2c[0][0]',          \n",
            "                                256)                              'res2b_relu[0][0]']             \n",
            "                                                                                                  \n",
            " res2c_relu (Activation)        (None, None, None,   0           ['res2c[0][0]']                  \n",
            "                                256)                                                              \n",
            "                                                                                                  \n",
            " res3a_branch2a (Conv2D)        (None, None, None,   32768       ['res2c_relu[0][0]']             \n",
            "                                128)                                                              \n",
            "                                                                                                  \n",
            " bn3a_branch2a (BatchNormalizat  (None, None, None,   512        ['res3a_branch2a[0][0]']         \n",
            " ion)                           128)                                                              \n",
            "                                                                                                  \n",
            " res3a_branch2a_relu (Activatio  (None, None, None,   0          ['bn3a_branch2a[0][0]']          \n",
            " n)                             128)                                                              \n",
            "                                                                                                  \n",
            " padding3a_branch2b (ZeroPaddin  (None, None, None,   0          ['res3a_branch2a_relu[0][0]']    \n",
            " g2D)                           128)                                                              \n",
            "                                                                                                  \n",
            " res3a_branch2b (Conv2D)        (None, None, None,   147456      ['padding3a_branch2b[0][0]']     \n",
            "                                128)                                                              \n",
            "                                                                                                  \n",
            " bn3a_branch2b (BatchNormalizat  (None, None, None,   512        ['res3a_branch2b[0][0]']         \n",
            " ion)                           128)                                                              \n",
            "                                                                                                  \n",
            " res3a_branch2b_relu (Activatio  (None, None, None,   0          ['bn3a_branch2b[0][0]']          \n",
            " n)                             128)                                                              \n",
            "                                                                                                  \n",
            " res3a_branch2c (Conv2D)        (None, None, None,   65536       ['res3a_branch2b_relu[0][0]']    \n",
            "                                512)                                                              \n",
            "                                                                                                  \n",
            " res3a_branch1 (Conv2D)         (None, None, None,   131072      ['res2c_relu[0][0]']             \n",
            "                                512)                                                              \n",
            "                                                                                                  \n",
            " bn3a_branch2c (BatchNormalizat  (None, None, None,   2048       ['res3a_branch2c[0][0]']         \n",
            " ion)                           512)                                                              \n",
            "                                                                                                  \n",
            " bn3a_branch1 (BatchNormalizati  (None, None, None,   2048       ['res3a_branch1[0][0]']          \n",
            " on)                            512)                                                              \n",
            "                                                                                                  \n",
            " res3a (Add)                    (None, None, None,   0           ['bn3a_branch2c[0][0]',          \n",
            "                                512)                              'bn3a_branch1[0][0]']           \n",
            "                                                                                                  \n",
            " res3a_relu (Activation)        (None, None, None,   0           ['res3a[0][0]']                  \n",
            "                                512)                                                              \n",
            "                                                                                                  \n",
            " res3b_branch2a (Conv2D)        (None, None, None,   65536       ['res3a_relu[0][0]']             \n",
            "                                128)                                                              \n",
            "                                                                                                  \n",
            " bn3b_branch2a (BatchNormalizat  (None, None, None,   512        ['res3b_branch2a[0][0]']         \n",
            " ion)                           128)                                                              \n",
            "                                                                                                  \n",
            " res3b_branch2a_relu (Activatio  (None, None, None,   0          ['bn3b_branch2a[0][0]']          \n",
            " n)                             128)                                                              \n",
            "                                                                                                  \n",
            " padding3b_branch2b (ZeroPaddin  (None, None, None,   0          ['res3b_branch2a_relu[0][0]']    \n",
            " g2D)                           128)                                                              \n",
            "                                                                                                  \n",
            " res3b_branch2b (Conv2D)        (None, None, None,   147456      ['padding3b_branch2b[0][0]']     \n",
            "                                128)                                                              \n",
            "                                                                                                  \n",
            " bn3b_branch2b (BatchNormalizat  (None, None, None,   512        ['res3b_branch2b[0][0]']         \n",
            " ion)                           128)                                                              \n",
            "                                                                                                  \n",
            " res3b_branch2b_relu (Activatio  (None, None, None,   0          ['bn3b_branch2b[0][0]']          \n",
            " n)                             128)                                                              \n",
            "                                                                                                  \n",
            " res3b_branch2c (Conv2D)        (None, None, None,   65536       ['res3b_branch2b_relu[0][0]']    \n",
            "                                512)                                                              \n",
            "                                                                                                  \n",
            " bn3b_branch2c (BatchNormalizat  (None, None, None,   2048       ['res3b_branch2c[0][0]']         \n",
            " ion)                           512)                                                              \n",
            "                                                                                                  \n",
            " res3b (Add)                    (None, None, None,   0           ['bn3b_branch2c[0][0]',          \n",
            "                                512)                              'res3a_relu[0][0]']             \n",
            "                                                                                                  \n",
            " res3b_relu (Activation)        (None, None, None,   0           ['res3b[0][0]']                  \n",
            "                                512)                                                              \n",
            "                                                                                                  \n",
            " res3c_branch2a (Conv2D)        (None, None, None,   65536       ['res3b_relu[0][0]']             \n",
            "                                128)                                                              \n",
            "                                                                                                  \n",
            " bn3c_branch2a (BatchNormalizat  (None, None, None,   512        ['res3c_branch2a[0][0]']         \n",
            " ion)                           128)                                                              \n",
            "                                                                                                  \n",
            " res3c_branch2a_relu (Activatio  (None, None, None,   0          ['bn3c_branch2a[0][0]']          \n",
            " n)                             128)                                                              \n",
            "                                                                                                  \n",
            " padding3c_branch2b (ZeroPaddin  (None, None, None,   0          ['res3c_branch2a_relu[0][0]']    \n",
            " g2D)                           128)                                                              \n",
            "                                                                                                  \n",
            " res3c_branch2b (Conv2D)        (None, None, None,   147456      ['padding3c_branch2b[0][0]']     \n",
            "                                128)                                                              \n",
            "                                                                                                  \n",
            " bn3c_branch2b (BatchNormalizat  (None, None, None,   512        ['res3c_branch2b[0][0]']         \n",
            " ion)                           128)                                                              \n",
            "                                                                                                  \n",
            " res3c_branch2b_relu (Activatio  (None, None, None,   0          ['bn3c_branch2b[0][0]']          \n",
            " n)                             128)                                                              \n",
            "                                                                                                  \n",
            " res3c_branch2c (Conv2D)        (None, None, None,   65536       ['res3c_branch2b_relu[0][0]']    \n",
            "                                512)                                                              \n",
            "                                                                                                  \n",
            " bn3c_branch2c (BatchNormalizat  (None, None, None,   2048       ['res3c_branch2c[0][0]']         \n",
            " ion)                           512)                                                              \n",
            "                                                                                                  \n",
            " res3c (Add)                    (None, None, None,   0           ['bn3c_branch2c[0][0]',          \n",
            "                                512)                              'res3b_relu[0][0]']             \n",
            "                                                                                                  \n",
            " res3c_relu (Activation)        (None, None, None,   0           ['res3c[0][0]']                  \n",
            "                                512)                                                              \n",
            "                                                                                                  \n",
            " res3d_branch2a (Conv2D)        (None, None, None,   65536       ['res3c_relu[0][0]']             \n",
            "                                128)                                                              \n",
            "                                                                                                  \n",
            " bn3d_branch2a (BatchNormalizat  (None, None, None,   512        ['res3d_branch2a[0][0]']         \n",
            " ion)                           128)                                                              \n",
            "                                                                                                  \n",
            " res3d_branch2a_relu (Activatio  (None, None, None,   0          ['bn3d_branch2a[0][0]']          \n",
            " n)                             128)                                                              \n",
            "                                                                                                  \n",
            " padding3d_branch2b (ZeroPaddin  (None, None, None,   0          ['res3d_branch2a_relu[0][0]']    \n",
            " g2D)                           128)                                                              \n",
            "                                                                                                  \n",
            " res3d_branch2b (Conv2D)        (None, None, None,   147456      ['padding3d_branch2b[0][0]']     \n",
            "                                128)                                                              \n",
            "                                                                                                  \n",
            " bn3d_branch2b (BatchNormalizat  (None, None, None,   512        ['res3d_branch2b[0][0]']         \n",
            " ion)                           128)                                                              \n",
            "                                                                                                  \n",
            " res3d_branch2b_relu (Activatio  (None, None, None,   0          ['bn3d_branch2b[0][0]']          \n",
            " n)                             128)                                                              \n",
            "                                                                                                  \n",
            " res3d_branch2c (Conv2D)        (None, None, None,   65536       ['res3d_branch2b_relu[0][0]']    \n",
            "                                512)                                                              \n",
            "                                                                                                  \n",
            " bn3d_branch2c (BatchNormalizat  (None, None, None,   2048       ['res3d_branch2c[0][0]']         \n",
            " ion)                           512)                                                              \n",
            "                                                                                                  \n",
            " res3d (Add)                    (None, None, None,   0           ['bn3d_branch2c[0][0]',          \n",
            "                                512)                              'res3c_relu[0][0]']             \n",
            "                                                                                                  \n",
            " res3d_relu (Activation)        (None, None, None,   0           ['res3d[0][0]']                  \n",
            "                                512)                                                              \n",
            "                                                                                                  \n",
            " res4a_branch2a (Conv2D)        (None, None, None,   131072      ['res3d_relu[0][0]']             \n",
            "                                256)                                                              \n",
            "                                                                                                  \n",
            " bn4a_branch2a (BatchNormalizat  (None, None, None,   1024       ['res4a_branch2a[0][0]']         \n",
            " ion)                           256)                                                              \n",
            "                                                                                                  \n",
            " res4a_branch2a_relu (Activatio  (None, None, None,   0          ['bn4a_branch2a[0][0]']          \n",
            " n)                             256)                                                              \n",
            "                                                                                                  \n",
            " padding4a_branch2b (ZeroPaddin  (None, None, None,   0          ['res4a_branch2a_relu[0][0]']    \n",
            " g2D)                           256)                                                              \n",
            "                                                                                                  \n",
            " res4a_branch2b (Conv2D)        (None, None, None,   589824      ['padding4a_branch2b[0][0]']     \n",
            "                                256)                                                              \n",
            "                                                                                                  \n",
            " bn4a_branch2b (BatchNormalizat  (None, None, None,   1024       ['res4a_branch2b[0][0]']         \n",
            " ion)                           256)                                                              \n",
            "                                                                                                  \n",
            " res4a_branch2b_relu (Activatio  (None, None, None,   0          ['bn4a_branch2b[0][0]']          \n",
            " n)                             256)                                                              \n",
            "                                                                                                  \n",
            " res4a_branch2c (Conv2D)        (None, None, None,   262144      ['res4a_branch2b_relu[0][0]']    \n",
            "                                1024)                                                             \n",
            "                                                                                                  \n",
            " res4a_branch1 (Conv2D)         (None, None, None,   524288      ['res3d_relu[0][0]']             \n",
            "                                1024)                                                             \n",
            "                                                                                                  \n",
            " bn4a_branch2c (BatchNormalizat  (None, None, None,   4096       ['res4a_branch2c[0][0]']         \n",
            " ion)                           1024)                                                             \n",
            "                                                                                                  \n",
            " bn4a_branch1 (BatchNormalizati  (None, None, None,   4096       ['res4a_branch1[0][0]']          \n",
            " on)                            1024)                                                             \n",
            "                                                                                                  \n",
            " res4a (Add)                    (None, None, None,   0           ['bn4a_branch2c[0][0]',          \n",
            "                                1024)                             'bn4a_branch1[0][0]']           \n",
            "                                                                                                  \n",
            " res4a_relu (Activation)        (None, None, None,   0           ['res4a[0][0]']                  \n",
            "                                1024)                                                             \n",
            "                                                                                                  \n",
            " res4b_branch2a (Conv2D)        (None, None, None,   262144      ['res4a_relu[0][0]']             \n",
            "                                256)                                                              \n",
            "                                                                                                  \n",
            " bn4b_branch2a (BatchNormalizat  (None, None, None,   1024       ['res4b_branch2a[0][0]']         \n",
            " ion)                           256)                                                              \n",
            "                                                                                                  \n",
            " res4b_branch2a_relu (Activatio  (None, None, None,   0          ['bn4b_branch2a[0][0]']          \n",
            " n)                             256)                                                              \n",
            "                                                                                                  \n",
            " padding4b_branch2b (ZeroPaddin  (None, None, None,   0          ['res4b_branch2a_relu[0][0]']    \n",
            " g2D)                           256)                                                              \n",
            "                                                                                                  \n",
            " res4b_branch2b (Conv2D)        (None, None, None,   589824      ['padding4b_branch2b[0][0]']     \n",
            "                                256)                                                              \n",
            "                                                                                                  \n",
            " bn4b_branch2b (BatchNormalizat  (None, None, None,   1024       ['res4b_branch2b[0][0]']         \n",
            " ion)                           256)                                                              \n",
            "                                                                                                  \n",
            " res4b_branch2b_relu (Activatio  (None, None, None,   0          ['bn4b_branch2b[0][0]']          \n",
            " n)                             256)                                                              \n",
            "                                                                                                  \n",
            " res4b_branch2c (Conv2D)        (None, None, None,   262144      ['res4b_branch2b_relu[0][0]']    \n",
            "                                1024)                                                             \n",
            "                                                                                                  \n",
            " bn4b_branch2c (BatchNormalizat  (None, None, None,   4096       ['res4b_branch2c[0][0]']         \n",
            " ion)                           1024)                                                             \n",
            "                                                                                                  \n",
            " res4b (Add)                    (None, None, None,   0           ['bn4b_branch2c[0][0]',          \n",
            "                                1024)                             'res4a_relu[0][0]']             \n",
            "                                                                                                  \n",
            " res4b_relu (Activation)        (None, None, None,   0           ['res4b[0][0]']                  \n",
            "                                1024)                                                             \n",
            "                                                                                                  \n",
            " res4c_branch2a (Conv2D)        (None, None, None,   262144      ['res4b_relu[0][0]']             \n",
            "                                256)                                                              \n",
            "                                                                                                  \n",
            " bn4c_branch2a (BatchNormalizat  (None, None, None,   1024       ['res4c_branch2a[0][0]']         \n",
            " ion)                           256)                                                              \n",
            "                                                                                                  \n",
            " res4c_branch2a_relu (Activatio  (None, None, None,   0          ['bn4c_branch2a[0][0]']          \n",
            " n)                             256)                                                              \n",
            "                                                                                                  \n",
            " padding4c_branch2b (ZeroPaddin  (None, None, None,   0          ['res4c_branch2a_relu[0][0]']    \n",
            " g2D)                           256)                                                              \n",
            "                                                                                                  \n",
            " res4c_branch2b (Conv2D)        (None, None, None,   589824      ['padding4c_branch2b[0][0]']     \n",
            "                                256)                                                              \n",
            "                                                                                                  \n",
            " bn4c_branch2b (BatchNormalizat  (None, None, None,   1024       ['res4c_branch2b[0][0]']         \n",
            " ion)                           256)                                                              \n",
            "                                                                                                  \n",
            " res4c_branch2b_relu (Activatio  (None, None, None,   0          ['bn4c_branch2b[0][0]']          \n",
            " n)                             256)                                                              \n",
            "                                                                                                  \n",
            " res4c_branch2c (Conv2D)        (None, None, None,   262144      ['res4c_branch2b_relu[0][0]']    \n",
            "                                1024)                                                             \n",
            "                                                                                                  \n",
            " bn4c_branch2c (BatchNormalizat  (None, None, None,   4096       ['res4c_branch2c[0][0]']         \n",
            " ion)                           1024)                                                             \n",
            "                                                                                                  \n",
            " res4c (Add)                    (None, None, None,   0           ['bn4c_branch2c[0][0]',          \n",
            "                                1024)                             'res4b_relu[0][0]']             \n",
            "                                                                                                  \n",
            " res4c_relu (Activation)        (None, None, None,   0           ['res4c[0][0]']                  \n",
            "                                1024)                                                             \n",
            "                                                                                                  \n",
            " res4d_branch2a (Conv2D)        (None, None, None,   262144      ['res4c_relu[0][0]']             \n",
            "                                256)                                                              \n",
            "                                                                                                  \n",
            " bn4d_branch2a (BatchNormalizat  (None, None, None,   1024       ['res4d_branch2a[0][0]']         \n",
            " ion)                           256)                                                              \n",
            "                                                                                                  \n",
            " res4d_branch2a_relu (Activatio  (None, None, None,   0          ['bn4d_branch2a[0][0]']          \n",
            " n)                             256)                                                              \n",
            "                                                                                                  \n",
            " padding4d_branch2b (ZeroPaddin  (None, None, None,   0          ['res4d_branch2a_relu[0][0]']    \n",
            " g2D)                           256)                                                              \n",
            "                                                                                                  \n",
            " res4d_branch2b (Conv2D)        (None, None, None,   589824      ['padding4d_branch2b[0][0]']     \n",
            "                                256)                                                              \n",
            "                                                                                                  \n",
            " bn4d_branch2b (BatchNormalizat  (None, None, None,   1024       ['res4d_branch2b[0][0]']         \n",
            " ion)                           256)                                                              \n",
            "                                                                                                  \n",
            " res4d_branch2b_relu (Activatio  (None, None, None,   0          ['bn4d_branch2b[0][0]']          \n",
            " n)                             256)                                                              \n",
            "                                                                                                  \n",
            " res4d_branch2c (Conv2D)        (None, None, None,   262144      ['res4d_branch2b_relu[0][0]']    \n",
            "                                1024)                                                             \n",
            "                                                                                                  \n",
            " bn4d_branch2c (BatchNormalizat  (None, None, None,   4096       ['res4d_branch2c[0][0]']         \n",
            " ion)                           1024)                                                             \n",
            "                                                                                                  \n",
            " res4d (Add)                    (None, None, None,   0           ['bn4d_branch2c[0][0]',          \n",
            "                                1024)                             'res4c_relu[0][0]']             \n",
            "                                                                                                  \n",
            " res4d_relu (Activation)        (None, None, None,   0           ['res4d[0][0]']                  \n",
            "                                1024)                                                             \n",
            "                                                                                                  \n",
            " res4e_branch2a (Conv2D)        (None, None, None,   262144      ['res4d_relu[0][0]']             \n",
            "                                256)                                                              \n",
            "                                                                                                  \n",
            " bn4e_branch2a (BatchNormalizat  (None, None, None,   1024       ['res4e_branch2a[0][0]']         \n",
            " ion)                           256)                                                              \n",
            "                                                                                                  \n",
            " res4e_branch2a_relu (Activatio  (None, None, None,   0          ['bn4e_branch2a[0][0]']          \n",
            " n)                             256)                                                              \n",
            "                                                                                                  \n",
            " padding4e_branch2b (ZeroPaddin  (None, None, None,   0          ['res4e_branch2a_relu[0][0]']    \n",
            " g2D)                           256)                                                              \n",
            "                                                                                                  \n",
            " res4e_branch2b (Conv2D)        (None, None, None,   589824      ['padding4e_branch2b[0][0]']     \n",
            "                                256)                                                              \n",
            "                                                                                                  \n",
            " bn4e_branch2b (BatchNormalizat  (None, None, None,   1024       ['res4e_branch2b[0][0]']         \n",
            " ion)                           256)                                                              \n",
            "                                                                                                  \n",
            " res4e_branch2b_relu (Activatio  (None, None, None,   0          ['bn4e_branch2b[0][0]']          \n",
            " n)                             256)                                                              \n",
            "                                                                                                  \n",
            " res4e_branch2c (Conv2D)        (None, None, None,   262144      ['res4e_branch2b_relu[0][0]']    \n",
            "                                1024)                                                             \n",
            "                                                                                                  \n",
            " bn4e_branch2c (BatchNormalizat  (None, None, None,   4096       ['res4e_branch2c[0][0]']         \n",
            " ion)                           1024)                                                             \n",
            "                                                                                                  \n",
            " res4e (Add)                    (None, None, None,   0           ['bn4e_branch2c[0][0]',          \n",
            "                                1024)                             'res4d_relu[0][0]']             \n",
            "                                                                                                  \n",
            " res4e_relu (Activation)        (None, None, None,   0           ['res4e[0][0]']                  \n",
            "                                1024)                                                             \n",
            "                                                                                                  \n",
            " res4f_branch2a (Conv2D)        (None, None, None,   262144      ['res4e_relu[0][0]']             \n",
            "                                256)                                                              \n",
            "                                                                                                  \n",
            " bn4f_branch2a (BatchNormalizat  (None, None, None,   1024       ['res4f_branch2a[0][0]']         \n",
            " ion)                           256)                                                              \n",
            "                                                                                                  \n",
            " res4f_branch2a_relu (Activatio  (None, None, None,   0          ['bn4f_branch2a[0][0]']          \n",
            " n)                             256)                                                              \n",
            "                                                                                                  \n",
            " padding4f_branch2b (ZeroPaddin  (None, None, None,   0          ['res4f_branch2a_relu[0][0]']    \n",
            " g2D)                           256)                                                              \n",
            "                                                                                                  \n",
            " res4f_branch2b (Conv2D)        (None, None, None,   589824      ['padding4f_branch2b[0][0]']     \n",
            "                                256)                                                              \n",
            "                                                                                                  \n",
            " bn4f_branch2b (BatchNormalizat  (None, None, None,   1024       ['res4f_branch2b[0][0]']         \n",
            " ion)                           256)                                                              \n",
            "                                                                                                  \n",
            " res4f_branch2b_relu (Activatio  (None, None, None,   0          ['bn4f_branch2b[0][0]']          \n",
            " n)                             256)                                                              \n",
            "                                                                                                  \n",
            " res4f_branch2c (Conv2D)        (None, None, None,   262144      ['res4f_branch2b_relu[0][0]']    \n",
            "                                1024)                                                             \n",
            "                                                                                                  \n",
            " bn4f_branch2c (BatchNormalizat  (None, None, None,   4096       ['res4f_branch2c[0][0]']         \n",
            " ion)                           1024)                                                             \n",
            "                                                                                                  \n",
            " res4f (Add)                    (None, None, None,   0           ['bn4f_branch2c[0][0]',          \n",
            "                                1024)                             'res4e_relu[0][0]']             \n",
            "                                                                                                  \n",
            " res4f_relu (Activation)        (None, None, None,   0           ['res4f[0][0]']                  \n",
            "                                1024)                                                             \n",
            "                                                                                                  \n",
            " res5a_branch2a (Conv2D)        (None, None, None,   524288      ['res4f_relu[0][0]']             \n",
            "                                512)                                                              \n",
            "                                                                                                  \n",
            " bn5a_branch2a (BatchNormalizat  (None, None, None,   2048       ['res5a_branch2a[0][0]']         \n",
            " ion)                           512)                                                              \n",
            "                                                                                                  \n",
            " res5a_branch2a_relu (Activatio  (None, None, None,   0          ['bn5a_branch2a[0][0]']          \n",
            " n)                             512)                                                              \n",
            "                                                                                                  \n",
            " padding5a_branch2b (ZeroPaddin  (None, None, None,   0          ['res5a_branch2a_relu[0][0]']    \n",
            " g2D)                           512)                                                              \n",
            "                                                                                                  \n",
            " res5a_branch2b (Conv2D)        (None, None, None,   2359296     ['padding5a_branch2b[0][0]']     \n",
            "                                512)                                                              \n",
            "                                                                                                  \n",
            " bn5a_branch2b (BatchNormalizat  (None, None, None,   2048       ['res5a_branch2b[0][0]']         \n",
            " ion)                           512)                                                              \n",
            "                                                                                                  \n",
            " res5a_branch2b_relu (Activatio  (None, None, None,   0          ['bn5a_branch2b[0][0]']          \n",
            " n)                             512)                                                              \n",
            "                                                                                                  \n",
            " res5a_branch2c (Conv2D)        (None, None, None,   1048576     ['res5a_branch2b_relu[0][0]']    \n",
            "                                2048)                                                             \n",
            "                                                                                                  \n",
            " res5a_branch1 (Conv2D)         (None, None, None,   2097152     ['res4f_relu[0][0]']             \n",
            "                                2048)                                                             \n",
            "                                                                                                  \n",
            " bn5a_branch2c (BatchNormalizat  (None, None, None,   8192       ['res5a_branch2c[0][0]']         \n",
            " ion)                           2048)                                                             \n",
            "                                                                                                  \n",
            " bn5a_branch1 (BatchNormalizati  (None, None, None,   8192       ['res5a_branch1[0][0]']          \n",
            " on)                            2048)                                                             \n",
            "                                                                                                  \n",
            " res5a (Add)                    (None, None, None,   0           ['bn5a_branch2c[0][0]',          \n",
            "                                2048)                             'bn5a_branch1[0][0]']           \n",
            "                                                                                                  \n",
            " res5a_relu (Activation)        (None, None, None,   0           ['res5a[0][0]']                  \n",
            "                                2048)                                                             \n",
            "                                                                                                  \n",
            " res5b_branch2a (Conv2D)        (None, None, None,   1048576     ['res5a_relu[0][0]']             \n",
            "                                512)                                                              \n",
            "                                                                                                  \n",
            " bn5b_branch2a (BatchNormalizat  (None, None, None,   2048       ['res5b_branch2a[0][0]']         \n",
            " ion)                           512)                                                              \n",
            "                                                                                                  \n",
            " res5b_branch2a_relu (Activatio  (None, None, None,   0          ['bn5b_branch2a[0][0]']          \n",
            " n)                             512)                                                              \n",
            "                                                                                                  \n",
            " padding5b_branch2b (ZeroPaddin  (None, None, None,   0          ['res5b_branch2a_relu[0][0]']    \n",
            " g2D)                           512)                                                              \n",
            "                                                                                                  \n",
            " res5b_branch2b (Conv2D)        (None, None, None,   2359296     ['padding5b_branch2b[0][0]']     \n",
            "                                512)                                                              \n",
            "                                                                                                  \n",
            " bn5b_branch2b (BatchNormalizat  (None, None, None,   2048       ['res5b_branch2b[0][0]']         \n",
            " ion)                           512)                                                              \n",
            "                                                                                                  \n",
            " res5b_branch2b_relu (Activatio  (None, None, None,   0          ['bn5b_branch2b[0][0]']          \n",
            " n)                             512)                                                              \n",
            "                                                                                                  \n",
            " res5b_branch2c (Conv2D)        (None, None, None,   1048576     ['res5b_branch2b_relu[0][0]']    \n",
            "                                2048)                                                             \n",
            "                                                                                                  \n",
            " bn5b_branch2c (BatchNormalizat  (None, None, None,   8192       ['res5b_branch2c[0][0]']         \n",
            " ion)                           2048)                                                             \n",
            "                                                                                                  \n",
            " res5b (Add)                    (None, None, None,   0           ['bn5b_branch2c[0][0]',          \n",
            "                                2048)                             'res5a_relu[0][0]']             \n",
            "                                                                                                  \n",
            " res5b_relu (Activation)        (None, None, None,   0           ['res5b[0][0]']                  \n",
            "                                2048)                                                             \n",
            "                                                                                                  \n",
            " res5c_branch2a (Conv2D)        (None, None, None,   1048576     ['res5b_relu[0][0]']             \n",
            "                                512)                                                              \n",
            "                                                                                                  \n",
            " bn5c_branch2a (BatchNormalizat  (None, None, None,   2048       ['res5c_branch2a[0][0]']         \n",
            " ion)                           512)                                                              \n",
            "                                                                                                  \n",
            " res5c_branch2a_relu (Activatio  (None, None, None,   0          ['bn5c_branch2a[0][0]']          \n",
            " n)                             512)                                                              \n",
            "                                                                                                  \n",
            " padding5c_branch2b (ZeroPaddin  (None, None, None,   0          ['res5c_branch2a_relu[0][0]']    \n",
            " g2D)                           512)                                                              \n",
            "                                                                                                  \n",
            " res5c_branch2b (Conv2D)        (None, None, None,   2359296     ['padding5c_branch2b[0][0]']     \n",
            "                                512)                                                              \n",
            "                                                                                                  \n",
            " bn5c_branch2b (BatchNormalizat  (None, None, None,   2048       ['res5c_branch2b[0][0]']         \n",
            " ion)                           512)                                                              \n",
            "                                                                                                  \n",
            " res5c_branch2b_relu (Activatio  (None, None, None,   0          ['bn5c_branch2b[0][0]']          \n",
            " n)                             512)                                                              \n",
            "                                                                                                  \n",
            " res5c_branch2c (Conv2D)        (None, None, None,   1048576     ['res5c_branch2b_relu[0][0]']    \n",
            "                                2048)                                                             \n",
            "                                                                                                  \n",
            " bn5c_branch2c (BatchNormalizat  (None, None, None,   8192       ['res5c_branch2c[0][0]']         \n",
            " ion)                           2048)                                                             \n",
            "                                                                                                  \n",
            " res5c (Add)                    (None, None, None,   0           ['bn5c_branch2c[0][0]',          \n",
            "                                2048)                             'res5b_relu[0][0]']             \n",
            "                                                                                                  \n",
            " res5c_relu (Activation)        (None, None, None,   0           ['res5c[0][0]']                  \n",
            "                                2048)                                                             \n",
            "                                                                                                  \n",
            " C5_reduced (Conv2D)            (None, None, None,   524544      ['res5c_relu[0][0]']             \n",
            "                                256)                                                              \n",
            "                                                                                                  \n",
            " P5_upsampled (UpsampleLike)    (None, None, None,   0           ['C5_reduced[0][0]',             \n",
            "                                256)                              'res4f_relu[0][0]']             \n",
            "                                                                                                  \n",
            " C4_reduced (Conv2D)            (None, None, None,   262400      ['res4f_relu[0][0]']             \n",
            "                                256)                                                              \n",
            "                                                                                                  \n",
            " P4_merged (Add)                (None, None, None,   0           ['P5_upsampled[0][0]',           \n",
            "                                256)                              'C4_reduced[0][0]']             \n",
            "                                                                                                  \n",
            " P4_upsampled (UpsampleLike)    (None, None, None,   0           ['P4_merged[0][0]',              \n",
            "                                256)                              'res3d_relu[0][0]']             \n",
            "                                                                                                  \n",
            " C3_reduced (Conv2D)            (None, None, None,   131328      ['res3d_relu[0][0]']             \n",
            "                                256)                                                              \n",
            "                                                                                                  \n",
            " P6 (Conv2D)                    (None, None, None,   4718848     ['res5c_relu[0][0]']             \n",
            "                                256)                                                              \n",
            "                                                                                                  \n",
            " P3_merged (Add)                (None, None, None,   0           ['P4_upsampled[0][0]',           \n",
            "                                256)                              'C3_reduced[0][0]']             \n",
            "                                                                                                  \n",
            " C6_relu (Activation)           (None, None, None,   0           ['P6[0][0]']                     \n",
            "                                256)                                                              \n",
            "                                                                                                  \n",
            " P3 (Conv2D)                    (None, None, None,   590080      ['P3_merged[0][0]']              \n",
            "                                256)                                                              \n",
            "                                                                                                  \n",
            " P4 (Conv2D)                    (None, None, None,   590080      ['P4_merged[0][0]']              \n",
            "                                256)                                                              \n",
            "                                                                                                  \n",
            " P5 (Conv2D)                    (None, None, None,   590080      ['C5_reduced[0][0]']             \n",
            "                                256)                                                              \n",
            "                                                                                                  \n",
            " P7 (Conv2D)                    (None, None, None,   590080      ['C6_relu[0][0]']                \n",
            "                                256)                                                              \n",
            "                                                                                                  \n",
            " regression_submodel (Functiona  (None, None, 4)     2443300     ['P3[0][0]',                     \n",
            " l)                                                               'P4[0][0]',                     \n",
            "                                                                  'P5[0][0]',                     \n",
            "                                                                  'P6[0][0]',                     \n",
            "                                                                  'P7[0][0]']                     \n",
            "                                                                                                  \n",
            " classification_submodel (Funct  (None, None, 10)    2567770     ['P3[0][0]',                     \n",
            " ional)                                                           'P4[0][0]',                     \n",
            "                                                                  'P5[0][0]',                     \n",
            "                                                                  'P6[0][0]',                     \n",
            "                                                                  'P7[0][0]']                     \n",
            "                                                                                                  \n",
            " regression (Concatenate)       (None, None, 4)      0           ['regression_submodel[0][0]',    \n",
            "                                                                  'regression_submodel[1][0]',    \n",
            "                                                                  'regression_submodel[2][0]',    \n",
            "                                                                  'regression_submodel[3][0]',    \n",
            "                                                                  'regression_submodel[4][0]']    \n",
            "                                                                                                  \n",
            " classification (Concatenate)   (None, None, 10)     0           ['classification_submodel[0][0]',\n",
            "                                                                  'classification_submodel[1][0]',\n",
            "                                                                  'classification_submodel[2][0]',\n",
            "                                                                  'classification_submodel[3][0]',\n",
            "                                                                  'classification_submodel[4][0]']\n",
            "                                                                                                  \n",
            "==================================================================================================\n",
            "Total params: 36,569,662\n",
            "Trainable params: 13,008,510\n",
            "Non-trainable params: 23,561,152\n",
            "__________________________________________________________________________________________________\n",
            "None\n",
            "/usr/local/lib/python3.7/dist-packages/keras_retinanet/bin/train.py:548: UserWarning: `Model.fit_generator` is deprecated and will be removed in a future version. Please use `Model.fit`, which supports generators.\n",
            "  initial_epoch=args.initial_epoch\n",
            "Epoch 1/10\n",
            "1000/1000 [==============================] - ETA: 0s - loss: 1.0707 - regression_loss: 0.6848 - classification_loss: 0.3859\n",
            "Epoch 1: saving model to ./snapshots/resnet50_csv_01.h5\n",
            "1000/1000 [==============================] - 2217s 2s/step - loss: 1.0707 - regression_loss: 0.6848 - classification_loss: 0.3859 - lr: 1.0000e-05\n",
            "Epoch 2/10\n",
            "1000/1000 [==============================] - ETA: 0s - loss: 0.6678 - regression_loss: 0.4757 - classification_loss: 0.1921\n",
            "Epoch 2: saving model to ./snapshots/resnet50_csv_02.h5\n",
            "1000/1000 [==============================] - 2204s 2s/step - loss: 0.6678 - regression_loss: 0.4757 - classification_loss: 0.1921 - lr: 1.0000e-05\n",
            "Epoch 3/10\n",
            "1000/1000 [==============================] - ETA: 0s - loss: 0.6007 - regression_loss: 0.4457 - classification_loss: 0.1550\n",
            "Epoch 3: saving model to ./snapshots/resnet50_csv_03.h5\n",
            "1000/1000 [==============================] - 2222s 2s/step - loss: 0.6007 - regression_loss: 0.4457 - classification_loss: 0.1550 - lr: 1.0000e-05\n",
            "Epoch 4/10\n",
            "1000/1000 [==============================] - ETA: 0s - loss: 0.5634 - regression_loss: 0.4270 - classification_loss: 0.1364\n",
            "Epoch 4: saving model to ./snapshots/resnet50_csv_04.h5\n",
            "1000/1000 [==============================] - 2223s 2s/step - loss: 0.5634 - regression_loss: 0.4270 - classification_loss: 0.1364 - lr: 1.0000e-05\n",
            "Epoch 5/10\n",
            "1000/1000 [==============================] - ETA: 0s - loss: 0.5402 - regression_loss: 0.4159 - classification_loss: 0.1243\n",
            "Epoch 5: saving model to ./snapshots/resnet50_csv_05.h5\n",
            "1000/1000 [==============================] - 2221s 2s/step - loss: 0.5402 - regression_loss: 0.4159 - classification_loss: 0.1243 - lr: 1.0000e-05\n",
            "Epoch 6/10\n",
            " 318/1000 [========>.....................] - ETA: 25:10 - loss: 0.5321 - regression_loss: 0.4134 - classification_loss: 0.1187"
          ]
        }
      ],
      "source": [
        "!retinanet-train  --freeze-backbone --random-transform --weights {model0_path} --batch-size 10 --steps 1000 --epochs 10 csv img.csv classes.csv"
      ]
    },
    {
      "cell_type": "code",
      "source": [
        "!cp ./snapshots/resnet50_csv_10.h5 /content/drive/MyDrive/models"
      ],
      "metadata": {
        "id": "pvMW8wd5zIW1"
      },
      "execution_count": 16,
      "outputs": []
    },
    {
      "cell_type": "markdown",
      "metadata": {
        "id": "r6X87EgGO98N"
      },
      "source": [
        "# **check**"
      ]
    },
    {
      "cell_type": "code",
      "source": [
        "!cp /content/drive/MyDrive/models/resnet50_csv_05.h5 ./snapshots "
      ],
      "metadata": {
        "id": "Bzbgtok1tr1r"
      },
      "execution_count": 13,
      "outputs": []
    },
    {
      "cell_type": "code",
      "source": [
        "! pwd # хде я"
      ],
      "metadata": {
        "colab": {
          "base_uri": "https://localhost:8080/"
        },
        "id": "9O4sK7paibJJ",
        "outputId": "a305e7c5-b14d-4dd3-8943-6c321d09b983"
      },
      "execution_count": null,
      "outputs": [
        {
          "output_type": "stream",
          "name": "stdout",
          "text": [
            "/content/keras-retinanet\n"
          ]
        }
      ]
    },
    {
      "cell_type": "code",
      "source": [
        "#!retinanet-convert-model ./snapshots/resnet50_csv_05.h5 ./snapshots/detect.h5"
      ],
      "metadata": {
        "id": "zF_gggVKpym6"
      },
      "execution_count": 31,
      "outputs": []
    },
    {
      "cell_type": "code",
      "execution_count": 14,
      "metadata": {
        "id": "fEcZ0f7hP68U"
      },
      "outputs": [],
      "source": [
        "#!cd snapshots && curl -L -O https://github.com/fizyr/keras-retinanet/releases/download/0.5.1/resnet50_coco_best_v2.1.0.h5\n",
        "\n",
        "# adjust this to point to your downloaded/trained model\n",
        "# models can be downloaded here: https://github.com/fizyr/keras-retinanet/releases\n",
        "model_path = './snapshots/resnet50_csv_05.h5'\n",
        "#model_path = './snapshots/resnet50_csv_05.h5'\n",
        "# load retinanet model\n",
        "model = models.load_model(model_path, backbone_name='resnet50')\n",
        "model = models.convert_model(model)\n",
        "# if the model is not converted to an inference model, use the line below\n",
        "# see: https://github.com/fizyr/keras-retinanet#converting-a-training-model-to-inference-model\n",
        "#model = models.convert_model(model)\n",
        "\n",
        "#print(model.summary())"
      ]
    },
    {
      "cell_type": "code",
      "execution_count": 18,
      "metadata": {
        "colab": {
          "base_uri": "https://localhost:8080/",
          "height": 306
        },
        "id": "iO2HBbzkLRrt",
        "outputId": "f15e0b31-26e3-460a-ded5-a2bfd6ed0ba9"
      },
      "outputs": [
        {
          "output_type": "stream",
          "name": "stdout",
          "text": [
            "[[4, 38, 31, 33], [4, 39, 66, 186], [7, 39, 154, 53], [8, 49, 155, 130], [9, 40, 22, 120], [1, 48, 206, 54], [4, 49, 77, 129], [7, 34, 149, 3]]\n"
          ]
        },
        {
          "output_type": "execute_result",
          "data": {
            "text/plain": [
              "<matplotlib.image.AxesImage at 0x7f53259de390>"
            ]
          },
          "metadata": {},
          "execution_count": 18
        },
        {
          "output_type": "display_data",
          "data": {
            "image/png": "[encoded data removed]",
            "text/plain": [
              "<Figure size 432x288 with 1 Axes>"
            ]
          },
          "metadata": {
            "needs_background": "light"
          }
        }
      ],
      "source": [
        "nums,img = getimg()\n",
        "print(nums)\n",
        "plt.imshow(img)"
      ]
    },
    {
      "cell_type": "code",
      "execution_count": 19,
      "metadata": {
        "colab": {
          "base_uri": "https://localhost:8080/",
          "height": 1000
        },
        "id": "jkXaR44wPGo2",
        "outputId": "f0951c8c-8304-492d-9d95-de747a5886d4"
      },
      "outputs": [
        {
          "output_type": "stream",
          "name": "stdout",
          "text": [
            "processing time:  4.502742767333984\n",
            "---\n",
            "---\n",
            "1 0.925\n",
            "---\n",
            "---\n",
            "8 0.891\n",
            "---\n",
            "---\n",
            "4 0.862\n",
            "---\n",
            "---\n",
            "4 0.862\n",
            "---\n",
            "---\n",
            "4 0.809\n",
            "---\n",
            "---\n",
            "7 0.638\n",
            "---\n",
            "---\n",
            "6 0.620\n",
            "---\n",
            "---\n",
            "6 0.546\n",
            "---\n",
            "---\n",
            "9 0.513\n",
            "---\n"
          ]
        },
        {
          "output_type": "display_data",
          "data": {
            "image/png": "[encoded data removed]",
            "text/plain": [
              "<Figure size 1080x1080 with 1 Axes>"
            ]
          },
          "metadata": {
            "needs_background": "light"
          }
        }
      ],
      "source": [
        "image = cv2.resize(img, (512,512))\n",
        "#image = cv2.transpose(image)\n",
        "#image = img\n",
        "# copy to draw on\n",
        "draw = image.copy()\n",
        "draw = cv2.cvtColor(draw, cv2.COLOR_BGR2RGB)\n",
        "\n",
        "# preprocess image for network\n",
        "image = preprocess_image(image)\n",
        "image, scale = resize_image(image)\n",
        "\n",
        "# process image\n",
        "start = time.time()\n",
        "boxes, scores, labels = model.predict_on_batch(np.expand_dims(image, axis=0))\n",
        "print(\"processing time: \", time.time() - start)\n",
        "\n",
        "# correct for image scale\n",
        "boxes /= scale\n",
        "\n",
        "# visualize detections\n",
        "for box, score, label in zip(boxes[0], scores[0], labels[0]):\n",
        "    # scores are sorted so we can break\n",
        "    print('---')\n",
        "    if score < 0.5:\n",
        "        break\n",
        "        \n",
        "    color = label_color(label)\n",
        "    \n",
        "    b = box.astype(int)\n",
        "    draw_box(draw, b, color=color)\n",
        "    print('---')\n",
        "    caption = \"{} {:.3f}\".format(label, score)\n",
        "    print(caption)\n",
        "    draw_caption(draw, b, caption)\n",
        "    \n",
        "plt.figure(figsize=(15, 15))\n",
        "plt.axis('off')\n",
        "plt.imshow(draw)\n",
        "plt.show()"
      ]
    }
  ],
  "metadata": {
    "colab": {
      "collapsed_sections": [
        "AVcs7lzsNDIn",
        "-tNKsmDb9IlY"
      ],
      "name": "дообуч1.ipynb",
      "provenance": [],
      "mount_file_id": "1nAFObwz2ku-x_sa9hD-oiUNvD5w7Zjai",
      "authorship_tag": "ABX9TyOq9DiuiJtPwZ5Q+gfoaXG8",
      "include_colab_link": true
    },
    "kernelspec": {
      "display_name": "Python 3",
      "name": "python3"
    },
    "language_info": {
      "name": "python"
    },
    "accelerator": "GPU"
  },
  "nbformat": 4,
  "nbformat_minor": 0
}