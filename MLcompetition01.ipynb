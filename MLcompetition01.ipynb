{
  "cells": [
    {
      "cell_type": "markdown",
      "source": [
        "https://www.kaggle.com/competitions/share2022mlcomp01"
      ],
      "metadata": {
        "id": "9s1wdUx-wEHs"
      }
    },
    {
      "cell_type": "markdown",
      "metadata": {
        "id": "7bx1wH7j2SjB"
      },
      "source": [
        "get data"
      ]
    },
    {
      "cell_type": "code",
      "execution_count": null,
      "metadata": {
        "id": "yGrqTSxPItjL"
      },
      "outputs": [],
      "source": [
        "! cd /content/drive/MyDrive/kaggle/"
      ]
    },
    {
      "cell_type": "code",
      "execution_count": null,
      "metadata": {
        "id": "8Or56FyKJ5GU"
      },
      "outputs": [],
      "source": [
        "import os\n",
        "os.environ['KAGGLE_CONFIG_DIR'] = \"/content/drive/MyDrive/kaggle/\""
      ]
    },
    {
      "cell_type": "code",
      "execution_count": null,
      "metadata": {
        "id": "HrbA9KCsHCJx",
        "colab": {
          "base_uri": "https://localhost:8080/"
        },
        "outputId": "e018d0b7-007b-447a-9ec4-b7c29b03712e"
      },
      "outputs": [
        {
          "output_type": "stream",
          "name": "stdout",
          "text": [
            "Downloading share2022mlcomp01.zip to /content\n",
            " 87% 40.0M/46.2M [00:00<00:00, 138MB/s]\n",
            "100% 46.2M/46.2M [00:00<00:00, 125MB/s]\n"
          ]
        }
      ],
      "source": [
        "! kaggle competitions download -c share2022mlcomp01"
      ]
    },
    {
      "cell_type": "code",
      "execution_count": null,
      "metadata": {
        "id": "Mnx6HIQq2LBt",
        "colab": {
          "base_uri": "https://localhost:8080/"
        },
        "outputId": "de814620-8415-4f94-bfe6-0fb1c9102961"
      },
      "outputs": [
        {
          "output_type": "stream",
          "name": "stdout",
          "text": [
            "Archive:  share2022mlcomp01.zip\n",
            "  inflating: sample_sabmission.csv   \n",
            "  inflating: test.csv                \n",
            "  inflating: train.csv               \n"
          ]
        }
      ],
      "source": [
        "! unzip share2022mlcomp01.zip"
      ]
    },
    {
      "cell_type": "code",
      "execution_count": null,
      "metadata": {
        "id": "q7aybvUPjSZd"
      },
      "outputs": [],
      "source": [
        "import numpy as np\n",
        "import pandas as pd\n",
        "from sklearn.model_selection import train_test_split"
      ]
    },
    {
      "cell_type": "code",
      "execution_count": null,
      "metadata": {
        "id": "8gu4KjM5hRHK"
      },
      "outputs": [],
      "source": [
        "train = pd.read_csv('train.csv')\n",
        "test = pd.read_csv('test.csv')\n",
        "\n",
        "ytrain = train['label']\n",
        "train = train.drop('id', axis=1)\n",
        "train = train.drop('label', axis=1)\n",
        "test = test.drop('id', axis=1)\n",
        "#нормировать надо!!!!!!!!!!"
      ]
    },
    {
      "cell_type": "code",
      "execution_count": null,
      "metadata": {
        "id": "dmGZ9d0lksWe"
      },
      "outputs": [],
      "source": [
        "test"
      ]
    },
    {
      "cell_type": "code",
      "execution_count": null,
      "metadata": {
        "colab": {
          "base_uri": "https://localhost:8080/"
        },
        "id": "foS26ubgk51A",
        "outputId": "95a53058-b79c-49bd-ee07-26f0929bb8b6"
      },
      "outputs": [
        {
          "name": "stdout",
          "output_type": "stream",
          "text": [
            "[0, 1, 2, 3, 4, 5, 6, 7, 8, 9]\n"
          ]
        }
      ],
      "source": [
        "print(sorted(ytrain.unique()))"
      ]
    },
    {
      "cell_type": "code",
      "execution_count": null,
      "metadata": {
        "id": "wFvMAG4JlAVi"
      },
      "outputs": [],
      "source": [
        "from sklearn.impute import KNNImputer#, MissingIndicator\n",
        "# KNNImputer потому что этот способ вставить значения\n",
        "# куда лучше,чем просто какое либо среднее, но в то же время не слишком сложный\n",
        "# parameters can be adjusted later (n_neighbors=3 for faster search)\n",
        "# can be changed later\n",
        "\n",
        "#ctrl+/ for fast comment\n",
        "imputer = KNNImputer(n_neighbors=3)\n",
        "tr = imputer.fit_transform(train)\n",
        "train = pd.DataFrame(tr)\n",
        "#флаги пропусков это хорошо(и корелляция пропусков)\n",
        "#еще можно бы смотреть на данные(равномерность классов, корелляция,логистическая регрессия для ненужнвх фич?????, как то(кросс валидация; kfold) люди поняли, что первые 10к битые)"
      ]
    },
    {
      "cell_type": "code",
      "source": [
        "imputer = KNNImputer(n_neighbors=3)\n",
        "t = imputer.fit_transform(test)\n",
        "test = pd.DataFrame(t)"
      ],
      "metadata": {
        "id": "NVImS2ifYou5"
      },
      "execution_count": null,
      "outputs": []
    },
    {
      "cell_type": "code",
      "execution_count": null,
      "metadata": {
        "id": "xUg9RyBg4RTn"
      },
      "outputs": [],
      "source": [
        "train.to_csv('trainNaN.csv', index = False)"
      ]
    },
    {
      "cell_type": "code",
      "execution_count": null,
      "metadata": {
        "id": "Ar_F5RM94PaP"
      },
      "outputs": [],
      "source": [
        "!\tcp trainNaN.csv /content/drive/MyDrive/kaggle/"
      ]
    },
    {
      "cell_type": "code",
      "execution_count": null,
      "metadata": {
        "id": "YG9kVZ1E9-e6"
      },
      "outputs": [],
      "source": [
        "from sklearn.model_selection import train_test_split\n",
        "X_train, X_val, y_train, y_val = train_test_split(train, ytrain, test_size=0.2)"
      ]
    },
    {
      "cell_type": "markdown",
      "metadata": {
        "id": "Aw75iO_R9KqK"
      },
      "source": [
        "данные подготовленны.Невозможно аугментировать из-за того, что признаки не несут функциональной нагрузки. Поиск алгоритма."
      ]
    },
    {
      "cell_type": "code",
      "execution_count": null,
      "metadata": {
        "id": "mJ0-pm1nFtcy"
      },
      "outputs": [],
      "source": [
        "from sklearn.neighbors import KNeighborsClassifier\n",
        "from sklearn.linear_model import RidgeClassifier\n",
        "from sklearn.metrics import accuracy_score\n",
        "from sklearn.model_selection import RandomizedSearchCV"
      ]
    },
    {
      "cell_type": "code",
      "execution_count": null,
      "metadata": {
        "id": "gEiTJKpc8jFN"
      },
      "outputs": [],
      "source": [
        "#ут я пыталась искать сеткой, но долго крутилось P.S. тут я еще меняла параметр р для метрики\n",
        "for w in ['uniform','distance']:\n",
        "    for k in range(15,36,6):\n",
        "        l = KNeighborsClassifier(n_neighbors=k, weights=w, p=2)#p=2(for metric), metric='minkowski'\n",
        "        l.fit(X_train, y_train)\n",
        "        y_pred = l.predict(X_val)\n",
        "        print('w =', w, 'k =', k, 'acc =', accuracy_score(y_val, y_pred))"
      ]
    },
    {
      "cell_type": "code",
      "source": [
        "X_train"
      ],
      "metadata": {
        "id": "CWnbWVn6Gyz4"
      },
      "execution_count": null,
      "outputs": []
    },
    {
      "cell_type": "code",
      "source": [
        "#мне подсказали про RandomSearch\n",
        "model = KNeighborsClassifier()\n",
        "params = { 'n_neighbors': [*range(15,36,6)], 'weights': ['uniform','distance'], 'metric': ['minkowski', 'cityblock', 'manhattan']}\n",
        "search = RandomizedSearchCV(model, params, n_iter = 10)\n",
        "s = search.fit(X_train, y_train)\n",
        "s.best_params_"
      ],
      "metadata": {
        "colab": {
          "base_uri": "https://localhost:8080/"
        },
        "id": "EDyueSCo7ieD",
        "outputId": "a9b716d7-8323-48b3-df8c-b013a60683aa"
      },
      "execution_count": null,
      "outputs": [
        {
          "output_type": "execute_result",
          "data": {
            "text/plain": [
              "{'weights': 'distance', 'n_neighbors': 21, 'metric': 'minkowski'}"
            ]
          },
          "metadata": {},
          "execution_count": 12
        }
      ]
    },
    {
      "cell_type": "code",
      "execution_count": null,
      "metadata": {
        "id": "nuIomB7eok7a",
        "colab": {
          "base_uri": "https://localhost:8080/"
        },
        "outputId": "1a2f0298-1f8e-4775-84df-41ad26381f09"
      },
      "outputs": [
        {
          "output_type": "execute_result",
          "data": {
            "text/plain": [
              "0.761375"
            ]
          },
          "metadata": {},
          "execution_count": 13
        }
      ],
      "source": [
        "s.best_score_"
      ]
    },
    {
      "cell_type": "code",
      "source": [
        "#тут я решила, что мало метрик передала и почему бы не посмотреть поближе, ну и почему бы чуть чуть(поиск все таки норм нашел) не поднять количество соседей(в первом пункте была динамика на чем больше тем лучше)\n",
        "for m in ['minkowski', 'cosine', 'cityblock', 'euclidean', 'manhattan']:\n",
        "    model = KNeighborsClassifier(n_neighbors = 27, weights = 'distance', metric = m)\n",
        "    model.fit(X_train, y_train)\n",
        "    y_pred = model.predict(X_val)\n",
        "    print('m=', m, 'acc =', accuracy_score(y_val, y_pred))"
      ],
      "metadata": {
        "colab": {
          "base_uri": "https://localhost:8080/"
        },
        "id": "Qw0o6yEBUg5h",
        "outputId": "dc8148f2-2b6b-4e0d-ab46-95f4009ca2cb"
      },
      "execution_count": null,
      "outputs": [
        {
          "output_type": "stream",
          "name": "stdout",
          "text": [
            "m= minkowski acc = 0.7586\n",
            "m= cosine acc = 0.7603\n"
          ]
        }
      ]
    },
    {
      "cell_type": "code",
      "source": [
        "model = KNeighborsClassifier(n_neighbors = 27, weights = 'distance', metric = 'cosine')\n",
        "model.fit(train, ytrain)\n",
        "y = model.predict(test)"
      ],
      "metadata": {
        "id": "ZvFb8E9BYNuH"
      },
      "execution_count": null,
      "outputs": []
    },
    {
      "cell_type": "code",
      "source": [
        "y"
      ],
      "metadata": {
        "colab": {
          "base_uri": "https://localhost:8080/"
        },
        "id": "daGu4-gVY4P8",
        "outputId": "5048c719-42c9-41de-91ce-36c358833d98"
      },
      "execution_count": null,
      "outputs": [
        {
          "output_type": "execute_result",
          "data": {
            "text/plain": [
              "array([1, 8, 9, ..., 5, 3, 3])"
            ]
          },
          "metadata": {},
          "execution_count": 28
        }
      ]
    },
    {
      "cell_type": "code",
      "source": [
        "d = {'id': [*range(len(y))], 'label': y}\n",
        "df = pd.DataFrame(d)\n",
        "df"
      ],
      "metadata": {
        "id": "5ITfqydiY5Lu"
      },
      "execution_count": null,
      "outputs": []
    },
    {
      "cell_type": "code",
      "source": [
        "df.to_csv('Козырева_Елизавета.csv', index = False)"
      ],
      "metadata": {
        "id": "RPbuTZDdZtnB"
      },
      "execution_count": null,
      "outputs": []
    }
  ],
  "metadata": {
    "colab": {
      "provenance": []
    },
    "kernelspec": {
      "display_name": "Python 3",
      "name": "python3"
    },
    "language_info": {
      "name": "python"
    }
  },
  "nbformat": 4,
  "nbformat_minor": 0
}